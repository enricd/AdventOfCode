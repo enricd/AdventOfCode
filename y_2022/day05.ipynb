{
 "cells": [
  {
   "cell_type": "code",
   "execution_count": 1,
   "metadata": {},
   "outputs": [],
   "source": [
    "with open(\"./data_inputs/day05_input.txt\") as f:\n",
    "    input_raw = f.read()"
   ]
  },
  {
   "cell_type": "code",
   "execution_count": 2,
   "metadata": {},
   "outputs": [
    {
     "data": {
      "text/plain": [
       "{'1': ['Z', 'J', 'G'],\n",
       " '2': ['Q', 'L', 'R', 'P', 'W', 'F', 'V', 'C'],\n",
       " '3': ['F', 'P', 'M', 'C', 'L', 'G', 'R'],\n",
       " '4': ['L', 'F', 'B', 'W', 'P', 'H', 'M'],\n",
       " '5': ['G', 'C', 'F', 'S', 'V', 'Q'],\n",
       " '6': ['W', 'H', 'J', 'Z', 'M', 'Q', 'T', 'L'],\n",
       " '7': ['H', 'F', 'S', 'B', 'V'],\n",
       " '8': ['F', 'J', 'Z', 'S'],\n",
       " '9': ['M', 'C', 'D', 'P', 'F', 'H', 'B', 'T']}"
      ]
     },
     "execution_count": 2,
     "metadata": {},
     "output_type": "execute_result"
    }
   ],
   "source": [
    "# Loading initial conditions into a dict of stacks of crates\n",
    "\n",
    "def generate_initial_crate_stacks(input_raw):\n",
    "    initial_cargo = input_raw.split(\"\\n\")[:9]\n",
    "    crate_stacks = {str(i+1): [] for i in range(9)}\n",
    "\n",
    "    for h in range(1, 35, 4):\n",
    "        stack_i = initial_cargo[8][h]\n",
    "        for v in range(7, -1, -1):\n",
    "            crate = initial_cargo[v][h]\n",
    "            if crate != \" \":\n",
    "                crate_stacks[stack_i].append(crate)\n",
    "\n",
    "    return crate_stacks\n",
    "\n",
    "generate_initial_crate_stacks(input_raw)"
   ]
  },
  {
   "cell_type": "code",
   "execution_count": 3,
   "metadata": {},
   "outputs": [
    {
     "data": {
      "text/plain": [
       "[('1', '5', '6'), ('5', '6', '7'), ('10', '7', '3')]"
      ]
     },
     "execution_count": 3,
     "metadata": {},
     "output_type": "execute_result"
    }
   ],
   "source": [
    "# Crane instructions\n",
    "\n",
    "def instruction_format(row):\n",
    "    instruction = row.replace(\"move \", \"\").replace(\" from \", \"_\").replace(\" to \", \"_\")\n",
    "    instruction = tuple(instruction.split(\"_\"))\n",
    "    # (move_n_crates, from_stack, to_stack)\n",
    "    return instruction\n",
    "\n",
    "instructions_raw = input_raw.split(\"\\n\")[10:]\n",
    "instructions = list(map(instruction_format, instructions_raw))\n",
    "\n",
    "# Printing an overview\n",
    "instructions[:3]"
   ]
  },
  {
   "cell_type": "code",
   "execution_count": 4,
   "metadata": {},
   "outputs": [
    {
     "name": "stdout",
     "output_type": "stream",
     "text": [
      "Result 1: WSFTMRHPP\n"
     ]
    }
   ],
   "source": [
    "# ---- Part 1 ----\n",
    "\n",
    "# Crane operations\n",
    "\n",
    "def crane_operation1(instruction, _crate_stacks):\n",
    "    num_crates, from_stack, to_stack = instruction\n",
    "    \n",
    "    for _ in range(int(num_crates)):\n",
    "        crate = _crate_stacks[from_stack].pop()\n",
    "        _crate_stacks[to_stack].append(crate)\n",
    "\n",
    "    return _crate_stacks\n",
    "\n",
    "crate_stacks = generate_initial_crate_stacks(input_raw)\n",
    "for instruction in instructions:\n",
    "    crane_operation1(instruction, crate_stacks)\n",
    "\n",
    "top_crates1 = \"\".join([stack[-1] for stack in crate_stacks.values()])\n",
    "\n",
    "print(\"Result 1:\", top_crates1)"
   ]
  },
  {
   "cell_type": "code",
   "execution_count": 5,
   "metadata": {},
   "outputs": [
    {
     "name": "stdout",
     "output_type": "stream",
     "text": [
      "Result 1: GSLCMFBRP\n"
     ]
    }
   ],
   "source": [
    "# ---- Part 2 ----\n",
    "\n",
    "# Crane operations\n",
    "\n",
    "def crane_operation2(instruction, _crate_stacks):\n",
    "    num_crates, from_stack, to_stack = instruction\n",
    "    \n",
    "    temp_stack = []\n",
    "    for _ in range(int(num_crates)):\n",
    "        crate = _crate_stacks[from_stack].pop()\n",
    "        temp_stack.append(crate)\n",
    "    _crate_stacks[to_stack].extend(temp_stack[::-1])\n",
    "\n",
    "    return _crate_stacks\n",
    "\n",
    "crate_stacks = generate_initial_crate_stacks(input_raw)\n",
    "for instruction in instructions:\n",
    "    crane_operation2(instruction, crate_stacks)\n",
    "\n",
    "top_crates2 = \"\".join([stack[-1] for stack in crate_stacks.values()])\n",
    "\n",
    "print(\"Result 1:\", top_crates2)"
   ]
  }
 ],
 "metadata": {
  "kernelspec": {
   "display_name": "Python 3.11.0 64-bit",
   "language": "python",
   "name": "python3"
  },
  "language_info": {
   "codemirror_mode": {
    "name": "ipython",
    "version": 3
   },
   "file_extension": ".py",
   "mimetype": "text/x-python",
   "name": "python",
   "nbconvert_exporter": "python",
   "pygments_lexer": "ipython3",
   "version": "3.11.0"
  },
  "orig_nbformat": 4,
  "vscode": {
   "interpreter": {
    "hash": "3d1899a6c99b9db7e131d4b74e4e1b4f8aa84cf78ca3d48624777d2707d0553f"
   }
  }
 },
 "nbformat": 4,
 "nbformat_minor": 2
}
