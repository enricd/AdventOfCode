{
 "cells": [
  {
   "cell_type": "code",
   "execution_count": 1,
   "metadata": {},
   "outputs": [],
   "source": []
  },
  {
   "cell_type": "code",
   "execution_count": 2,
   "metadata": {},
   "outputs": [],
   "source": [
    "from tqdm import tqdm\n",
    "from functools import reduce\n",
    "\n",
    "with open(\"./data_inputs/day11_input.txt\") as f:\n",
    "    input_raw = f.read()"
   ]
  },
  {
   "cell_type": "code",
   "execution_count": 3,
   "metadata": {},
   "outputs": [],
   "source": [
    "ops = {\"+\": lambda x: lambda old: old + x,\n",
    "        \"-\": lambda x: lambda old: old - x,\n",
    "        \"*\": lambda x: lambda old: int(old * x),\n",
    "        \"/\": lambda x: lambda old: old // x,\n",
    "        \"**2\": lambda : lambda old: old * old,\n",
    "}\n",
    "\n",
    "def init_monkeys(input_raw):\n",
    "    monkeys = {}\n",
    "    curr_m = 0\n",
    "    for i, l in enumerate(input_raw.split(\"\\n\")):\n",
    "        j = i % 7\n",
    "        match j:\n",
    "            case 0: \n",
    "                curr_m = l[7]\n",
    "                monkeys[curr_m] = {}\n",
    "            case 1:\n",
    "                monkeys[curr_m][\"items\"] = list(map(int, l.split(\": \")[1].split(\", \")))\n",
    "                monkeys[curr_m][\"inspected_items\"] = 0 \n",
    "            case 2: \n",
    "                operation = l.split(\"old \")[1][0]\n",
    "                const = l.split(\" \")[-1]\n",
    "                if const == \"old\": \n",
    "                    monkeys[curr_m][\"operation\"] = ops[\"**2\"]()\n",
    "                else: \n",
    "                    monkeys[curr_m][\"operation\"] = ops[operation](int(const))\n",
    "            case 3:\n",
    "                monkeys[curr_m][\"div\"] = int(l.split(\"by \")[1])\n",
    "            case 4:\n",
    "                monkeys[curr_m][\"throw_true\"] = l.split(\" \")[-1]\n",
    "            case 5:\n",
    "                monkeys[curr_m][\"throw_false\"] = l.split(\" \")[-1]\n",
    "            case 6:\n",
    "                pass\n",
    "\n",
    "    return monkeys"
   ]
  },
  {
   "cell_type": "code",
   "execution_count": 4,
   "metadata": {},
   "outputs": [
    {
     "name": "stderr",
     "output_type": "stream",
     "text": [
      "100%|██████████| 20/20 [00:00<00:00, 19996.68it/s]"
     ]
    },
    {
     "name": "stdout",
     "output_type": "stream",
     "text": [
      "Result 1: 110264\n"
     ]
    },
    {
     "name": "stderr",
     "output_type": "stream",
     "text": [
      "\n"
     ]
    }
   ],
   "source": [
    "# ---- Part 1 ----\n",
    "\n",
    "monkeys = init_monkeys(input_raw)\n",
    "\n",
    "for round in tqdm(range(20)):\n",
    "    for m in monkeys:\n",
    "        monkeys[m][\"inspected_items\"] += len(monkeys[m][\"items\"])\n",
    "        for item in monkeys[m][\"items\"]:\n",
    "            worry_lvl = monkeys[m][\"operation\"](item) // 3\n",
    "            is_test = (worry_lvl % monkeys[m][\"div\"] == 0)\n",
    "            throw_to_m = monkeys[m][\"throw_true\"] if is_test else monkeys[m][\"throw_false\"]\n",
    "            monkeys[throw_to_m][\"items\"].append(worry_lvl) \n",
    "\n",
    "        monkeys[m][\"items\"] = []\n",
    "\n",
    "inspected_items_list = sorted([monkeys[m][\"inspected_items\"] for m in monkeys], reverse=True)\n",
    "\n",
    "print(\"Result 1:\", inspected_items_list[0] * inspected_items_list[1])"
   ]
  },
  {
   "cell_type": "code",
   "execution_count": 5,
   "metadata": {},
   "outputs": [
    {
     "name": "stderr",
     "output_type": "stream",
     "text": [
      "100%|██████████| 10000/10000 [00:00<00:00, 41244.44it/s]"
     ]
    },
    {
     "name": "stdout",
     "output_type": "stream",
     "text": [
      "Result 2: 23612457316\n"
     ]
    },
    {
     "name": "stderr",
     "output_type": "stream",
     "text": [
      "\n"
     ]
    }
   ],
   "source": [
    "# ---- Part 2 ----\n",
    "\n",
    "monkeys = init_monkeys(input_raw)\n",
    "div_primes = [monkeys[m][\"div\"] for m in monkeys]\n",
    "primes_prod = reduce((lambda x, y: x * y), div_primes)\n",
    "# We are only interested in knowing if every number will be divisible by the any of the div numbers from \n",
    "# each monkey, so now, as the numbers get incredibly large, we can divide them by the product of all div numbers\n",
    "# which are prime numbers and only keep the reminder which will be divisible or not in the same way by any of the divs \n",
    "\n",
    "for round in tqdm(range(10000)):\n",
    "    for m in monkeys:\n",
    "        monkeys[m][\"inspected_items\"] += len(monkeys[m][\"items\"])\n",
    "        for item in monkeys[m][\"items\"]:\n",
    "            worry_lvl = monkeys[m][\"operation\"](item)\n",
    "            is_test = (worry_lvl % monkeys[m][\"div\"] == 0)\n",
    "            throw_to_m = monkeys[m][\"throw_true\"] if is_test else monkeys[m][\"throw_false\"]\n",
    "            # Extracting the reminder of every number by the product of the div prime numbers to keep them small\n",
    "            monkeys[throw_to_m][\"items\"].append(worry_lvl % primes_prod)  \n",
    "            \n",
    "        monkeys[m][\"items\"] = []\n",
    "\n",
    "inspected_items_list = sorted([monkeys[m][\"inspected_items\"] for m in monkeys], reverse=True)\n",
    "\n",
    "print(\"Result 2:\", inspected_items_list[0] * inspected_items_list[1])"
   ]
  }
 ],
 "metadata": {
  "kernelspec": {
   "display_name": "venv",
   "language": "python",
   "name": "python3"
  },
  "language_info": {
   "codemirror_mode": {
    "name": "ipython",
    "version": 3
   },
   "file_extension": ".py",
   "mimetype": "text/x-python",
   "name": "python",
   "nbconvert_exporter": "python",
   "pygments_lexer": "ipython3",
   "version": "3.11.0 (main, Oct 24 2022, 18:26:48) [MSC v.1933 64 bit (AMD64)]"
  },
  "orig_nbformat": 4,
  "vscode": {
   "interpreter": {
    "hash": "3b4f4a0e0c7e2681f28ee705e5b990b63c79b3c3cb8de544204aeea2a081309f"
   }
  }
 },
 "nbformat": 4,
 "nbformat_minor": 2
}
