{
 "cells": [
  {
   "cell_type": "code",
   "execution_count": 1,
   "metadata": {},
   "outputs": [],
   "source": [
    "import numpy as np\n",
    "import matplotlib.pyplot as plt\n",
    "%matplotlib inline"
   ]
  },
  {
   "cell_type": "code",
   "execution_count": 2,
   "metadata": {},
   "outputs": [],
   "source": [
    "with open(\"./data_inputs/day10_input.txt\") as f:\n",
    "    input_raw = f.read()\n",
    "\n",
    "instructions = input_raw.split(\"\\n\")"
   ]
  },
  {
   "cell_type": "code",
   "execution_count": 3,
   "metadata": {},
   "outputs": [
    {
     "name": "stdout",
     "output_type": "stream",
     "text": [
      "Result 1: 15680\n"
     ]
    }
   ],
   "source": [
    "# ---- Part 1 ----\n",
    "\n",
    "cycle = 1\n",
    "register = 1\n",
    "signal_strength = 0\n",
    "\n",
    "for line in instructions:\n",
    "    if cycle in range(20, 221, 40):\n",
    "        signal_strength += (register * cycle)\n",
    "\n",
    "    if line == \"noop\":\n",
    "        cycle += 1\n",
    "\n",
    "    else:\n",
    "        instruction, val = line.split(\" \")\n",
    "        cycle += 1\n",
    "        if cycle in range(20, 221, 40):\n",
    "            signal_strength += (register * cycle)\n",
    "\n",
    "        cycle += 1\n",
    "        register += int(val)\n",
    "\n",
    "\n",
    "print(\"Result 1:\", signal_strength)\n"
   ]
  },
  {
   "cell_type": "code",
   "execution_count": 4,
   "metadata": {},
   "outputs": [
    {
     "name": "stdout",
     "output_type": "stream",
     "text": [
      "Result 2:\n"
     ]
    },
    {
     "data": {
      "image/png": "[encoded data removed]",
      "text/plain": [
       "<Figure size 640x480 with 1 Axes>"
      ]
     },
     "metadata": {},
     "output_type": "display_data"
    }
   ],
   "source": [
    "# ---- Part 2 ----\n",
    "\n",
    "cycle = 1\n",
    "register = 1\n",
    "screen = np.zeros((6, 40))\n",
    "H, W = screen.shape[0], screen.shape[1]\n",
    "\n",
    "def draw_pixel(screen, cycle, sprite_pos):\n",
    "    is_sprite_drawn = sprite_pos-1 <= ((cycle-1) % W) <= sprite_pos+1\n",
    "    screen[(cycle-1) // W, cycle % W] = is_sprite_drawn\n",
    "\n",
    "\n",
    "for line in instructions:\n",
    "    draw_pixel(screen, cycle, register)\n",
    "    if line == \"noop\":\n",
    "        cycle += 1\n",
    "\n",
    "    else:\n",
    "        instruction, val = line.split(\" \")\n",
    "        cycle += 1\n",
    "        draw_pixel(screen, cycle, register)\n",
    "        cycle += 1\n",
    "        register += int(val)\n",
    "\n",
    "\n",
    "print(\"Result 2:\")\n",
    "plt.imshow(screen)\n",
    "plt.show()"
   ]
  }
 ],
 "metadata": {
  "kernelspec": {
   "display_name": "venv",
   "language": "python",
   "name": "python3"
  },
  "language_info": {
   "codemirror_mode": {
    "name": "ipython",
    "version": 3
   },
   "file_extension": ".py",
   "mimetype": "text/x-python",
   "name": "python",
   "nbconvert_exporter": "python",
   "pygments_lexer": "ipython3",
   "version": "3.11.0"
  },
  "orig_nbformat": 4,
  "vscode": {
   "interpreter": {
    "hash": "3b4f4a0e0c7e2681f28ee705e5b990b63c79b3c3cb8de544204aeea2a081309f"
   }
  }
 },
 "nbformat": 4,
 "nbformat_minor": 2
}
