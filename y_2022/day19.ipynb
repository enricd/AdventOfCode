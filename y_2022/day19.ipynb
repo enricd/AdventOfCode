{
 "cells": [
  {
   "cell_type": "code",
   "execution_count": 1,
   "metadata": {},
   "outputs": [],
   "source": [
    "import re\n",
    "import numpy as np\n",
    "from itertools import product\n",
    "from functools import cache\n",
    "from tqdm import tqdm "
   ]
  },
  {
   "cell_type": "code",
   "execution_count": 2,
   "metadata": {},
   "outputs": [],
   "source": [
    "with open(\"./data_inputs/day19_input.txt\") as f:\n",
    "    input_raw = f.read()\n",
    "\n",
    "# blueprint = {id: [robot_type: [ore, clay, obsidian]]}\n",
    "blueprints = {}\n",
    "for i, l in enumerate(input_raw.split(\"\\n\")):\n",
    "    blueprints[i+1] = ((int(re.findall(r\"costs \\d+\", l.split(\".\")[0])[0][6:]), 0, 0),\n",
    "                        (int(re.findall(r\"costs \\d+\", l.split(\".\")[1])[0][6:]), 0, 0),\n",
    "                        (int(re.findall(r\"costs \\d+\", l.split(\".\")[2])[0][6:]), int(re.findall(r\"and \\d+\", l.split(\".\")[2])[0][4:]), 0),\n",
    "                        (int(re.findall(r\"costs \\d+\", l.split(\".\")[3])[0][6:]), 0, int(re.findall(r\"and \\d+\", l.split(\".\")[3])[0][4:])))"
   ]
  },
  {
   "cell_type": "code",
   "execution_count": 13,
   "metadata": {},
   "outputs": [
    {
     "data": {
      "text/plain": [
       "((3, 0, 0), (4, 0, 0), (2, 20, 0), (4, 0, 7))"
      ]
     },
     "execution_count": 13,
     "metadata": {},
     "output_type": "execute_result"
    }
   ],
   "source": [
    "blueprints[1]"
   ]
  },
  {
   "cell_type": "code",
   "execution_count": 4,
   "metadata": {},
   "outputs": [
    {
     "data": {
      "text/plain": [
       "[(0, 0, 0),\n",
       " (0, 0, 1),\n",
       " (1, 0, 0),\n",
       " (1, 0, 1),\n",
       " (2, 0, 0),\n",
       " (2, 0, 1),\n",
       " (3, 0, 0),\n",
       " (3, 0, 1)]"
      ]
     },
     "execution_count": 4,
     "metadata": {},
     "output_type": "execute_result"
    }
   ],
   "source": [
    "list(product(range(4),range(1),range(2)))"
   ]
  },
  {
   "cell_type": "code",
   "execution_count": 5,
   "metadata": {},
   "outputs": [
    {
     "data": {
      "text/plain": [
       "[(0, 0, 0),\n",
       " (0, 0, 1),\n",
       " (0, 0, 2),\n",
       " (0, 0, 3),\n",
       " (0, 1, 0),\n",
       " (0, 1, 1),\n",
       " (0, 1, 2),\n",
       " (0, 1, 3)]"
      ]
     },
     "execution_count": 5,
     "metadata": {},
     "output_type": "execute_result"
    }
   ],
   "source": [
    "list(product(*list(map(range, np.array([1,2,4])))))"
   ]
  },
  {
   "cell_type": "code",
   "execution_count": 6,
   "metadata": {},
   "outputs": [
    {
     "data": {
      "text/plain": [
       "array([20, 25, 30])"
      ]
     },
     "execution_count": 6,
     "metadata": {},
     "output_type": "execute_result"
    }
   ],
   "source": [
    "np.sum(np.array([1,2,3,0]).reshape(-1, 1) * np.array([[1,1,1], [2,3,4], [5,6,7], [6,7,7]]), axis=0)"
   ]
  },
  {
   "cell_type": "code",
   "execution_count": 7,
   "metadata": {},
   "outputs": [
    {
     "data": {
      "text/plain": [
       "(4, 1)"
      ]
     },
     "execution_count": 7,
     "metadata": {},
     "output_type": "execute_result"
    }
   ],
   "source": [
    "np.array((1,2,4,4)).reshape(4, 1).shape"
   ]
  },
  {
   "cell_type": "code",
   "execution_count": null,
   "metadata": {},
   "outputs": [],
   "source": [
    "# [ore_r, clay_r, obsidian_r, geode_r]\n",
    "\n",
    "@cache\n",
    "def robots_max_geode(minute, blueprint, robots, materials):\n",
    "    materials = np.array(materials)\n",
    "    robots = np.array(robots)\n",
    "    blueprint_arr = np.array(blueprint)\n",
    "\n",
    "    if minute >= 24:\n",
    "        print(minute, robots, materials)\n",
    "        materials += robots\n",
    "        return materials[-1]\n",
    "\n",
    "    possible_new_robots = np.array([0, 0, 0, 0], dtype=np.uint8)\n",
    "    for i, robot_materials in reversed(list(enumerate(blueprint_arr))):\n",
    "        while np.all(robot_materials <= (materials - np.array([*np.sum(possible_new_robots.reshape(4, 1) * blueprint_arr, axis=0), 0]))[:3]):\n",
    "            possible_new_robots[i] += 1\n",
    "\n",
    "    max_geode = -1\n",
    "    new_robots = np.array([0, 0, 0, 0], dtype=np.uint8)\n",
    "    for _new_robots in product(*list(map(range, possible_new_robots+1))):\n",
    "        geode = robots_max_geode(minute+1, blueprint, tuple(robots + _new_robots), tuple(materials + robots - np.array([*np.sum((np.array(_new_robots).reshape(4, 1))*blueprint_arr, axis=0), 0])))\n",
    "        if max_geode < geode:\n",
    "            max_geode = geode\n",
    "            new_robots = _new_robots\n",
    "    \n",
    "    # TODO: discount the amount of material spent by the possible new robots and for the finally created new robots\n",
    "    materials += robots\n",
    "    robots += new_robots\n",
    "    \n",
    "    return materials[-1]\n",
    "\n",
    "\n",
    "quality_level = 0\n",
    "\n",
    "for id in tqdm(blueprints):\n",
    "    robots = np.array([1, 0, 0, 0], dtype=np.uint8)\n",
    "    materials = np.array([0, 0, 0, 0], dtype=np.uint8)  \n",
    "    blueprint = blueprints[id]\n",
    "    \n",
    "    max_geode = robots_max_geode(1, blueprint, tuple(robots), tuple(materials))\n",
    "\n",
    "    quality_level += id * materials[-1]\n",
    "    #print(robots, materials)\n",
    "\n",
    "print(\"Result 1:\", quality_level)\n"
   ]
  },
  {
   "cell_type": "code",
   "execution_count": 47,
   "metadata": {},
   "outputs": [
    {
     "name": "stdout",
     "output_type": "stream",
     "text": [
      "1\n"
     ]
    },
    {
     "ename": "TypeError",
     "evalue": "'enumerate' object is not reversible",
     "output_type": "error",
     "traceback": [
      "\u001b[1;31m---------------------------------------------------------------------------\u001b[0m",
      "\u001b[1;31mTypeError\u001b[0m                                 Traceback (most recent call last)",
      "Cell \u001b[1;32mIn[47], line 3\u001b[0m\n\u001b[0;32m      1\u001b[0m \u001b[39mfor\u001b[39;00m \u001b[39mid\u001b[39m \u001b[39min\u001b[39;00m blueprints:\n\u001b[0;32m      2\u001b[0m     \u001b[39mprint\u001b[39m(\u001b[39mid\u001b[39m)\n\u001b[1;32m----> 3\u001b[0m     \u001b[39mfor\u001b[39;00m i, robot \u001b[39min\u001b[39;00m \u001b[39mreversed\u001b[39;49m(\u001b[39menumerate\u001b[39;49m(blueprints[\u001b[39mid\u001b[39;49m]\u001b[39m.\u001b[39;49mkeys())):\n\u001b[0;32m      4\u001b[0m         \u001b[39mprint\u001b[39m(i, robot)\n\u001b[0;32m      5\u001b[0m     \u001b[39mbreak\u001b[39;00m\n",
      "\u001b[1;31mTypeError\u001b[0m: 'enumerate' object is not reversible"
     ]
    }
   ],
   "source": [
    "for id in blueprints:\n",
    "    print(id)\n",
    "    for i, robot in reversed(list(enumerate(blueprints[id].keys()))):\n",
    "        print(i, robot)\n",
    "    break"
   ]
  }
 ],
 "metadata": {
  "kernelspec": {
   "display_name": "venv",
   "language": "python",
   "name": "python3"
  },
  "language_info": {
   "codemirror_mode": {
    "name": "ipython",
    "version": 3
   },
   "file_extension": ".py",
   "mimetype": "text/x-python",
   "name": "python",
   "nbconvert_exporter": "python",
   "pygments_lexer": "ipython3",
   "version": "3.11.0 (main, Oct 24 2022, 18:26:48) [MSC v.1933 64 bit (AMD64)]"
  },
  "orig_nbformat": 4,
  "vscode": {
   "interpreter": {
    "hash": "3b4f4a0e0c7e2681f28ee705e5b990b63c79b3c3cb8de544204aeea2a081309f"
   }
  }
 },
 "nbformat": 4,
 "nbformat_minor": 2
}
