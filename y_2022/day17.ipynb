{
 "cells": [
  {
   "cell_type": "code",
   "execution_count": 2,
   "metadata": {},
   "outputs": [],
   "source": [
    "import numpy as np\n",
    "import matplotlib.pyplot as plt\n",
    "from tqdm import tqdm\n",
    "from PIL import Image\n",
    "import io"
   ]
  },
  {
   "cell_type": "code",
   "execution_count": 3,
   "metadata": {},
   "outputs": [],
   "source": [
    "with open(\"./data_inputs/day17_input.txt\") as f:\n",
    "    jet_dirs = f.read()"
   ]
  },
  {
   "cell_type": "code",
   "execution_count": 4,
   "metadata": {},
   "outputs": [],
   "source": [
    "rocks = [\n",
    "    np.array(\n",
    "        [[1,1,1,1]]\n",
    "    ),\n",
    "    np.array(\n",
    "        [[0,1,0],\n",
    "         [1,1,1],\n",
    "         [0,1,0]]\n",
    "    ),\n",
    "    np.array(\n",
    "        [[0,0,1],\n",
    "         [0,0,1],\n",
    "         [1,1,1]]\n",
    "    ),\n",
    "    np.array(\n",
    "        [[1],\n",
    "         [1],\n",
    "         [1],\n",
    "         [1]]\n",
    "    ),\n",
    "    np.array(\n",
    "        [[1,1],\n",
    "         [1,1]]\n",
    "    ),\n",
    "]\n",
    "\n",
    "get_highest_rock = lambda chamber_map: np.max(np.where(np.all(chamber_map == 0, axis=1))) + 1\n",
    "\n",
    "is_in_boundaries = lambda h, w, rock, i, j: (h >= rock.shape[0] + i) and (w >= rock.shape[1] + j) and (0 <= j)\n",
    "\n",
    "is_hit = lambda chamber_map, rock, i, j: np.any((chamber_map[i : i+rock.shape[0], j : j+rock.shape[1]] + rock) > 1)"
   ]
  },
  {
   "cell_type": "code",
   "execution_count": 5,
   "metadata": {},
   "outputs": [],
   "source": [
    "# Plot and GIF functions\n",
    "\n",
    "def map_to_frame(chamber_map, divs):\n",
    "    h = (chamber_map.shape[0] // divs)\n",
    "    frame = np.zeros((h, 10*divs))\n",
    "    for d in range(divs):\n",
    "        crop = chamber_map[d*h : (d+1)*h] + 1\n",
    "        frame[:, (divs-d-1)*10 : (divs-d-1)*10+7] += crop\n",
    "\n",
    "    return frame"
   ]
  },
  {
   "cell_type": "code",
   "execution_count": 7,
   "metadata": {},
   "outputs": [
    {
     "name": "stderr",
     "output_type": "stream",
     "text": [
      "100%|██████████| 2022/2022 [00:35<00:00, 56.74it/s]\n"
     ]
    },
    {
     "name": "stdout",
     "output_type": "stream",
     "text": [
      "Result 1: 3081\n"
     ]
    }
   ],
   "source": [
    "# ---- Part 1 ----\n",
    "\n",
    "TOTAL_ROCKS = 2022\n",
    "chamber_map = np.zeros((3200, 7))\n",
    "H, W = chamber_map.shape[0], chamber_map.shape[1]\n",
    "step = 0\n",
    "\n",
    "plot_map = chamber_map.copy()\n",
    "frames = []\n",
    "\n",
    "for r in tqdm(range(TOTAL_ROCKS)):\n",
    "    is_rest = False\n",
    "    rock = rocks[r % len(rocks)]\n",
    "\n",
    "    # Inital position\n",
    "    (i, j) = (get_highest_rock(chamber_map) - rock.shape[0] - 3, 2)\n",
    "    \n",
    "    while not is_rest:\n",
    "        # Lateral Jet mov\n",
    "        dir = jet_dirs[step % len(jet_dirs)]\n",
    "        # print(dir)\n",
    "        if dir == \"<\" and is_in_boundaries(H, W, rock, i, j-1) and not is_hit(chamber_map, rock, i, j-1):\n",
    "            j -= 1\n",
    "        elif dir == \">\" and is_in_boundaries(H, W, rock, i, j+1) and not is_hit(chamber_map, rock, i, j+1):\n",
    "            j += 1\n",
    "\n",
    "        # Down\n",
    "        if is_in_boundaries(H, W, rock, i+1, j) and not is_hit(chamber_map, rock, i+1, j):\n",
    "            i += 1\n",
    "\n",
    "        else:\n",
    "            chamber_map[i : i+rock.shape[0], j : j+rock.shape[1]] += rock\n",
    "            is_rest = True\n",
    "            plot_map[i : i+rock.shape[0], j : j+rock.shape[1]] += (rock * 2)\n",
    "            if r%3 == 0:\n",
    "                frame = map_to_frame(plot_map, 16)\n",
    "                plt.figure(figsize=(4,5))\n",
    "                plt.imshow(frame)\n",
    "                plt.title(f\"Rocks: {r+1}    Height: {H - get_highest_rock(chamber_map)}\")\n",
    "                plt.axis(\"off\")\n",
    "                plt.tight_layout()\n",
    "                buf = io.BytesIO()\n",
    "                plt.savefig(buf, format=\"png\")\n",
    "                buf.seek(0)\n",
    "                frames.append(Image.open(buf))\n",
    "                plt.close()\n",
    "\n",
    "        step += 1\n",
    "\n",
    "\n",
    "frame_one = frames[0]\n",
    "frame_one.save(\"day17_part_1.gif\", format=\"GIF\", append_images=frames, save_all=True, duration=25, loop=0)\n",
    "    \n",
    "max_alt = H - get_highest_rock(chamber_map)\n",
    "\n",
    "print(\"Result 1:\", max_alt)"
   ]
  },
  {
   "cell_type": "code",
   "execution_count": 8,
   "metadata": {},
   "outputs": [],
   "source": [
    "# OPTIONAL STEP\n",
    "# make sure that you have gifsicle installed in your OS and in the path\n",
    "from pygifsicle import optimize\n",
    "\n",
    "optimize(\"./day17_part_1.gif\")"
   ]
  },
  {
   "attachments": {},
   "cell_type": "markdown",
   "metadata": {},
   "source": [
    "![GIF](day17_1.gif \"segment\")"
   ]
  },
  {
   "cell_type": "code",
   "execution_count": 45,
   "metadata": {},
   "outputs": [
    {
     "data": {
      "text/plain": [
       "10091"
      ]
     },
     "execution_count": 45,
     "metadata": {},
     "output_type": "execute_result"
    }
   ],
   "source": [
    "len(jet_dirs)"
   ]
  },
  {
   "cell_type": "code",
   "execution_count": 78,
   "metadata": {},
   "outputs": [
    {
     "name": "stdout",
     "output_type": "stream",
     "text": [
      "height: 0 \theight increment: 0 \tnum rocks increment: 1\n",
      "height: 2613 \theight increment: 2613 \tnum rocks increment: 1724\n",
      "height: 5243 \theight increment: 2630 \tnum rocks increment: 1725\n",
      "height: 7873 \theight increment: 2630 \tnum rocks increment: 1725\n",
      "height: 10503 \theight increment: 2630 \tnum rocks increment: 1725\n",
      "height: 13133 \theight increment: 2630 \tnum rocks increment: 1725\n",
      "height: 15763 \theight increment: 2630 \tnum rocks increment: 1725\n",
      "height: 18393 \theight increment: 2630 \tnum rocks increment: 1725\n",
      "height: 21023 \theight increment: 2630 \tnum rocks increment: 1725\n",
      "height: 23653 \theight increment: 2630 \tnum rocks increment: 1725\n",
      "height: 26283 \theight increment: 2630 \tnum rocks increment: 1725\n",
      "height: 28913 \theight increment: 2630 \tnum rocks increment: 1725\n"
     ]
    }
   ],
   "source": [
    "# ---- Part 2 ----\n",
    "\n",
    "TOTAL_ROCKS2 = 1_000_000_000_000\n",
    "sliding_map = np.zeros((30000, 7))\n",
    "H, W = sliding_map.shape[0], sliding_map.shape[1]\n",
    "acc_height = 0\n",
    "step = 0\n",
    "_prev_n_steps = 0\n",
    "n_rocks = 0\n",
    "_prev_n_rocks = 0\n",
    "\n",
    "for r in range(TOTAL_ROCKS2):\n",
    "    is_rest = False\n",
    "    rock = rocks[r % len(rocks)]\n",
    "    n_rocks += 1\n",
    "\n",
    "    # Inital position\n",
    "    (i, j) = (get_highest_rock(sliding_map) - rock.shape[0] - 3, 2)\n",
    "\n",
    "    if i < 10:\n",
    "        break\n",
    "\n",
    "    if step % len(jet_dirs) == 0:\n",
    "        curr_height = H - get_highest_rock(sliding_map)\n",
    "        print(\"height:\", curr_height, \"\\theight increment:\", curr_height - _prev_n_steps, \"\\tnum rocks increment:\", n_rocks-_prev_n_rocks)\n",
    "        _prev_n_steps = curr_height\n",
    "        _prev_n_rocks = n_rocks\n",
    "    \n",
    "    while not is_rest:\n",
    "        # Lateral Jet mov\n",
    "        dir = jet_dirs[step % len(jet_dirs)]\n",
    "        if dir == \"<\" and is_in_boundaries(H, W, rock, i, j-1) and not is_hit(sliding_map, rock, i, j-1):\n",
    "            j -= 1\n",
    "        elif dir == \">\" and is_in_boundaries(H, W, rock, i, j+1) and not is_hit(sliding_map, rock, i, j+1):\n",
    "            j += 1\n",
    "\n",
    "        # Down\n",
    "        if acc_height > 0 and not is_in_boundaries(H, W, rock, i+1, j):\n",
    "            raise Exception(\"ERROR: rock falling below the sliding window!!\")\n",
    "\n",
    "        if is_in_boundaries(H, W, rock, i+1, j) and not is_hit(sliding_map, rock, i+1, j):\n",
    "            i += 1\n",
    "\n",
    "        else:\n",
    "            sliding_map[i : i+rock.shape[0], j : j+rock.shape[1]] += rock\n",
    "            is_rest = True\n",
    "\n",
    "        step += 1\n",
    "\n",
    "    "
   ]
  },
  {
   "cell_type": "code",
   "execution_count": 65,
   "metadata": {},
   "outputs": [
    {
     "data": {
      "text/plain": [
       "10091"
      ]
     },
     "execution_count": 65,
     "metadata": {},
     "output_type": "execute_result"
    }
   ],
   "source": [
    "# Every len(jet_dirs) 10091 in my case, we can simply add the same height (2613 first time, 2630 from there on) every time without computing it\n",
    "len(jet_dirs)"
   ]
  },
  {
   "cell_type": "code",
   "execution_count": 79,
   "metadata": {},
   "outputs": [
    {
     "name": "stdout",
     "output_type": "stream",
     "text": [
      "Final rocks: 1600\n",
      "Result 2: 1524637681145\n"
     ]
    }
   ],
   "source": [
    "final_rocks = (TOTAL_ROCKS2 % 1725) + 1725\n",
    "print(\"Final rocks:\", final_rocks - 1725)\n",
    "\n",
    "final_map = np.zeros((6000, 7))\n",
    "H, W = final_map.shape[0], final_map.shape[1]\n",
    "step = 0\n",
    "\n",
    "for r in range(final_rocks):\n",
    "    is_rest = False\n",
    "    rock = rocks[r % len(rocks)]\n",
    "\n",
    "    # Inital position\n",
    "    (i, j) = (get_highest_rock(final_map) - rock.shape[0] - 3, 2)\n",
    "\n",
    "    if i < 10:\n",
    "        raise Exception(\"ERROR: Getting to the top of the map!!\")\n",
    "    \n",
    "    while not is_rest:\n",
    "        # Lateral Jet mov\n",
    "        dir = jet_dirs[step % len(jet_dirs)]\n",
    "        if dir == \"<\" and is_in_boundaries(H, W, rock, i, j-1) and not is_hit(final_map, rock, i, j-1):\n",
    "            j -= 1\n",
    "        elif dir == \">\" and is_in_boundaries(H, W, rock, i, j+1) and not is_hit(final_map, rock, i, j+1):\n",
    "            j += 1\n",
    "\n",
    "        # Down\n",
    "        if acc_height > 0 and not is_in_boundaries(H, W, rock, i+1, j):\n",
    "            raise Exception(\"ERROR: rock falling below the sliding window!!\")\n",
    "\n",
    "        if is_in_boundaries(H, W, rock, i+1, j) and not is_hit(final_map, rock, i+1, j):\n",
    "            i += 1\n",
    "\n",
    "        else:\n",
    "            final_map[i : i+rock.shape[0], j : j+rock.shape[1]] += rock\n",
    "            is_rest = True\n",
    "\n",
    "        step += 1\n",
    "\n",
    "\n",
    "final_alt = (H - get_highest_rock(final_map)) - 2613\n",
    "\n",
    "max_alt2 = 2613 + ((TOTAL_ROCKS2 // 1725) - 1) * 2630 + final_alt\n",
    "\n",
    "print(\"Result 2:\", max_alt2)"
   ]
  }
 ],
 "metadata": {
  "kernelspec": {
   "display_name": "venv",
   "language": "python",
   "name": "python3"
  },
  "language_info": {
   "codemirror_mode": {
    "name": "ipython",
    "version": 3
   },
   "file_extension": ".py",
   "mimetype": "text/x-python",
   "name": "python",
   "nbconvert_exporter": "python",
   "pygments_lexer": "ipython3",
   "version": "3.11.0 (main, Oct 24 2022, 18:26:48) [MSC v.1933 64 bit (AMD64)]"
  },
  "orig_nbformat": 4,
  "vscode": {
   "interpreter": {
    "hash": "3b4f4a0e0c7e2681f28ee705e5b990b63c79b3c3cb8de544204aeea2a081309f"
   }
  }
 },
 "nbformat": 4,
 "nbformat_minor": 2
}
