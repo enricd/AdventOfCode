{
 "cells": [
  {
   "cell_type": "code",
   "execution_count": 1,
   "metadata": {},
   "outputs": [],
   "source": [
    "with open(\"./data_inputs/day1_input.txt\") as f:\n",
    "    raw_input = f.read()"
   ]
  },
  {
   "cell_type": "code",
   "execution_count": 2,
   "metadata": {},
   "outputs": [],
   "source": [
    "input = raw_input.split(\"\\n\\n\")\n",
    "input = [elf_cal.split(\"\\n\") for elf_cal in input]\n",
    "input = [[int(cal) for cal in elf_cal] for elf_cal in input]"
   ]
  },
  {
   "cell_type": "code",
   "execution_count": 4,
   "metadata": {},
   "outputs": [
    {
     "name": "stdout",
     "output_type": "stream",
     "text": [
      "Result 1: 68467\n"
     ]
    }
   ],
   "source": [
    "# ---- Part 1 ----\n",
    "\n",
    "top1_cal = max(map(sum, input))\n",
    "\n",
    "print(\"Result 1:\", top1_cal)"
   ]
  },
  {
   "cell_type": "code",
   "execution_count": 5,
   "metadata": {},
   "outputs": [
    {
     "name": "stdout",
     "output_type": "stream",
     "text": [
      "Result 2: 203420\n"
     ]
    }
   ],
   "source": [
    "# ---- Part 2 ----\n",
    "\n",
    "cal_list = list(map(sum, input))\n",
    "cal_list.sort(reverse=True)\n",
    "top3_agg_cal = sum(cal_list[:3])\n",
    "\n",
    "print(\"Result 2:\", top3_agg_cal)"
   ]
  },
  {
   "cell_type": "code",
   "execution_count": null,
   "metadata": {},
   "outputs": [],
   "source": []
  },
  {
   "cell_type": "code",
   "execution_count": 7,
   "metadata": {},
   "outputs": [],
   "source": [
    "integer_var = -4\n",
    "float_var = 20.54\n",
    "string_var = \"My Cat\"\n",
    "boolean_var = True\n",
    "\n",
    "list_var = [1, 2.3, \"abc\", False]"
   ]
  },
  {
   "cell_type": "code",
   "execution_count": 18,
   "metadata": {},
   "outputs": [
    {
     "data": {
      "text/plain": [
       "True"
      ]
     },
     "execution_count": 18,
     "metadata": {},
     "output_type": "execute_result"
    }
   ],
   "source": [
    "print(1 == 1)\n",
    "print(1 != 1)\n",
    "print(1 > 0)\n",
    "print(1 >= 0)\n",
    "print(1 < 0)\n",
    "print(1 <= 0)\n",
    "\n",
    "print(1 + 1)\n",
    "print(1 - 1)\n",
    "print(1 / 1)\n",
    "print(1 * 1)\n",
    "print(1 // 1)"
   ]
  },
  {
   "cell_type": "code",
   "execution_count": 6,
   "metadata": {},
   "outputs": [
    {
     "data": {
      "text/plain": [
       "'\\n'"
      ]
     },
     "execution_count": 6,
     "metadata": {},
     "output_type": "execute_result"
    }
   ],
   "source": [
    "elves_list = []\n",
    "elf_cal_list = []  # \"\\n\\n\"\n",
    "cal_list = []      # \"\\n\"\n",
    "\n",
    "for i in range(input_raw):\n",
    "    if input_raw[i] != \"\\n\":\n",
    "        cal_list.append(input_raw[i])\n",
    "    \n",
    "    \n"
   ]
  }
 ],
 "metadata": {
  "kernelspec": {
   "display_name": "Python 3.11.0 64-bit",
   "language": "python",
   "name": "python3"
  },
  "language_info": {
   "codemirror_mode": {
    "name": "ipython",
    "version": 3
   },
   "file_extension": ".py",
   "mimetype": "text/x-python",
   "name": "python",
   "nbconvert_exporter": "python",
   "pygments_lexer": "ipython3",
   "version": "3.11.0"
  },
  "orig_nbformat": 4,
  "vscode": {
   "interpreter": {
    "hash": "3d1899a6c99b9db7e131d4b74e4e1b4f8aa84cf78ca3d48624777d2707d0553f"
   }
  }
 },
 "nbformat": 4,
 "nbformat_minor": 2
}
