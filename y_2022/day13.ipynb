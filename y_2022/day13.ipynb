{
 "cells": [
  {
   "cell_type": "code",
   "execution_count": 1,
   "metadata": {},
   "outputs": [],
   "source": [
    "with open(\"./data_inputs/day13_input.txt\") as f:\n",
    "    input_raw = f.read()\n",
    "\n",
    "input_str = [pair.split(\"\\n\") for pair in input_raw.split(\"\\n\\n\")]"
   ]
  },
  {
   "cell_type": "code",
   "execution_count": 2,
   "metadata": {},
   "outputs": [
    {
     "data": {
      "text/plain": [
       "[[[6, [7, 10, 9, []]], [4, 2]]]"
      ]
     },
     "execution_count": 2,
     "metadata": {},
     "output_type": "execute_result"
    }
   ],
   "source": [
    "def create_list(text):\n",
    "    text = list(text)\n",
    "    i = 0\n",
    "    last_bracket = None\n",
    "    while text.count(\"[\") > 0:\n",
    "        if text[i] == \"[\":\n",
    "            last_bracket = i\n",
    "        elif text[i] == \"]\":\n",
    "            sub_list = []\n",
    "            v = []\n",
    "            sub_text = text[last_bracket+1 : i]\n",
    "            if len(sub_text) == 0:\n",
    "                sub_list = []\n",
    "            else:\n",
    "                for c in text[last_bracket+1 : i]:\n",
    "                    if c == \",\":\n",
    "                        if v:\n",
    "                            v = int(\"\".join(v))\n",
    "                            sub_list.append(v)\n",
    "                            v = []\n",
    "                    elif isinstance(c, list) or isinstance(c, int):\n",
    "                        sub_list.append(c)\n",
    "                    else:\n",
    "                        v.append(c)\n",
    "                if v:\n",
    "                    v = int(\"\".join(v))\n",
    "                    sub_list.append(v)\n",
    "\n",
    "            text = text[0:last_bracket] + [sub_list] + text[i+1:]\n",
    "            i=0\n",
    "            continue\n",
    "\n",
    "        i += 1\n",
    "        \n",
    "        if i == len(text):\n",
    "            i = 0\n",
    "            \n",
    "    return text\n",
    "\n",
    "create_list(\"[[6,[7,10,9,[]]],[4,2]]\")"
   ]
  },
  {
   "cell_type": "code",
   "execution_count": 3,
   "metadata": {},
   "outputs": [],
   "source": [
    "input = [[create_list(pair[0]), create_list(pair[1])] for pair in input_str]"
   ]
  },
  {
   "cell_type": "code",
   "execution_count": 4,
   "metadata": {},
   "outputs": [],
   "source": [
    "def is_right_order(p1, p2):\n",
    "\n",
    "    lvl = 0\n",
    "    i = 0\n",
    "\n",
    "    while True:\n",
    "        if len(p1) <= i and len(p2) <= i:\n",
    "            return None\n",
    "        elif len(p1) <= i and len(p2) > len(p1):\n",
    "            return True\n",
    "        elif len(p2) <= i and len(p1) > len(p2):\n",
    "            return False\n",
    "\n",
    "        if isinstance(p1[i], int):\n",
    "            if isinstance(p2[i], int):\n",
    "                if p1[i] < p2[i]:\n",
    "                    return True\n",
    "                elif p1[i] > p2[i]:\n",
    "                    return False\n",
    "                else:\n",
    "                    i += 1\n",
    "\n",
    "            elif isinstance(p2[i], list):\n",
    "                p1[i] = [p1[i]]\n",
    "        \n",
    "        elif isinstance(p1[i], list):\n",
    "            if isinstance(p2[i], int):\n",
    "                p2[i] = [p2[i]]\n",
    "\n",
    "            if len(p1[i]) == 0 and len(p2[i]) > 0:\n",
    "                return True\n",
    "            elif len(p2[i]) == 0 and len(p1[i]) > 0:\n",
    "                return False\n",
    "            else:\n",
    "                sub_result = is_right_order(p1[i], p2[i])\n",
    "                if sub_result is not None:\n",
    "                    return sub_result\n",
    "                i += 1"
   ]
  },
  {
   "cell_type": "code",
   "execution_count": 5,
   "metadata": {},
   "outputs": [
    {
     "name": "stdout",
     "output_type": "stream",
     "text": [
      "Result 1: 4643\n"
     ]
    }
   ],
   "source": [
    "# ---- Part 1 ----\n",
    "\n",
    "i_sum = sum([(i+1) * is_right_order(p1.copy(), p2.copy()) for i, (p1, p2) in enumerate(input)])\n",
    "\n",
    "print(\"Result 1:\", i_sum)"
   ]
  },
  {
   "cell_type": "code",
   "execution_count": 6,
   "metadata": {},
   "outputs": [
    {
     "name": "stdout",
     "output_type": "stream",
     "text": [
      "Result 2: 21614\n"
     ]
    }
   ],
   "source": [
    "# ---- Part 2 ----\n",
    "\n",
    "from copy import deepcopy\n",
    "\n",
    "input2 = [[[2]], [[6]]]\n",
    "for pair in input:\n",
    "    input2.extend(pair)\n",
    "\n",
    "all_ordered = [False for _ in range(len(input2)-1)]\n",
    "\n",
    "while not all(all_ordered):\n",
    "    for i in range(len(input2)-1):\n",
    "        is_ordered = is_right_order(deepcopy(input2[i]), deepcopy(input2[i+1]))\n",
    "        all_ordered[i] = is_ordered\n",
    "        if not is_ordered:\n",
    "            input2[i], input2[i+1] = input2[i+1], input2[i]\n",
    "\n",
    "i_prod = (input2.index([[2]]) + 1) * (input2.index([[6]]) + 1)\n",
    "\n",
    "print(\"Result 2:\", i_prod)"
   ]
  }
 ],
 "metadata": {
  "kernelspec": {
   "display_name": "venv",
   "language": "python",
   "name": "python3"
  },
  "language_info": {
   "codemirror_mode": {
    "name": "ipython",
    "version": 3
   },
   "file_extension": ".py",
   "mimetype": "text/x-python",
   "name": "python",
   "nbconvert_exporter": "python",
   "pygments_lexer": "ipython3",
   "version": "3.11.0 (main, Oct 24 2022, 18:26:48) [MSC v.1933 64 bit (AMD64)]"
  },
  "orig_nbformat": 4,
  "vscode": {
   "interpreter": {
    "hash": "3b4f4a0e0c7e2681f28ee705e5b990b63c79b3c3cb8de544204aeea2a081309f"
   }
  }
 },
 "nbformat": 4,
 "nbformat_minor": 2
}
