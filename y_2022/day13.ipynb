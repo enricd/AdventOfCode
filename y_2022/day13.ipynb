{
 "cells": [
  {
   "cell_type": "code",
   "execution_count": 1,
   "metadata": {},
   "outputs": [],
   "source": [
    "with open(\"./data_inputs/day13_input.txt\") as f:\n",
    "    input_raw = f.read()"
   ]
  },
  {
   "cell_type": "code",
   "execution_count": 10,
   "metadata": {},
   "outputs": [],
   "source": [
    "input = [pair.split(\"\\n\") for pair in input_raw.split(\"\\n\\n\")]"
   ]
  },
  {
   "cell_type": "code",
   "execution_count": 98,
   "metadata": {},
   "outputs": [
    {
     "data": {
      "text/plain": [
       "[[[6, [7, 10, 9, []]], [4, 2]]]"
      ]
     },
     "execution_count": 98,
     "metadata": {},
     "output_type": "execute_result"
    }
   ],
   "source": [
    "def create_list(text):\n",
    "    text = list(text)\n",
    "    i = 0\n",
    "    last_bracket = None\n",
    "    while text.count(\"[\") > 0:\n",
    "        if text[i] == \"[\":\n",
    "            last_bracket = i\n",
    "        elif text[i] == \"]\":\n",
    "            sub_list = []\n",
    "            v = []\n",
    "            sub_text = text[last_bracket+1 : i]\n",
    "            if len(sub_text) == 0:\n",
    "                sub_list = []\n",
    "            else:\n",
    "                for c in text[last_bracket+1 : i]:\n",
    "                    if c == \",\":\n",
    "                        if v:\n",
    "                            v = int(\"\".join(v))\n",
    "                            sub_list.append(v)\n",
    "                            v = []\n",
    "                    elif isinstance(c, list) or isinstance(c, int):\n",
    "                        sub_list.append(c)\n",
    "                    else:\n",
    "                        v.append(c)\n",
    "                if v:\n",
    "                    v = int(\"\".join(v))\n",
    "                    sub_list.append(v)\n",
    "\n",
    "            text = text[0:last_bracket] + [sub_list] + text[i+1:]\n",
    "            i=0\n",
    "            continue\n",
    "\n",
    "        i += 1\n",
    "        \n",
    "        if i == len(text):\n",
    "            i = 0\n",
    "            \n",
    "    return text\n",
    "\n",
    "create_list(\"[[6,[7,10,9,[]]],[4,2]]\")"
   ]
  },
  {
   "cell_type": "code",
   "execution_count": 26,
   "metadata": {},
   "outputs": [
    {
     "data": {
      "text/plain": [
       "'[]'"
      ]
     },
     "execution_count": 26,
     "metadata": {},
     "output_type": "execute_result"
    }
   ],
   "source": [
    "for pair in input:\n",
    "    p1 = create_list(pair[0])\n",
    "    p2 = create_list(pair[1])\n",
    "\n",
    "    i = 0\n",
    "    # while True:\n",
    "    #     value1 = \n"
   ]
  },
  {
   "cell_type": "code",
   "execution_count": 21,
   "metadata": {},
   "outputs": [
    {
     "data": {
      "text/plain": [
       "10"
      ]
     },
     "execution_count": 21,
     "metadata": {},
     "output_type": "execute_result"
    }
   ],
   "source": [
    "input[0][0].count(\"[\")"
   ]
  }
 ],
 "metadata": {
  "kernelspec": {
   "display_name": "venv",
   "language": "python",
   "name": "python3"
  },
  "language_info": {
   "codemirror_mode": {
    "name": "ipython",
    "version": 3
   },
   "file_extension": ".py",
   "mimetype": "text/x-python",
   "name": "python",
   "nbconvert_exporter": "python",
   "pygments_lexer": "ipython3",
   "version": "3.11.0"
  },
  "orig_nbformat": 4,
  "vscode": {
   "interpreter": {
    "hash": "3b4f4a0e0c7e2681f28ee705e5b990b63c79b3c3cb8de544204aeea2a081309f"
   }
  }
 },
 "nbformat": 4,
 "nbformat_minor": 2
}
