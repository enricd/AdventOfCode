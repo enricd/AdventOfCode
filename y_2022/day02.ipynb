{
 "cells": [
  {
   "cell_type": "code",
   "execution_count": 4,
   "metadata": {},
   "outputs": [],
   "source": [
    "with open(\"./data_inputs/day02_input.txt\") as f:\n",
    "    input_raw = f.read()"
   ]
  },
  {
   "cell_type": "code",
   "execution_count": 5,
   "metadata": {},
   "outputs": [],
   "source": [
    "input = input_raw.split(\"\\n\")"
   ]
  },
  {
   "cell_type": "code",
   "execution_count": 6,
   "metadata": {},
   "outputs": [
    {
     "name": "stdout",
     "output_type": "stream",
     "text": [
      "Result 1: 14264\n"
     ]
    }
   ],
   "source": [
    "# ---- Part 1 ----\n",
    "\n",
    "# A/X = Rock, B/Y = Paper, C/Z = Scissors\n",
    "# {\"Opponent_hand My_hand\": Hand points + Result points}\n",
    "rules = {\n",
    "    \"A X\": 1 + 3,\n",
    "    \"A Y\": 2 + 6,\n",
    "    \"A Z\": 3 + 0,\n",
    "\n",
    "    \"B X\": 1 + 0,\n",
    "    \"B Y\": 2 + 3,\n",
    "    \"B Z\": 3 + 6,\n",
    "\n",
    "    \"C X\": 1 + 6,\n",
    "    \"C Y\": 2 + 0,\n",
    "    \"C Z\": 3 + 3,\n",
    "}\n",
    "\n",
    "total_score = sum([rules[round] for round in input])\n",
    "\n",
    "print(\"Result 1:\", total_score)"
   ]
  },
  {
   "cell_type": "code",
   "execution_count": 7,
   "metadata": {},
   "outputs": [
    {
     "name": "stdout",
     "output_type": "stream",
     "text": [
      "Result 1: 12382\n"
     ]
    }
   ],
   "source": [
    "# ---- Part 2 ----\n",
    "\n",
    "# X = lose, Y = draw, Z = win\n",
    "rules_2 = {\n",
    "    \"A X\": 3 + 0,\n",
    "    \"A Y\": 1 + 3,\n",
    "    \"A Z\": 2 + 6,\n",
    "\n",
    "    \"B X\": 1 + 0,\n",
    "    \"B Y\": 2 + 3,\n",
    "    \"B Z\": 3 + 6,\n",
    "\n",
    "    \"C X\": 2 + 0,\n",
    "    \"C Y\": 3 + 3,\n",
    "    \"C Z\": 1 + 6,\n",
    "}\n",
    "\n",
    "total_score_2 = sum([rules_2[round] for round in input])\n",
    "\n",
    "print(\"Result 2:\", total_score_2)"
   ]
  }
 ],
 "metadata": {
  "kernelspec": {
   "display_name": "Python 3.11.0 64-bit",
   "language": "python",
   "name": "python3"
  },
  "language_info": {
   "codemirror_mode": {
    "name": "ipython",
    "version": 3
   },
   "file_extension": ".py",
   "mimetype": "text/x-python",
   "name": "python",
   "nbconvert_exporter": "python",
   "pygments_lexer": "ipython3",
   "version": "3.11.0 (main, Oct 24 2022, 18:26:48) [MSC v.1933 64 bit (AMD64)]"
  },
  "orig_nbformat": 4,
  "vscode": {
   "interpreter": {
    "hash": "3d1899a6c99b9db7e131d4b74e4e1b4f8aa84cf78ca3d48624777d2707d0553f"
   }
  }
 },
 "nbformat": 4,
 "nbformat_minor": 2
}
