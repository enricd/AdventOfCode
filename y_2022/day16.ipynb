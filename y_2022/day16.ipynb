{
 "cells": [
  {
   "cell_type": "code",
   "execution_count": 1,
   "metadata": {},
   "outputs": [],
   "source": [
    "import re\n",
    "import matplotlib.pyplot as plt\n",
    "from queue import PriorityQueue\n",
    "from tqdm import tqdm"
   ]
  },
  {
   "cell_type": "code",
   "execution_count": 2,
   "metadata": {},
   "outputs": [],
   "source": [
    "with open(\"./data_inputs/day16_input.txt\") as f:\n",
    "    input_raw = f.read()"
   ]
  },
  {
   "cell_type": "code",
   "execution_count": 3,
   "metadata": {},
   "outputs": [],
   "source": [
    "class Node:\n",
    "    def __init__(self, id, flow=0, adjacents=[]):\n",
    "        self.id = id\n",
    "        self.flow = flow\n",
    "        self.adjacents = adjacents\n",
    "        self.is_valve_open = False\n",
    "\n",
    "    def __repr__(self):\n",
    "        return f\"{self.id}: flow = {self.flow}, adj = {self.adjacents}\"\n",
    "\n",
    "    def open_valve(self):\n",
    "        flow = self.flow\n",
    "        self.flow = 0\n",
    "        self.is_valve_open = False\n",
    "        return flow\n",
    "\n",
    "\n",
    "class Graph:\n",
    "    def __init__(self):\n",
    "        self.nodes = {}\n",
    "\n",
    "    def __repr__(self):\n",
    "        return \"\".join([f\"{self.nodes[node]}\\n\" for node in self.nodes])\n",
    "\n",
    "    def add_node(self, id, flow=0, adjacents=[]):\n",
    "        self.nodes[id] = Node(id, flow, adjacents)\n",
    "\n",
    "  \n",
    "g = Graph()\n",
    "\n",
    "for line in input_raw.split(\"\\n\"):\n",
    "    node = re.findall(r\"^Valve...\", line)[0][-2:]\n",
    "    flow = int(re.findall(r\"=\\d+\", line)[0][1:])\n",
    "    adj_nodes = re.split(\"valves? \", line)[1].split(\", \")\n",
    "\n",
    "    g.add_node(node, flow, adj_nodes)"
   ]
  },
  {
   "cell_type": "code",
   "execution_count": 4,
   "metadata": {},
   "outputs": [],
   "source": [
    "# Dijkstra to find the shortest path between closed valves\n",
    "\n",
    "class D_Graph:\n",
    "    def __init__(self, nodes):\n",
    "        self.v = len(nodes)\n",
    "        self.edges = {n: {} for n in nodes}\n",
    "        self.visited = []\n",
    "\n",
    "    def add_edge(self, u, v, weight):\n",
    "        self.edges[u][v] = weight\n",
    "\n",
    "\n",
    "def dijkstra(graph, start_node):\n",
    "    D = {n:float('inf') for n in graph.edges.keys()}\n",
    "    D[start_node] = 0\n",
    "\n",
    "    pq = PriorityQueue()\n",
    "    pq.put((0, start_node))\n",
    "\n",
    "    while not pq.empty():\n",
    "        (dist, current_node) = pq.get()\n",
    "        graph.visited.append(current_node)\n",
    "\n",
    "        for neighbor in graph.edges.keys():\n",
    "            if neighbor in graph.edges[current_node]:\n",
    "                distance = graph.edges[current_node][neighbor]\n",
    "                if neighbor not in graph.visited:\n",
    "                    old_cost = D[neighbor]\n",
    "                    new_cost = D[current_node] + distance\n",
    "                    if new_cost < old_cost:\n",
    "                        pq.put((new_cost, neighbor))\n",
    "                        D[neighbor] = new_cost\n",
    "    return D\n",
    "\n",
    "\n",
    "def build_d_graph(graph):\n",
    "    d_g = D_Graph(graph.nodes)\n",
    "\n",
    "    for n in graph.nodes:\n",
    "        for adj_n in graph.nodes[n].adjacents:\n",
    "            d_g.add_edge(n, adj_n, 1)\n",
    "\n",
    "    return d_g\n",
    "\n",
    "\n",
    "flow_nodes = {node: {} for node in g.nodes if g.nodes[node].flow > 0}\n",
    "flow_nodes[\"AA\"] = {}\n",
    "\n",
    "for src_f_node in flow_nodes:\n",
    "    d_g = build_d_graph(g)\n",
    "    D_n = dijkstra(d_g, src_f_node)\n",
    "    for dest_f_node in flow_nodes:\n",
    "        if dest_f_node != src_f_node:\n",
    "            flow_nodes[src_f_node][dest_f_node] = D_n[dest_f_node]"
   ]
  },
  {
   "cell_type": "code",
   "execution_count": 5,
   "metadata": {},
   "outputs": [
    {
     "name": "stdout",
     "output_type": "stream",
     "text": [
      "Result 1: 1940\n"
     ]
    }
   ],
   "source": [
    "# ---- Part 1 ----\n",
    "\n",
    "def best_branch_pressure(prev_node, curr_node, minutes, visited, total_flow, total_pressure, total_minutes, max_time):\n",
    "    \n",
    "    if (total_minutes + minutes) >= max_time:\n",
    "        minutes = (max_time - total_minutes) \n",
    "        total_pressure += (minutes * total_flow)\n",
    "        return total_pressure\n",
    "\n",
    "    total_minutes += minutes\n",
    "    total_pressure += (minutes * total_flow)\n",
    "\n",
    "    # Opening valve\n",
    "    flow = g.nodes[curr_node].flow\n",
    "    next_total_flow = total_flow + flow\n",
    "    next_visited = visited.copy()\n",
    "    next_visited[curr_node] = (minutes+1, total_flow)\n",
    "    if prev_node:\n",
    "        total_minutes += 1\n",
    "        total_pressure += total_flow\n",
    "\n",
    "    if len(next_visited) < len(flow_nodes):\n",
    "        curr_best_branch = total_pressure\n",
    "\n",
    "        for next_node in flow_nodes[curr_node]:\n",
    "            if next_node not in next_visited:\n",
    "                next_minutes = flow_nodes[curr_node][next_node]\n",
    "                \n",
    "                next_total_pressure = best_branch_pressure(curr_node, \n",
    "                                                next_node, \n",
    "                                                next_minutes, \n",
    "                                                next_visited, \n",
    "                                                next_total_flow,\n",
    "                                                total_pressure, \n",
    "                                                total_minutes,\n",
    "                                                max_time)\n",
    "\n",
    "                if next_total_pressure > curr_best_branch:\n",
    "                    curr_best_branch = next_total_pressure\n",
    "    \n",
    "    else:\n",
    "        curr_best_branch = (total_pressure + (max_time - total_minutes) * next_total_flow)\n",
    "\n",
    "    return curr_best_branch\n",
    "\n",
    "\n",
    "MAX_TIME = 30   \n",
    "\n",
    "best_pressure = best_branch_pressure(prev_node=None, \n",
    "                            curr_node=\"AA\", \n",
    "                            minutes=0,\n",
    "                            visited={}, \n",
    "                            total_flow=0, \n",
    "                            total_pressure=0, \n",
    "                            total_minutes=0,\n",
    "                            max_time=MAX_TIME)\n",
    "\n",
    "print(\"Result 1:\", best_pressure)"
   ]
  },
  {
   "cell_type": "code",
   "execution_count": 6,
   "metadata": {},
   "outputs": [
    {
     "name": "stderr",
     "output_type": "stream",
     "text": [
      "100%|██████████| 16384/16384 [01:33<00:00, 175.64it/s]"
     ]
    },
    {
     "name": "stdout",
     "output_type": "stream",
     "text": [
      "Result 2: 2469\n"
     ]
    },
    {
     "name": "stderr",
     "output_type": "stream",
     "text": [
      "\n"
     ]
    }
   ],
   "source": [
    "# ---- Part 2 ----\n",
    "\n",
    "MAX_TIME_2 = 26\n",
    "n = (len(flow_nodes)-1)\n",
    "n_combinations = int(\"1\" * n, 2) + 1\n",
    "\n",
    "bit_combinations = [f\"{c:015b}\" for c in range(n_combinations // 2)]\n",
    "\n",
    "max_combination_pressure = 0\n",
    "\n",
    "for comb in tqdm(bit_combinations):\n",
    "\n",
    "    visited_by_me = {node: (0, 0) for i, node in enumerate(list(flow_nodes.keys())[:-1]) if int(comb[i])}\n",
    "    visited_by_elephant = {node: (0, 0) for i, node in enumerate(list(flow_nodes.keys())[:-1]) if not int(comb[i])}\n",
    "\n",
    "    best_pressure_me = best_branch_pressure(\n",
    "                                    prev_node=None, \n",
    "                                    curr_node=\"AA\", \n",
    "                                    minutes=0,\n",
    "                                    visited=visited_by_elephant, \n",
    "                                    total_flow=0, \n",
    "                                    total_pressure=0, \n",
    "                                    total_minutes=0,\n",
    "                                    max_time=MAX_TIME_2)\n",
    "\n",
    "    best_pressure_elephant = best_branch_pressure(\n",
    "                                    prev_node=None, \n",
    "                                    curr_node=\"AA\", \n",
    "                                    minutes=0,\n",
    "                                    visited=visited_by_me, \n",
    "                                    total_flow=0, \n",
    "                                    total_pressure=0, \n",
    "                                    total_minutes=0,\n",
    "                                    max_time=MAX_TIME_2)\n",
    "\n",
    "    total_best_pressure = best_pressure_me + best_pressure_elephant\n",
    "    if total_best_pressure > max_combination_pressure:\n",
    "        max_combination_pressure = total_best_pressure\n",
    "\n",
    "print(\"Result 2:\", max_combination_pressure)"
   ]
  }
 ],
 "metadata": {
  "kernelspec": {
   "display_name": "venv",
   "language": "python",
   "name": "python3"
  },
  "language_info": {
   "codemirror_mode": {
    "name": "ipython",
    "version": 3
   },
   "file_extension": ".py",
   "mimetype": "text/x-python",
   "name": "python",
   "nbconvert_exporter": "python",
   "pygments_lexer": "ipython3",
   "version": "3.11.0"
  },
  "orig_nbformat": 4,
  "vscode": {
   "interpreter": {
    "hash": "3b4f4a0e0c7e2681f28ee705e5b990b63c79b3c3cb8de544204aeea2a081309f"
   }
  }
 },
 "nbformat": 4,
 "nbformat_minor": 2
}
