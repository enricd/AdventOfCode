{
 "cells": [
  {
   "cell_type": "code",
   "execution_count": 1,
   "metadata": {},
   "outputs": [],
   "source": [
    "# ----- Day 7: No Space Left On Device -----\n",
    "\n",
    "with open(\"./data_inputs/day07_input.txt\") as f:\n",
    "    input_raw = f.read()\n",
    "\n",
    "commands_raw = input_raw.split(\"\\n\")\n",
    "commands = [(c.split(\" \")) for c in commands_raw]    "
   ]
  },
  {
   "cell_type": "code",
   "execution_count": 2,
   "metadata": {},
   "outputs": [
    {
     "data": {
      "text/plain": [
       "('/abc/de/', '/abc/de/')"
      ]
     },
     "execution_count": 2,
     "metadata": {},
     "output_type": "execute_result"
    }
   ],
   "source": [
    "def get_parent(path: str):\n",
    "    return \"/\".join(path.rstrip(\"/\").split(\"/\")[:-1]) + \"/\"\n",
    "\n",
    "get_parent(\"/abc/de/f.txt\"), get_parent(\"/abc/de/yz/\")"
   ]
  },
  {
   "cell_type": "code",
   "execution_count": 3,
   "metadata": {},
   "outputs": [],
   "source": [
    "cwd = \"\"\n",
    "# the file system (fs) is a 2 levels dictionary of files/dirs and their info\n",
    "# initializing file system with root\n",
    "fs = {\"/\": \n",
    "        {\"name\": \"/\", \n",
    "        \"is_dir\": True, \n",
    "        \"size\": 0, \n",
    "        }\n",
    "    }\n",
    "\n",
    "for c in commands:\n",
    "    if c[0] == \"$\":\n",
    "        if c[1] == \"cd\":\n",
    "            if c[2] == \"/\":\n",
    "                cwd = \"/\"\n",
    "            elif c[2] == \"..\":\n",
    "                cwd = get_parent(cwd)\n",
    "            else:\n",
    "                cwd += (c[2] + \"/\")\n",
    "                \n",
    "        elif c[1] == \"ls\":\n",
    "            continue\n",
    "\n",
    "    else:\n",
    "        path = (cwd + c[1] + \"/\")\n",
    "        if path not in fs:\n",
    "            fs[path] = {\"name\": c[1], \n",
    "                        \"is_dir\": (c[0]==\"dir\"), \n",
    "                        \"size\": 0 if c[0]==\"dir\" else int(c[0]), \n",
    "                        }"
   ]
  },
  {
   "cell_type": "code",
   "execution_count": 4,
   "metadata": {},
   "outputs": [],
   "source": [
    "# Updating all file system sizes, starting from the bottom of the tree's leaf files, to the top root \"/\" \n",
    "max_tree_depth = max([path.count(\"/\") for path in fs.keys()])\n",
    "\n",
    "# Using the number of \"/\" in the file path to determine its depth level in the FS, \n",
    "# dirs have an extra at the end of their path \"/\", so it is removed with .rstrip(\"/\") before counting their level\n",
    "for level in range(12, 0, -1):\n",
    "    for path in fs.keys():\n",
    "        if path.rstrip(\"/\").count(\"/\") == level:\n",
    "            fs[get_parent(path)][\"size\"] += fs[path][\"size\"]"
   ]
  },
  {
   "cell_type": "code",
   "execution_count": 5,
   "metadata": {},
   "outputs": [
    {
     "name": "stdout",
     "output_type": "stream",
     "text": [
      "Result 1: 1315285\n"
     ]
    }
   ],
   "source": [
    "# ---- Part 1 ----\n",
    "\n",
    "total_size = 0\n",
    "for path in fs.keys():\n",
    "    if fs[path][\"is_dir\"] and fs[path][\"size\"] <= 100_000:\n",
    "        total_size += fs[path][\"size\"]\n",
    "\n",
    "print(\"Result 1:\", total_size)"
   ]
  },
  {
   "cell_type": "code",
   "execution_count": 6,
   "metadata": {},
   "outputs": [
    {
     "name": "stdout",
     "output_type": "stream",
     "text": [
      "minimum size to delete: 8748071\n",
      "Result 2: 9847279\n"
     ]
    }
   ],
   "source": [
    "# ---- Part 2 ----\n",
    "\n",
    "DISK_SIZE = 70_000_000\n",
    "REQUIRED_SIZE = 30_000_000\n",
    "\n",
    "min_size_to_delete = REQUIRED_SIZE - (DISK_SIZE - fs[\"/\"][\"size\"])\n",
    "print(\"minimum size to delete:\", min_size_to_delete)\n",
    "\n",
    "curr_best_candidate = DISK_SIZE\n",
    "for path in fs.keys():\n",
    "    if min_size_to_delete <= fs[path][\"size\"] < curr_best_candidate:\n",
    "        curr_best_candidate = fs[path][\"size\"]\n",
    "\n",
    "print(\"Result 2:\", curr_best_candidate)"
   ]
  }
 ],
 "metadata": {
  "kernelspec": {
   "display_name": "Python 3.11.0 64-bit",
   "language": "python",
   "name": "python3"
  },
  "language_info": {
   "codemirror_mode": {
    "name": "ipython",
    "version": 3
   },
   "file_extension": ".py",
   "mimetype": "text/x-python",
   "name": "python",
   "nbconvert_exporter": "python",
   "pygments_lexer": "ipython3",
   "version": "3.11.0"
  },
  "orig_nbformat": 4,
  "vscode": {
   "interpreter": {
    "hash": "3d1899a6c99b9db7e131d4b74e4e1b4f8aa84cf78ca3d48624777d2707d0553f"
   }
  }
 },
 "nbformat": 4,
 "nbformat_minor": 2
}
