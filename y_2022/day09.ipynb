{
 "cells": [
  {
   "cell_type": "code",
   "execution_count": 3,
   "metadata": {},
   "outputs": [],
   "source": [
    "from itertools import product\n",
    "import numpy as np\n",
    "import matplotlib.pyplot as plt\n",
    "import imageio\n",
    "from tqdm.notebook import tqdm"
   ]
  },
  {
   "cell_type": "code",
   "execution_count": 4,
   "metadata": {},
   "outputs": [],
   "source": [
    "# ----- Day 9: Rope Bridge -----\n",
    "\n",
    "with open(\"./data_inputs/day09_input.txt\") as f:\n",
    "    input_raw = f.read()\n",
    "\n",
    "motions = [tuple(motion.split(\" \")) for motion in input_raw.split(\"\\n\")]"
   ]
  },
  {
   "cell_type": "code",
   "execution_count": 5,
   "metadata": {},
   "outputs": [
    {
     "name": "stdout",
     "output_type": "stream",
     "text": [
      "Result 1: 6209\n"
     ]
    }
   ],
   "source": [
    "# ---- Part 1 ----\n",
    "\n",
    "h = [0, 0]  # (x, y)\n",
    "t = [0, 0]\n",
    "t_track_log = []\n",
    "\n",
    "get_rel_pos = lambda h, t: (h[0] - t[0], h[1] - t[1])\n",
    "\n",
    "for (dir, steps) in motions:\n",
    "    for _ in range(int(steps)):\n",
    "        match dir:\n",
    "            case \"U\": h[1] += 1      \n",
    "            case \"R\": h[0] += 1           \n",
    "            case \"D\": h[1] -= 1      \n",
    "            case \"L\": h[0] -= 1\n",
    "            case _: raise ValueError(\"Wrong direction!\")\n",
    "\n",
    "        rel_pos = get_rel_pos(h, t)\n",
    "\n",
    "        if rel_pos not in product((-1, 0, 1), repeat=2):\n",
    "            if rel_pos[0] > 0: t[0] += 1 \n",
    "            elif rel_pos[0] < 0: t[0] -= 1\n",
    "\n",
    "            if rel_pos[1] > 0: t[1] += 1\n",
    "            elif rel_pos[1] < 0: t[1] -= 1 \n",
    "\n",
    "        t_track_log.append(tuple(t))\n",
    "\n",
    "\n",
    "pos_visited = len(set(t_track_log))\n",
    "\n",
    "print(\"Result 1:\", pos_visited)"
   ]
  },
  {
   "cell_type": "code",
   "execution_count": 10,
   "metadata": {},
   "outputs": [
    {
     "data": {
      "application/vnd.jupyter.widget-view+json": {
       "model_id": "e4e8bf028d9348ad8eb2accbe898841e",
       "version_major": 2,
       "version_minor": 0
      },
      "text/plain": [
       "  0%|          | 0/2000 [00:00<?, ?it/s]"
      ]
     },
     "metadata": {},
     "output_type": "display_data"
    },
    {
     "name": "stdout",
     "output_type": "stream",
     "text": [
      "Result 2: 2460\n"
     ]
    }
   ],
   "source": [
    "# ---- Part 2 ----\n",
    "\n",
    "def create_frame(arr, i, len_t_pos):\n",
    "    fig = plt.figure(figsize=(5,5))\n",
    "    plt.imshow(arr)\n",
    "    plt.title(f\"Frame: {i}/2000 - Unique tail positions: {len_t_pos}\")\n",
    "    plt.tight_layout()\n",
    "    plt.savefig(f\"./d09_gif/img_{i}.png\", transparent=False)\n",
    "    plt.close()\n",
    "\n",
    "rope = {n: [20, 20] for n in range(10)}\n",
    "\n",
    "t_track_log2 = []\n",
    "frames = []\n",
    "i = 0\n",
    "\n",
    "for (dir, steps) in tqdm(motions):\n",
    "    for _ in range(int(steps)):\n",
    "        match dir:\n",
    "            case \"U\": rope[0][1] += 1      \n",
    "            case \"R\": rope[0][0] += 1           \n",
    "            case \"D\": rope[0][1] -= 1      \n",
    "            case \"L\": rope[0][0] -= 1\n",
    "            case _: raise ValueError(\"Wrong direction!\")\n",
    "\n",
    "        frame = np.zeros((340, 340))\n",
    "\n",
    "        for knot in range(1, 10):\n",
    "            rel_pos = get_rel_pos(rope[knot-1], rope[knot])\n",
    "\n",
    "            if rel_pos not in product((-1, 0, 1), repeat=2):\n",
    "                if rel_pos[0] > 0: rope[knot][0] += 1 \n",
    "                elif rel_pos[0] < 0: rope[knot][0] -= 1\n",
    "\n",
    "                if rel_pos[1] > 0: rope[knot][1] += 1\n",
    "                elif rel_pos[1] < 0: rope[knot][1] -= 1 \n",
    "\n",
    "            frame[*rope[knot]] = 20-knot\n",
    "\n",
    "        if tuple(rope[9]) not in t_track_log2:\n",
    "            t_track_log2.append(tuple(rope[9]))\n",
    "    \n",
    "    if i % 2 == 0:                  # creating only half of the frames/imgs\n",
    "        for t_pos in t_track_log2:\n",
    "            frame[*t_pos] = 5\n",
    "        frame[-1, i%340:(i+5)%340] = 10\n",
    "        create_frame(frame, i, len(t_track_log2))\n",
    "\n",
    "    i += 1\n",
    "\n",
    "for i in range(len(motions)):\n",
    "    image = imageio.v2.imread(f\"./d09_gif/img_{i}.png\")\n",
    "    frames.append(image)\n",
    "\n",
    "imageio.mimsave(\"./day09_part_2.gif\", frames, fps=25)\n",
    "pos_visited2 = len(set(t_track_log2))\n",
    "\n",
    "print(\"Result 2:\", pos_visited2)"
   ]
  },
  {
   "cell_type": "code",
   "execution_count": 12,
   "metadata": {},
   "outputs": [],
   "source": [
    "# OPTIONAL STEP\n",
    "# make sure that you have gifsicle installed in your OS and in the path\n",
    "from pygifsicle import optimize\n",
    "\n",
    "optimize(\"./day09_part_2.gif\")"
   ]
  },
  {
   "attachments": {},
   "cell_type": "markdown",
   "metadata": {},
   "source": [
    "![SegmentLocal](day09_part_2.gif \"segment\")"
   ]
  }
 ],
 "metadata": {
  "kernelspec": {
   "display_name": "Python 3.11.0 ('venv': venv)",
   "language": "python",
   "name": "python3"
  },
  "language_info": {
   "codemirror_mode": {
    "name": "ipython",
    "version": 3
   },
   "file_extension": ".py",
   "mimetype": "text/x-python",
   "name": "python",
   "nbconvert_exporter": "python",
   "pygments_lexer": "ipython3",
   "version": "3.11.0 (main, Oct 24 2022, 18:26:48) [MSC v.1933 64 bit (AMD64)]"
  },
  "orig_nbformat": 4,
  "vscode": {
   "interpreter": {
    "hash": "3b4f4a0e0c7e2681f28ee705e5b990b63c79b3c3cb8de544204aeea2a081309f"
   }
  }
 },
 "nbformat": 4,
 "nbformat_minor": 2
}
