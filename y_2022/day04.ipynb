{
 "cells": [
  {
   "cell_type": "code",
   "execution_count": 1,
   "metadata": {},
   "outputs": [],
   "source": [
    "with open (\"./data_inputs/day04_input.txt\") as f:\n",
    "    input_raw = f.read()"
   ]
  },
  {
   "cell_type": "code",
   "execution_count": 17,
   "metadata": {},
   "outputs": [
    {
     "data": {
      "text/plain": [
       "[[(24, 66), (23, 25)], [(3, 3), (2, 80)], [(14, 80), (13, 20)]]"
      ]
     },
     "execution_count": 17,
     "metadata": {},
     "output_type": "execute_result"
    }
   ],
   "source": [
    "input = input_raw.split(\"\\n\")\n",
    "input = [row.split(\",\") for row in input]\n",
    "\n",
    "assignments = []\n",
    "for row in input:\n",
    "    new_row = []\n",
    "    for assignment in row:\n",
    "        # [([elf1_min, elf1_max], [elf2_min, elf2_max]), ...]\n",
    "        new_row.append(tuple(map(int, assignment.split(\"-\"))))   \n",
    "    \n",
    "    assignments.append(new_row)\n",
    "\n",
    "# Printing an overview\n",
    "assignments[:3]"
   ]
  },
  {
   "cell_type": "code",
   "execution_count": 5,
   "metadata": {},
   "outputs": [
    {
     "name": "stdout",
     "output_type": "stream",
     "text": [
      "Result 1: 518\n"
     ]
    }
   ],
   "source": [
    "# ---- Part 1 ----\n",
    "\n",
    "def is_full_overlap(row):\n",
    "    elf1_min, elf1_max = row[0]\n",
    "    elf2_min, elf2_max = row[1]\n",
    "\n",
    "    if elf1_min >= elf2_min and elf1_max <= elf2_max: return True\n",
    "    elif elf2_min >= elf1_min and elf2_max <= elf1_max: return True\n",
    "    else: return False\n",
    "\n",
    "full_overlaps = len(list(filter(is_full_overlap, assignments)))\n",
    "\n",
    "print(\"Result 1:\", full_overlaps)"
   ]
  },
  {
   "cell_type": "code",
   "execution_count": 14,
   "metadata": {},
   "outputs": [
    {
     "name": "stdout",
     "output_type": "stream",
     "text": [
      "Result 2: 909\n"
     ]
    }
   ],
   "source": [
    "# ---- Part 2 ----\n",
    "\n",
    "def is_overlap(row):\n",
    "    elf1_min, elf1_max = row[0]\n",
    "    elf2_min, elf2_max = row[1]\n",
    "    \n",
    "    if elf2_min <= elf1_min <= elf2_max: return True      \n",
    "    elif elf2_min <= elf1_max <= elf2_max: return True\n",
    "    elif elf1_min <= elf2_min <= elf1_max: return True\n",
    "    elif elf1_min <= elf2_max <= elf1_max: return True\n",
    "    else: return False  \n",
    "\n",
    "overlaps = len(list(filter(is_overlap, assignments)))\n",
    "\n",
    "print(\"Result 2:\", overlaps)"
   ]
  }
 ],
 "metadata": {
  "kernelspec": {
   "display_name": "Python 3.11.0 64-bit",
   "language": "python",
   "name": "python3"
  },
  "language_info": {
   "codemirror_mode": {
    "name": "ipython",
    "version": 3
   },
   "file_extension": ".py",
   "mimetype": "text/x-python",
   "name": "python",
   "nbconvert_exporter": "python",
   "pygments_lexer": "ipython3",
   "version": "3.11.0"
  },
  "orig_nbformat": 4,
  "vscode": {
   "interpreter": {
    "hash": "3d1899a6c99b9db7e131d4b74e4e1b4f8aa84cf78ca3d48624777d2707d0553f"
   }
  }
 },
 "nbformat": 4,
 "nbformat_minor": 2
}
