{
 "cells": [
  {
   "cell_type": "code",
   "execution_count": 1,
   "metadata": {},
   "outputs": [],
   "source": [
    "import re"
   ]
  },
  {
   "cell_type": "code",
   "execution_count": 2,
   "metadata": {},
   "outputs": [],
   "source": [
    "with open(\"./data_inputs/day15_input.txt\") as f:\n",
    "    input_raw = f.read()\n",
    "\n",
    "sensors = {tuple(map(int, re.findall(r\"-?\\d+\", line)[:2])): {\"beacon\": tuple(map(int, re.findall(r\"-?\\d+\", line)[2:]))} for line in input_raw.split(\"\\n\")}"
   ]
  },
  {
   "cell_type": "code",
   "execution_count": 3,
   "metadata": {},
   "outputs": [],
   "source": [
    "target_y = 2000000\n",
    "target_x_ranges = []\n",
    "\n",
    "for s in sensors:\n",
    "    sensors[s][\"dist\"] = abs(s[0] - sensors[s][\"beacon\"][0]) + abs(s[1] - sensors[s][\"beacon\"][1])\n",
    "    if abs(target_y - s[1]) <= sensors[s][\"dist\"]:\n",
    "        target_dist = abs(target_y - s[1])\n",
    "        target_x_rad = sensors[s][\"dist\"] - target_dist\n",
    "        target_x_ranges.append((s[0] - target_x_rad, s[0] + target_x_rad))"
   ]
  },
  {
   "cell_type": "code",
   "execution_count": 4,
   "metadata": {},
   "outputs": [
    {
     "name": "stdout",
     "output_type": "stream",
     "text": [
      "Result 1: 5083287\n"
     ]
    }
   ],
   "source": [
    "# ---- Part 1 ----\n",
    "\n",
    "def is_overlap(row):\n",
    "    elf1_min, elf1_max = row[0]\n",
    "    elf2_min, elf2_max = row[1]\n",
    "    return (elf1_max >= elf2_min and elf2_max >= elf1_min)\n",
    "\n",
    "is_any_overlap = True\n",
    "\n",
    "while is_any_overlap:\n",
    "    is_any_overlap = False\n",
    "\n",
    "    for i, x_range1 in enumerate(target_x_ranges):\n",
    "        for j, x_range2 in enumerate(target_x_ranges):\n",
    "            if x_range1 == x_range2:\n",
    "                continue\n",
    "            elif is_overlap((x_range1, x_range2)):\n",
    "                is_any_overlap = True\n",
    "                new_range = (min(x_range1[0], x_range2[0]), max(x_range1[1], x_range2[1]))\n",
    "                target_x_ranges.remove(x_range1)\n",
    "                target_x_ranges.remove(x_range2)\n",
    "                target_x_ranges.append(new_range)\n",
    "                break\n",
    "\n",
    "        if is_any_overlap:\n",
    "            break\n",
    "\n",
    "empty_positions = sum([x_range[1] - (x_range[0]-1) for x_range in target_x_ranges])\n",
    "\n",
    "beacons_in_target = len(set([sensors[s][\"beacon\"] for s in list(sensors) if sensors[s][\"beacon\"][1] == target_y]))\n",
    "\n",
    "print(\"Result 1:\", empty_positions - beacons_in_target) "
   ]
  },
  {
   "cell_type": "code",
   "execution_count": 5,
   "metadata": {},
   "outputs": [
    {
     "name": "stdout",
     "output_type": "stream",
     "text": [
      "(3123411, 3392077) (3658837, 3026912)\n"
     ]
    }
   ],
   "source": [
    "# ---- Part 2 ----\n",
    "\n",
    "get_freq = lambda x, y: x * 4_000_000 + y\n",
    "dist = lambda p1, p2: abs(p1[0] - p2[0]) + abs(p1[1] - p2[1])\n",
    "\n",
    "closest_sensors = []\n",
    "\n",
    "for s1 in sensors:\n",
    "    for s2 in sensors:\n",
    "        sensors_dist = dist(s1, s2)\n",
    "        if 0 <= abs((sensors[s1][\"dist\"] + sensors[s2][\"dist\"]) - (sensors_dist)) == 2:\n",
    "            if (s2, s1) not in closest_sensors:\n",
    "                closest_sensors.append((s1, s2))\n",
    "\n",
    "((s1, s2), (s3, s4)) = closest_sensors\n",
    "\n",
    "print(s1, s2)       # s1 is at the bottom left of s2"
   ]
  },
  {
   "cell_type": "code",
   "execution_count": 6,
   "metadata": {},
   "outputs": [
    {
     "name": "stdout",
     "output_type": "stream",
     "text": [
      "Result 2: 13134039205729\n"
     ]
    }
   ],
   "source": [
    "d1 = sensors[s1][\"dist\"]\n",
    "d3 = sensors[s3][\"dist\"]\n",
    "d4 = sensors[s4][\"dist\"]\n",
    "\n",
    "beacon = None\n",
    "for i in range(d1 + 2):\n",
    "    # scanning all points from the top right of the s1 limit colliding with the s2 limit\n",
    "    p = (s1[0] + i, s1[1] - (d1-i+1))      \n",
    "    if dist(p, s3) > d3 and dist(p, s4) > d4:\n",
    "        beacon = p\n",
    "        break\n",
    "\n",
    "print(\"Result 2:\", get_freq(beacon[0], beacon[1]))\n"
   ]
  }
 ],
 "metadata": {
  "kernelspec": {
   "display_name": "venv",
   "language": "python",
   "name": "python3"
  },
  "language_info": {
   "codemirror_mode": {
    "name": "ipython",
    "version": 3
   },
   "file_extension": ".py",
   "mimetype": "text/x-python",
   "name": "python",
   "nbconvert_exporter": "python",
   "pygments_lexer": "ipython3",
   "version": "3.11.0"
  },
  "orig_nbformat": 4,
  "vscode": {
   "interpreter": {
    "hash": "3b4f4a0e0c7e2681f28ee705e5b990b63c79b3c3cb8de544204aeea2a081309f"
   }
  }
 },
 "nbformat": 4,
 "nbformat_minor": 2
}
