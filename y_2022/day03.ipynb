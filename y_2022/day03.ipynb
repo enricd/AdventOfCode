{
 "cells": [
  {
   "cell_type": "code",
   "execution_count": 1,
   "metadata": {},
   "outputs": [
    {
     "data": {
      "text/plain": [
       "[('TZZjzzZLfZbzgzZNNJZj', 'wCVbwMmhwCbBpCMMBCbM'),\n",
       " ('qRQPDqnWFQDt', 'CCBQmQwmGGVG'),\n",
       " ('FPllWPDPrnc', 'ZsLVrgSZTSZ')]"
      ]
     },
     "execution_count": 1,
     "metadata": {},
     "output_type": "execute_result"
    }
   ],
   "source": [
    "with open('./data_inputs/day03_input.txt') as f:\n",
    "    input_raw = f.read()\n",
    "\n",
    "rucksacks = input_raw.split(\"\\n\")\n",
    "\n",
    "# [(left_compartment, right_compartment), ...]\n",
    "rucksacks_compartments = [(rucksack[: len(rucksack)//2], rucksack[len(rucksack)//2 :]) for rucksack in rucksacks]\n",
    "\n",
    "# Printing an overview\n",
    "rucksacks_compartments[:3]"
   ]
  },
  {
   "cell_type": "code",
   "execution_count": 2,
   "metadata": {},
   "outputs": [
    {
     "name": "stdout",
     "output_type": "stream",
     "text": [
      "a: 97, z: 122, A: 65, Z: 90\n"
     ]
    }
   ],
   "source": [
    "# ASCII lower case range: 97(a) to 122(z)\n",
    "# ASCII upper case range: 65(A) to 90(Z)\n",
    "# (ord() and chr() are useful here)\n",
    "\n",
    "print(f\"a: {ord('a')}, z: {ord('z')}, A: {ord('A')}, Z: {ord('Z')}\")"
   ]
  },
  {
   "cell_type": "code",
   "execution_count": 3,
   "metadata": {},
   "outputs": [],
   "source": [
    "# Dictionary to assign every letter char with its priority value {letter_char: priority_value}\n",
    "\n",
    "priorities_lower = {chr(i+97): i+1 for i in range(26)}      # a: 1  ==> z: 26,\n",
    "priorities_upper = {chr(i+65): i+27 for i in range(26)}     # A: 27 ==> Z: 52\n",
    "\n",
    "# Concatenating both dicts in a single one\n",
    "priorities = priorities_lower.copy()\n",
    "priorities.update(priorities_upper)"
   ]
  },
  {
   "cell_type": "code",
   "execution_count": 4,
   "metadata": {},
   "outputs": [
    {
     "name": "stdout",
     "output_type": "stream",
     "text": [
      "Result 1: 8202\n"
     ]
    }
   ],
   "source": [
    "# ---- Part 1 ----\n",
    "\n",
    "def find_duplicated_rucksack_item(rucksack):\n",
    "    left, right = rucksack[0], rucksack[1]\n",
    "    for item in left:\n",
    "        if item in right:\n",
    "            return item\n",
    "\n",
    "all_duplicated_items = list(map(find_duplicated_rucksack_item, rucksacks_compartments))\n",
    "\n",
    "total_priority = sum([priorities[item] for item in all_duplicated_items])\n",
    "\n",
    "print(\"Result 1:\", total_priority)\n",
    "    "
   ]
  },
  {
   "cell_type": "code",
   "execution_count": 5,
   "metadata": {},
   "outputs": [
    {
     "name": "stdout",
     "output_type": "stream",
     "text": [
      "Result 2: 2864\n"
     ]
    }
   ],
   "source": [
    "# ---- Part 2 ----\n",
    "\n",
    "def find_duplicated_group_item(group):  \n",
    "    # concatenating left and right compartments of each elf rucksack, from each group of 3 elves\n",
    "    elf1, elf2, elf3 = [rucksack[0] + rucksack[1] for rucksack in group] \n",
    "    for item in elf1:\n",
    "        if item in elf2:\n",
    "            if item in elf3:\n",
    "                return item\n",
    "\n",
    "elves_groups = [rucksacks_compartments[i : i+3] for i in range(0, len(rucksacks_compartments), 3)]\n",
    "all_group_badges = list(map(find_duplicated_group_item, elves_groups))\n",
    "\n",
    "total_priority_2 = sum([priorities[badge] for badge in all_group_badges])\n",
    "\n",
    "print(\"Result 2:\", total_priority_2)"
   ]
  }
 ],
 "metadata": {
  "kernelspec": {
   "display_name": "Python 3.11.0 64-bit",
   "language": "python",
   "name": "python3"
  },
  "language_info": {
   "codemirror_mode": {
    "name": "ipython",
    "version": 3
   },
   "file_extension": ".py",
   "mimetype": "text/x-python",
   "name": "python",
   "nbconvert_exporter": "python",
   "pygments_lexer": "ipython3",
   "version": "3.11.5"
  },
  "orig_nbformat": 4,
  "vscode": {
   "interpreter": {
    "hash": "3d1899a6c99b9db7e131d4b74e4e1b4f8aa84cf78ca3d48624777d2707d0553f"
   }
  }
 },
 "nbformat": 4,
 "nbformat_minor": 2
}
