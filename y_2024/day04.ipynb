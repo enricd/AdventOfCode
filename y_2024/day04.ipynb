{
 "cells": [
  {
   "cell_type": "code",
   "execution_count": null,
   "metadata": {},
   "outputs": [
    {
     "name": "stdout",
     "output_type": "stream",
     "text": [
      "Part 1: 2462\n"
     ]
    }
   ],
   "source": [
    "with open(\"data_inputs/day04_input.txt\") as file:\n",
    "    w = file.read().splitlines()\n",
    "\n",
    "\n",
    "# ---- Part 1 ----\n",
    "\n",
    "def count_x_xmas(i, j):\n",
    "    xmas = \"XMAS\"\n",
    "    count = 0\n",
    "    # horizontal right\n",
    "    if j < len(w[0])-3 and w[i][j:j+4] == xmas: count += 1\n",
    "    # horizontal left\n",
    "    if j >= 3 and w[i][j] + w[i][j-1] + w[i][j-2] + w[i][j-3] == xmas: count += 1\n",
    "    # vertical down\n",
    "    if i < len(w)-3 and w[i][j] + w[i+1][j] + w[i+2][j] + w[i+3][j] == xmas: count += 1\n",
    "    # vertical up\n",
    "    if i >= 3 and w[i][j] + w[i-1][j] + w[i-2][j] + w[i-3][j] == xmas: count += 1\n",
    "    # diagonal down right\n",
    "    if i < len(w)-3 and j < len(w[0])-3 and w[i][j] + w[i+1][j+1] + w[i+2][j+2] + w[i+3][j+3] == xmas: count += 1\n",
    "    # diagonal down left\n",
    "    if i < len(w)-3 and j >= 3 and w[i][j] + w[i+1][j-1] + w[i+2][j-2] + w[i+3][j-3] == xmas: count += 1\n",
    "    # diagonal up right\n",
    "    if i >= 3 and j < len(w[0])-3 and w[i][j] + w[i-1][j+1] + w[i-2][j+2] + w[i-3][j+3] == xmas: count += 1\n",
    "    # diagonal up left\n",
    "    if i >= 3 and j >= 3 and w[i][j] + w[i-1][j-1] + w[i-2][j-2] + w[i-3][j-3] == xmas: count += 1\n",
    "\n",
    "    return count\n",
    "\n",
    "count = 0\n",
    "for i in range(len(w)):\n",
    "    for j in range(len(w[0])):\n",
    "        if w[i][j] == \"X\":\n",
    "            count += count_x_xmas(i, j)\n",
    "    \n",
    "print(\"Part 1:\", count)"
   ]
  },
  {
   "cell_type": "code",
   "execution_count": null,
   "metadata": {},
   "outputs": [
    {
     "name": "stdout",
     "output_type": "stream",
     "text": [
      "Part 2: 1877\n"
     ]
    }
   ],
   "source": [
    "# ---- Part 2 ----\n",
    "\n",
    "def count_x_mas(i, j):\n",
    "    # [a][.][b]    [M][.][S]   [M][.][M]   [S][.][M]   [S][.][S]\n",
    "    # [.][c][.] -> [.][A][.]   [.][A][.]   [.][A][.]   [.][A][.]\n",
    "    # [d][.][e]    [M][.][S]   [S][.][S]   [S][.][M]   [M][.][M]\n",
    "\n",
    "    abcde = w[i][j] + w[i][j+2] + w[i+1][j+1] + w[i+2][j] + w[i+2][j+2]\n",
    "\n",
    "    return abcde in [\"MSAMS\", \"MMASS\", \"SMASM\", \"SSAMM\"]\n",
    "\n",
    "count = 0\n",
    "for i in range(len(w)-2):\n",
    "    for j in range(len(w[0])-2):\n",
    "        count += count_x_mas(i, j) \n",
    "\n",
    "print(\"Part 2:\", count)"
   ]
  }
 ],
 "metadata": {
  "kernelspec": {
   "display_name": "Python 3",
   "language": "python",
   "name": "python3"
  },
  "language_info": {
   "codemirror_mode": {
    "name": "ipython",
    "version": 3
   },
   "file_extension": ".py",
   "mimetype": "text/x-python",
   "name": "python",
   "nbconvert_exporter": "python",
   "pygments_lexer": "ipython3",
   "version": "3.11.5"
  }
 },
 "nbformat": 4,
 "nbformat_minor": 2
}
