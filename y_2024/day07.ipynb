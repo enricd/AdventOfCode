{
 "cells": [
  {
   "cell_type": "code",
   "execution_count": null,
   "metadata": {},
   "outputs": [
    {
     "name": "stdout",
     "output_type": "stream",
     "text": [
      "28730327770375\n"
     ]
    }
   ],
   "source": [
    "with open(\"data_inputs/day07_input.txt\") as file:\n",
    "    data = file.read().splitlines()\n",
    "\n",
    "# ---- Part 1 ----\n",
    "\n",
    "all_combs = lambda n: [list(map(int, bin(i)[2:].zfill(n))) for i in range(2**n)]\n",
    "\n",
    "result1 = 0\n",
    "for line in data:\n",
    "    test_n = int(line.split(\":\")[0])\n",
    "    nums = list(map(int, line.split(\":\")[1].split()))\n",
    "    for comb in all_combs(len(nums)-1):\n",
    "        res = nums[0]\n",
    "        for i, op in enumerate(comb):\n",
    "            if op:\n",
    "                res += nums[i+1]\n",
    "            else:\n",
    "                res *= nums[i+1]\n",
    "            if res > test_n:\n",
    "                break\n",
    "        if res == test_n:\n",
    "            result1 += test_n\n",
    "            break\n",
    "\n",
    "print(result1) "
   ]
  },
  {
   "cell_type": "code",
   "execution_count": null,
   "metadata": {},
   "outputs": [
    {
     "name": "stdout",
     "output_type": "stream",
     "text": [
      "424977609625985\n"
     ]
    }
   ],
   "source": [
    "# ---- Part 2 ----\n",
    "\n",
    "import itertools\n",
    "\n",
    "result2 = 0\n",
    "for line in data:\n",
    "    test_n = int(line.split(\":\")[0])\n",
    "    nums = list(map(int, line.split(\":\")[1].split()))\n",
    "    for comb in list(itertools.product([0, 1, 2], repeat=len(nums)-1)):\n",
    "        res = nums[0]\n",
    "        for i, op in enumerate(comb):\n",
    "            if op == 0:\n",
    "                res += nums[i+1]\n",
    "            elif op == 1:\n",
    "                res *= nums[i+1]\n",
    "            else:\n",
    "                res = int(f\"{res}{nums[i+1]}\")\n",
    "            if res > test_n:\n",
    "                break\n",
    "        if res == test_n:\n",
    "            result2 += test_n\n",
    "            break\n",
    "\n",
    "print(result2) "
   ]
  }
 ],
 "metadata": {
  "kernelspec": {
   "display_name": "Python 3",
   "language": "python",
   "name": "python3"
  },
  "language_info": {
   "codemirror_mode": {
    "name": "ipython",
    "version": 3
   },
   "file_extension": ".py",
   "mimetype": "text/x-python",
   "name": "python",
   "nbconvert_exporter": "python",
   "pygments_lexer": "ipython3",
   "version": "3.11.4"
  }
 },
 "nbformat": 4,
 "nbformat_minor": 2
}
