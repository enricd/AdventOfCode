{
 "cells": [
  {
   "cell_type": "code",
   "execution_count": 1,
   "metadata": {},
   "outputs": [
    {
     "name": "stdout",
     "output_type": "stream",
     "text": [
      "Result 1: 798\n",
      "Result 2: 1816\n"
     ]
    }
   ],
   "source": [
    "with open(\"data_inputs/day10_input.txt\") as file:\n",
    "    data = file.read().splitlines()\n",
    "\n",
    "topo_map = [list(map(int, line)) for line in data]\n",
    "\n",
    "result1 = 0\n",
    "result2 = 0\n",
    "\n",
    "for y in range(len(topo_map)):\n",
    "    for x in range(len(topo_map[0])):\n",
    "        if (z := topo_map[y][x]) == 9:\n",
    "            stack = [(x, y, z)]\n",
    "            heads = []\n",
    "            while stack:\n",
    "                curr_x, curr_y, curr_z = stack.pop()\n",
    "\n",
    "                # left\n",
    "                if curr_x > 0:\n",
    "                    if (next_z := topo_map[curr_y][curr_x-1]) == curr_z-1:\n",
    "                        if next_z == 0:\n",
    "                            result2 += 1\n",
    "                            if (curr_x-1, curr_y) not in heads:\n",
    "                                heads.append((curr_x-1, curr_y))\n",
    "                                result1 += 1         \n",
    "                        else:\n",
    "                            stack.append((curr_x-1, curr_y, next_z))\n",
    "                # right \n",
    "                if curr_x < len(topo_map[0])-1:\n",
    "                    if (next_z := topo_map[curr_y][curr_x+1]) == curr_z-1:\n",
    "                        if next_z == 0 :\n",
    "                            result2 += 1\n",
    "                            if (curr_x+1, curr_y) not in heads:\n",
    "                                heads.append((curr_x+1, curr_y))  \n",
    "                                result1 += 1   \n",
    "                        else:\n",
    "                            stack.append((curr_x+1, curr_y, next_z))\n",
    "                # up\n",
    "                if curr_y > 0:\n",
    "                    if (next_z := topo_map[curr_y-1][curr_x]) == curr_z-1:\n",
    "                        if next_z == 0: \n",
    "                            result2 += 1\n",
    "                            if (curr_x, curr_y-1) not in heads:\n",
    "                                heads.append((curr_x, curr_y-1))  \n",
    "                                result1 += 1   \n",
    "                        else:\n",
    "                            stack.append((curr_x, curr_y-1, next_z))\n",
    "                # down\n",
    "                if curr_y < len(topo_map)-1:\n",
    "                    if (next_z := topo_map[curr_y+1][curr_x]) == curr_z-1:\n",
    "                        if next_z == 0: \n",
    "                            result2 += 1\n",
    "                            if (curr_x, curr_y+1) not in heads:\n",
    "                                heads.append((curr_x, curr_y+1))  \n",
    "                                result1 += 1   \n",
    "                        else:\n",
    "                            stack.append((curr_x, curr_y+1, next_z))\n",
    "\n",
    "\n",
    "print(\"Result 1:\", result1)  \n",
    "print(\"Result 2:\", result2)"
   ]
  }
 ],
 "metadata": {
  "kernelspec": {
   "display_name": "Python 3",
   "language": "python",
   "name": "python3"
  },
  "language_info": {
   "codemirror_mode": {
    "name": "ipython",
    "version": 3
   },
   "file_extension": ".py",
   "mimetype": "text/x-python",
   "name": "python",
   "nbconvert_exporter": "python",
   "pygments_lexer": "ipython3",
   "version": "3.11.4"
  }
 },
 "nbformat": 4,
 "nbformat_minor": 2
}
