{
 "cells": [
  {
   "cell_type": "code",
   "execution_count": null,
   "metadata": {},
   "outputs": [],
   "source": [
    "with open(\"data_inputs/day01_input.txt\") as file:\n",
    "    data_raw = file.read().splitlines()\n",
    "\n",
    "\n",
    "# ---- Part 1 ----\n",
    "\n",
    "list1 = sorted([int(line.split(\"   \")[0]) for line in data_raw])\n",
    "list2 = sorted([int(line.split(\"   \")[1]) for line in data_raw])\n",
    "\n",
    "resul1 = sum([abs(loc_id1 - loc_id2) for loc_id1, loc_id2 in zip(list1, list2)])\n",
    "\n",
    "print(f\"Part 1: {resul1}\")"
   ]
  },
  {
   "cell_type": "code",
   "execution_count": null,
   "metadata": {},
   "outputs": [],
   "source": [
    "# ---- Part 2 ----\n",
    "\n",
    "value_counts2 = {}\n",
    "\n",
    "for loc_id in list2:\n",
    "    if loc_id in value_counts2:\n",
    "        value_counts2[loc_id] += 1\n",
    "    else:\n",
    "        value_counts2[loc_id] = 1\n",
    "\n",
    "result2 = sum([loc_id * value_counts2[loc_id] for loc_id in list1 if loc_id in value_counts2])\n",
    "\n",
    "print(f\"Part 2: {result2}\")"
   ]
  }
 ],
 "metadata": {
  "kernelspec": {
   "display_name": "Python 3",
   "language": "python",
   "name": "python3"
  },
  "language_info": {
   "codemirror_mode": {
    "name": "ipython",
    "version": 3
   },
   "file_extension": ".py",
   "mimetype": "text/x-python",
   "name": "python",
   "nbconvert_exporter": "python",
   "pygments_lexer": "ipython3",
   "version": "3.11.5"
  }
 },
 "nbformat": 4,
 "nbformat_minor": 2
}
