{
 "cells": [
  {
   "cell_type": "code",
   "execution_count": 1,
   "metadata": {},
   "outputs": [],
   "source": [
    "with open(\"data_inputs/day08_input.txt\") as file:\n",
    "    map = file.read().splitlines()"
   ]
  },
  {
   "cell_type": "code",
   "execution_count": 9,
   "metadata": {},
   "outputs": [
    {
     "name": "stdout",
     "output_type": "stream",
     "text": [
      "Result1: 318\n"
     ]
    }
   ],
   "source": [
    "f_ant = {}\n",
    "\n",
    "for i in range(len(map)):\n",
    "    for j in range(len(map[0])):\n",
    "        obj = map[i][j]\n",
    "        if obj != \".\":\n",
    "            if obj not in f_ant:\n",
    "                f_ant[obj] = [(i, j)]\n",
    "            else:\n",
    "                f_ant[obj].append((i, j))\n",
    "\n",
    "antinodes = []\n",
    "\n",
    "for freq in f_ant:\n",
    "    for ant1 in f_ant[freq]:\n",
    "        for ant2 in f_ant[freq]:\n",
    "            if ant1 != ant2:\n",
    "                antinode1 = (ant1[0] + (ant1[0]-ant2[0]), ant1[1] + (ant1[1]-ant2[1]))\n",
    "                antinode2 = (ant2[0] + (ant2[0]-ant1[0]), ant2[1] + (ant2[1]-ant1[1]))\n",
    "                for antinode in [antinode1, antinode2]:\n",
    "                    if 0 <= antinode[0] < len(map) and 0 <= antinode[1] < len(map[0]):\n",
    "                        if antinode not in antinodes:\n",
    "                            antinodes.append(antinode)\n",
    "\n",
    "print(\"Result1:\", len(antinodes))"
   ]
  },
  {
   "cell_type": "code",
   "execution_count": 12,
   "metadata": {},
   "outputs": [
    {
     "name": "stdout",
     "output_type": "stream",
     "text": [
      "Result2: 1126\n"
     ]
    }
   ],
   "source": [
    "antinodes = []\n",
    "\n",
    "for freq in f_ant:\n",
    "    for ant1 in f_ant[freq]:\n",
    "        for ant2 in f_ant[freq]:\n",
    "            if ant1 != ant2:\n",
    "                dist_x1 = ant1[0] - ant2[0]\n",
    "                dist_y1 = ant1[1] - ant2[1]\n",
    "                i1 = -1\n",
    "                while True:\n",
    "                    i1 += 1\n",
    "                    antinode1 = (ant1[0] + i1 * dist_x1, ant1[1] + i1 * dist_y1)\n",
    "                    if 0 <= antinode1[0] < len(map) and 0 <= antinode1[1] < len(map[0]):\n",
    "                        if antinode1 not in antinodes:\n",
    "                            antinodes.append(antinode1)\n",
    "                    else:\n",
    "                        break\n",
    "                \n",
    "                dist_x2 = ant2[0] - ant1[0]\n",
    "                dist_y2 = ant2[1] - ant1[1]\n",
    "                i2 = -1\n",
    "                while True:\n",
    "                    i2 += 1\n",
    "                    antinode2 = (ant2[0] + i2 * dist_x2, ant2[1] + i2 * dist_y2)\n",
    "                    if 0 <= antinode2[0] < len(map) and 0 <= antinode2[1] < len(map[0]):\n",
    "                        if antinode2 not in antinodes:\n",
    "                            antinodes.append(antinode2)\n",
    "                    else:\n",
    "                        break\n",
    "\n",
    "print(\"Result2:\", len(antinodes))   # 1006 low"
   ]
  }
 ],
 "metadata": {
  "kernelspec": {
   "display_name": "Python 3",
   "language": "python",
   "name": "python3"
  },
  "language_info": {
   "codemirror_mode": {
    "name": "ipython",
    "version": 3
   },
   "file_extension": ".py",
   "mimetype": "text/x-python",
   "name": "python",
   "nbconvert_exporter": "python",
   "pygments_lexer": "ipython3",
   "version": "3.11.4"
  }
 },
 "nbformat": 4,
 "nbformat_minor": 2
}
