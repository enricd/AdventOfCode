{
 "cells": [
  {
   "cell_type": "code",
   "execution_count": null,
   "metadata": {},
   "outputs": [
    {
     "name": "stdout",
     "output_type": "stream",
     "text": [
      "Part 1: 167090022\n"
     ]
    }
   ],
   "source": [
    "with open(\"data_inputs/day03_input.txt\") as file:\n",
    "    data_raw = file.read()\n",
    "\n",
    "\n",
    "# ---- Part 1 ----\n",
    "\n",
    "import re\n",
    "\n",
    "pattern = r\"mul\\(\\b\\d{1,3}\\b\\,\\b\\d{1,3}\\b\\)\"\n",
    "result1 = 0\n",
    "\n",
    "def calc_mul(s):\n",
    "    s = s.lstrip(\"mul(\").rstrip(\")\")\n",
    "    a, b = s.split(\",\")\n",
    "    return int(a) * int(b)\n",
    "\n",
    "line_muls = re.findall(pattern, data_raw)\n",
    "result1 += sum(map(calc_mul, line_muls))\n",
    "    \n",
    "print(\"Part 1:\", result1)"
   ]
  },
  {
   "cell_type": "code",
   "execution_count": 5,
   "metadata": {},
   "outputs": [
    {
     "name": "stdout",
     "output_type": "stream",
     "text": [
      "Part 2: 89823704\n"
     ]
    }
   ],
   "source": [
    "# ---- Part 2 ----\n",
    "\n",
    "data2 = data_raw.split(\"do()\")\n",
    "data2 = [line.split(\"don't()\")[0] for line in data2]\n",
    "\n",
    "result2 = 0\n",
    "\n",
    "for line in data2:\n",
    "    line_muls = re.findall(pattern, line)\n",
    "    result2 += sum(map(calc_mul, line_muls))\n",
    "    \n",
    "print(\"Part 2:\", result2)   # 93994894 high"
   ]
  }
 ],
 "metadata": {
  "kernelspec": {
   "display_name": "Python 3",
   "language": "python",
   "name": "python3"
  },
  "language_info": {
   "codemirror_mode": {
    "name": "ipython",
    "version": 3
   },
   "file_extension": ".py",
   "mimetype": "text/x-python",
   "name": "python",
   "nbconvert_exporter": "python",
   "pygments_lexer": "ipython3",
   "version": "3.11.5"
  }
 },
 "nbformat": 4,
 "nbformat_minor": 2
}
