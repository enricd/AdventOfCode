{
 "cells": [
  {
   "cell_type": "code",
   "execution_count": 23,
   "metadata": {},
   "outputs": [
    {
     "name": "stdout",
     "output_type": "stream",
     "text": [
      "Part 1: 598\n"
     ]
    }
   ],
   "source": [
    "with open(\"data_inputs/day02_input.txt\") as file:\n",
    "    data_raw = file.read().splitlines()\n",
    "\n",
    "\n",
    "# ---- Part 1 ----\n",
    "\n",
    "reports = [list(map(int, report.split(\" \"))) for report in data_raw]\n",
    "\n",
    "safe_reports = 0\n",
    "\n",
    "for report in reports:\n",
    "    rep_diffs = []\n",
    "    abs_rep_diffs = []\n",
    "    safe = True\n",
    "\n",
    "    for i, j in zip(report[:-1], report[1:]):\n",
    "        rep_diffs.append(j-i)\n",
    "        abs_rep_diffs.append(abs(j-i))\n",
    "        if abs(j-i) > 3 or j==i:\n",
    "            safe = False\n",
    "            break\n",
    "\n",
    "    if safe and abs(sum(rep_diffs)) == sum(abs_rep_diffs):\n",
    "        safe_reports += 1\n",
    "\n",
    "print(\"Part 1:\", safe_reports) "
   ]
  },
  {
   "cell_type": "code",
   "execution_count": 39,
   "metadata": {},
   "outputs": [
    {
     "name": "stdout",
     "output_type": "stream",
     "text": [
      "Part 2: 634\n"
     ]
    }
   ],
   "source": [
    "# ---- Part 2 ----\n",
    "\n",
    "reports = [list(map(int, report.split(\" \"))) for report in data_raw]\n",
    "\n",
    "def classify_diff(x):\n",
    "    if x == 0:\n",
    "        return \"eq\"    \n",
    "    elif x > 0 and x <= 3:\n",
    "        return \"pos\"\n",
    "    elif x < 0 and x >= -3:\n",
    "        return \"neg\"\n",
    "    elif x > 3:\n",
    "        return \"unsafe_pos\"\n",
    "    elif x < 3:\n",
    "        return \"unsafe_neg\"\n",
    "    \n",
    "safe_reports = 0\n",
    "\n",
    "for report in reports:\n",
    "    rep_diffs = []\n",
    "    abs_rep_diffs = []\n",
    "    safe = True\n",
    "\n",
    "    for i, j in zip(report[:-1], report[1:]):\n",
    "        rep_diffs.append(j-i)\n",
    "        abs_rep_diffs.append(abs(j-i))\n",
    "        if abs(j-i) > 3 or j==i:\n",
    "            safe = False\n",
    "\n",
    "    if safe and abs(sum(rep_diffs)) == sum(abs_rep_diffs):\n",
    "        safe_reports += 1\n",
    "    else:\n",
    "        diff_class = list(map(classify_diff, rep_diffs))\n",
    "        value_counts = {}\n",
    "        for d in diff_class:\n",
    "            if d not in value_counts:\n",
    "                value_counts[d] = 1\n",
    "            else:\n",
    "                value_counts[d] += 1\n",
    "\n",
    "        if (\"pos\" in value_counts and value_counts[\"pos\"] >= len(rep_diffs)-2) or (\"neg\" in value_counts and value_counts[\"neg\"] >= len(rep_diffs)-2):\n",
    "            for i in range(len(report)):\n",
    "                _report = report.copy()\n",
    "                _report.pop(i)\n",
    "                rep_diffs = []\n",
    "                abs_rep_diffs = []\n",
    "                safe = True\n",
    "\n",
    "                for i, j in zip(_report[:-1], _report[1:]):\n",
    "                    rep_diffs.append(j-i)\n",
    "                    abs_rep_diffs.append(abs(j-i))\n",
    "                    if abs(j-i) > 3 or j==i:\n",
    "                        safe = False\n",
    "\n",
    "                if safe and abs(sum(rep_diffs)) == sum(abs_rep_diffs):\n",
    "                    safe_reports += 1\n",
    "                    break\n",
    "            \n",
    "\n",
    "print(\"Part 2:\", safe_reports)\n"
   ]
  }
 ],
 "metadata": {
  "kernelspec": {
   "display_name": "Python 3",
   "language": "python",
   "name": "python3"
  },
  "language_info": {
   "codemirror_mode": {
    "name": "ipython",
    "version": 3
   },
   "file_extension": ".py",
   "mimetype": "text/x-python",
   "name": "python",
   "nbconvert_exporter": "python",
   "pygments_lexer": "ipython3",
   "version": "3.12.1"
  }
 },
 "nbformat": 4,
 "nbformat_minor": 2
}
