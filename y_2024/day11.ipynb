{
 "cells": [
  {
   "cell_type": "code",
   "execution_count": 1,
   "metadata": {},
   "outputs": [
    {
     "name": "stdout",
     "output_type": "stream",
     "text": [
      "Result 1: 216042\n"
     ]
    }
   ],
   "source": [
    "with open(\"data_inputs/day11_input.txt\") as file:\n",
    "    data = file.read()\n",
    "\n",
    "stones = [int(stone) for stone in data.split()]\n",
    "memo = {}\n",
    "\n",
    "blinks = 25\n",
    "\n",
    "for b in range(blinks):\n",
    "    next_stones = []\n",
    "    for stone in stones:\n",
    "        if stone not in memo:\n",
    "            if stone == 0:\n",
    "                next_stone = 1\n",
    "            elif len(str(stone)) % 2 == 0:\n",
    "                str_stone = str(stone)\n",
    "                s1 = int(str_stone[:len(str_stone)//2])\n",
    "                s2 = int(str_stone[len(str_stone)//2:])\n",
    "                next_stone = (s1, s2)\n",
    "            else:\n",
    "                next_stone = stone * 2024\n",
    "                \n",
    "            memo[stone] = next_stone\n",
    "\n",
    "        else:\n",
    "            next_stone = memo[stone]\n",
    "\n",
    "        if isinstance(next_stone, int):\n",
    "            next_stones.append(next_stone)\n",
    "        else:\n",
    "            next_stones.extend(next_stone)\n",
    "        \n",
    "    stones = next_stones\n",
    "\n",
    "\n",
    "print(\"Result 1:\", len(stones))"
   ]
  },
  {
   "cell_type": "code",
   "execution_count": 2,
   "metadata": {},
   "outputs": [
    {
     "name": "stdout",
     "output_type": "stream",
     "text": [
      "Result 2: 255758646442399\n"
     ]
    }
   ],
   "source": [
    "with open(\"data_inputs/day11_input.txt\") as file:\n",
    "    data = file.read()\n",
    "\n",
    "stones = {int(stone): 1 for stone in data.split()}\n",
    "memo = {}\n",
    "\n",
    "blinks = 75\n",
    "\n",
    "for b in range(blinks):\n",
    "    next_stones = {}\n",
    "    for stone in stones.keys():\n",
    "        if stone not in memo:\n",
    "            if stone == 0:\n",
    "                next_stone = 1\n",
    "            elif len(str(stone)) % 2 == 0:\n",
    "                str_stone = str(stone)\n",
    "                s1 = int(str_stone[:len(str_stone)//2])\n",
    "                s2 = int(str_stone[len(str_stone)//2:])\n",
    "                next_stone = (s1, s2)\n",
    "            else:\n",
    "                next_stone = stone * 2024\n",
    "\n",
    "            memo[stone] = next_stone\n",
    "\n",
    "        else:\n",
    "            next_stone = memo[stone]\n",
    "\n",
    "        if isinstance(next_stone, int):\n",
    "            if next_stone not in next_stones:\n",
    "                next_stones[next_stone] = 1 * stones[stone]\n",
    "            else:\n",
    "                next_stones[next_stone] += 1 * stones[stone]\n",
    "        else:\n",
    "            for next_stone_i in next_stone:\n",
    "                if next_stone_i not in next_stones:\n",
    "                    next_stones[next_stone_i] = 1 * stones[stone]\n",
    "                else:\n",
    "                    next_stones[next_stone_i] += 1 * stones[stone]\n",
    "        \n",
    "    stones = next_stones\n",
    "\n",
    "\n",
    "print(\"Result 2:\", sum(stones.values()))"
   ]
  }
 ],
 "metadata": {
  "kernelspec": {
   "display_name": "Python 3",
   "language": "python",
   "name": "python3"
  },
  "language_info": {
   "codemirror_mode": {
    "name": "ipython",
    "version": 3
   },
   "file_extension": ".py",
   "mimetype": "text/x-python",
   "name": "python",
   "nbconvert_exporter": "python",
   "pygments_lexer": "ipython3",
   "version": "3.11.4"
  }
 },
 "nbformat": 4,
 "nbformat_minor": 2
}
