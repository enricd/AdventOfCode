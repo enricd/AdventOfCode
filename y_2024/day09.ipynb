{
 "cells": [
  {
   "cell_type": "code",
   "execution_count": 1,
   "metadata": {},
   "outputs": [
    {
     "data": {
      "text/plain": [
       "6367087064415"
      ]
     },
     "execution_count": 1,
     "metadata": {},
     "output_type": "execute_result"
    }
   ],
   "source": [
    "with open(\"data_inputs/day09_input.txt\") as file:\n",
    "    data = file.read()\n",
    "\n",
    "\n",
    "compressed_disk = [int(n) for n in data]\n",
    "disk = []\n",
    "disk_files = []\n",
    "\n",
    "for i, block in enumerate(compressed_disk):\n",
    "    if i % 2 == 0:\n",
    "        id = i // 2\n",
    "        disk.extend(id for i in range(block))\n",
    "        disk_files.extend(id for i in range(block))\n",
    "    else:\n",
    "        disk.extend([None for i in range(block)])\n",
    "\n",
    "_disk = disk.copy()\n",
    "\n",
    "for i in range(len(_disk)):\n",
    "    if _disk[i] is None:\n",
    "        _disk[i] = disk_files.pop()\n",
    "        while _disk[-1] is None:\n",
    "            _disk.pop()\n",
    "        _disk.pop()\n",
    "    if None not in _disk:\n",
    "        break\n",
    "\n",
    "checksum = sum([i*id for i, id in enumerate(_disk)])\n",
    "checksum"
   ]
  },
  {
   "cell_type": "code",
   "execution_count": 2,
   "metadata": {},
   "outputs": [
    {
     "data": {
      "text/plain": [
       "6390781891880"
      ]
     },
     "execution_count": 2,
     "metadata": {},
     "output_type": "execute_result"
    }
   ],
   "source": [
    "compressed_disk = [int(n) for n in data]\n",
    "disk = []\n",
    "compressed_disk_files = []\n",
    "compressed_disk_spaces = []\n",
    "\n",
    "for i, block in enumerate(compressed_disk):\n",
    "    if i % 2 == 0:\n",
    "        id = i // 2\n",
    "        disk.extend(id for _ in range(block))\n",
    "        disk_files.extend(id for _ in range(block))\n",
    "        compressed_disk_files.append((sum(compressed_disk[:i]), block))  \n",
    "    else:\n",
    "        disk.extend([None for _ in range(block)])\n",
    "        compressed_disk_spaces.append((sum(compressed_disk[:i]), block))\n",
    "\n",
    "_disk = disk.copy()\n",
    "\n",
    "for i, (idx, file_block) in enumerate(compressed_disk_files[::-1]):\n",
    "    for j, (jdx, space_block) in enumerate(compressed_disk_spaces[:-i if i else None]):\n",
    "        if file_block <= space_block:\n",
    "            file_id = len(compressed_disk)//2 - i\n",
    "            move_block = [file_id for _ in range(file_block)]\n",
    "            compressed_disk_spaces[j] = (jdx+file_block  , space_block-file_block)\n",
    "            for ii, jdx_i in enumerate(range(jdx, jdx+file_block)):\n",
    "                _disk[jdx_i] = move_block.pop(0)\n",
    "                _disk[idx+ii] = None\n",
    "            break\n",
    "\n",
    "checksum = sum([i*id for i, id in enumerate(_disk) if id])\n",
    "checksum "
   ]
  }
 ],
 "metadata": {
  "kernelspec": {
   "display_name": "Python 3",
   "language": "python",
   "name": "python3"
  },
  "language_info": {
   "codemirror_mode": {
    "name": "ipython",
    "version": 3
   },
   "file_extension": ".py",
   "mimetype": "text/x-python",
   "name": "python",
   "nbconvert_exporter": "python",
   "pygments_lexer": "ipython3",
   "version": "3.11.4"
  }
 },
 "nbformat": 4,
 "nbformat_minor": 2
}
