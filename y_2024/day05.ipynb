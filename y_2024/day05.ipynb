{
 "cells": [
  {
   "cell_type": "code",
   "execution_count": 22,
   "metadata": {},
   "outputs": [
    {
     "name": "stdout",
     "output_type": "stream",
     "text": [
      "Part 1: 5948\n",
      "Part 2: 3062\n"
     ]
    }
   ],
   "source": [
    "with open(\"data_inputs/day05_input.txt\") as file:\n",
    "    data = file.read().splitlines()\n",
    "\n",
    "\n",
    "rules = []\n",
    "updates = []\n",
    "\n",
    "for line in data:\n",
    "    if \"|\" in line:\n",
    "        rules.append(tuple(map(int, line.split(\"|\"))))\n",
    "    elif line:\n",
    "        updates.append(list(map(int, line.split(\",\"))))\n",
    "\n",
    "result1 = 0\n",
    "result2 = 0\n",
    "\n",
    "for update in updates:\n",
    "    # valid = check_is_valid_update(update)\n",
    "    valid = True\n",
    "    for i in range(len(update)-1):\n",
    "        if (update[i+1], update[i]) in rules:\n",
    "            valid = False\n",
    "            break\n",
    "\n",
    "    if valid:\n",
    "        result1 += update[len(update) // 2]   \n",
    "\n",
    "    else:\n",
    "        valid2 = False\n",
    "        while not valid2:\n",
    "            valid2 = True\n",
    "            for i in range(len(update)-1):\n",
    "                if (update[i+1], update[i]) in rules:\n",
    "                    valid2 = False\n",
    "                    update[i], update[i+1] = update[i+1], update[i]\n",
    "\n",
    "        result2 += update[len(update) // 2]\n",
    "        \n",
    "\n",
    "print(f\"Part 1: {result1}\")\n",
    "print(f\"Part 2: {result2}\")"
   ]
  }
 ],
 "metadata": {
  "kernelspec": {
   "display_name": "Python 3",
   "language": "python",
   "name": "python3"
  },
  "language_info": {
   "codemirror_mode": {
    "name": "ipython",
    "version": 3
   },
   "file_extension": ".py",
   "mimetype": "text/x-python",
   "name": "python",
   "nbconvert_exporter": "python",
   "pygments_lexer": "ipython3",
   "version": "3.11.4"
  }
 },
 "nbformat": 4,
 "nbformat_minor": 2
}
