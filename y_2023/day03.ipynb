{
 "cells": [
  {
   "cell_type": "code",
   "execution_count": 38,
   "metadata": {},
   "outputs": [
    {
     "data": {
      "text/plain": [
       "['/', '=', '+', '#', '%', '@', '-', '$', '*', '&']"
      ]
     },
     "execution_count": 38,
     "metadata": {},
     "output_type": "execute_result"
    }
   ],
   "source": [
    "with open(\"data_inputs/day03_input.txt\") as f:\n",
    "    data = f.read()\n",
    "\n",
    "# ---- Part 1 ----\n",
    "\n",
    "data_lines = data.split(\"\\n\")\n",
    "\n",
    "symbols = [s for s in set(data) if not s.isnumeric() and s not in [\"\\n\", \".\"]]\n",
    "symbols"
   ]
  },
  {
   "cell_type": "code",
   "execution_count": 39,
   "metadata": {},
   "outputs": [],
   "source": [
    "nums_positions = []\n",
    "\n",
    "# Detecting numbers and their start and stop positions\n",
    "for i, line in enumerate(data_lines):\n",
    "    if i > 0:\n",
    "        top_line = data_lines[i-1]\n",
    "    if i < len(data_lines)-1:\n",
    "        bot_line = data_lines[i+1]\n",
    "    \n",
    "    line_nums = [[[], None, None]]  # [[num, start_pos, stop_pos]]\n",
    "    for j, char in enumerate(line):\n",
    "        if char.isnumeric():\n",
    "            # adding a digit to the current number\n",
    "            line_nums[-1][0].append(char)\n",
    "\n",
    "            # starting a new number with its start pos\n",
    "            if line_nums[-1][1] is None:\n",
    "                line_nums[-1][1] = j\n",
    "\n",
    "            # closing the current number with its stop pos\n",
    "            if j < len(line)-1 and not line[j+1].isnumeric() or j == len(line)-1:\n",
    "                line_nums[-1][2] = j+1\n",
    "                curr_num = line_nums[-1][0]\n",
    "                curr_num = int(\"\".join(curr_num))\n",
    "                line_nums[-1][0] = curr_num\n",
    "\n",
    "                line_nums.append([[], None, None])\n",
    "\n",
    "    if line_nums[-1][1] is None:\n",
    "        line_nums.pop()\n",
    "\n",
    "    nums_positions.append(line_nums)"
   ]
  },
  {
   "cell_type": "code",
   "execution_count": 40,
   "metadata": {},
   "outputs": [
    {
     "name": "stdout",
     "output_type": "stream",
     "text": [
      "Result 1: 550064\n"
     ]
    }
   ],
   "source": [
    "def find_adj_nums(pos, line_nums, line_i, engine_numbers):\n",
    "    for num in line_nums:\n",
    "        value, start, stop = num\n",
    "        if pos in range(start-1, stop+1):\n",
    "            if (line_i, start) not in engine_numbers:\n",
    "                engine_numbers[(line_i, start)] = value\n",
    "\n",
    "\n",
    "# Finding the numbers in engine schematic\n",
    "engine_numbers = {}     # k = (line, start), v = value\n",
    "\n",
    "for i, line in enumerate(data_lines):\n",
    "    top_line_nums = nums_positions[i-1] if i > 0 else None\n",
    "    curr_line_nums = nums_positions[i]\n",
    "    bot_line_nums = nums_positions[i+1] if i < len(data_lines)-1 else None\n",
    "\n",
    "    for j, char in enumerate(line):\n",
    "        if char in symbols:\n",
    "            find_adj_nums(j, top_line_nums, i-1, engine_numbers) if top_line_nums else None\n",
    "            find_adj_nums(j, curr_line_nums, i, engine_numbers)\n",
    "            find_adj_nums(j, bot_line_nums, i+1, engine_numbers) if bot_line_nums else None\n",
    "\n",
    "    # if i > 1: break\n",
    "\n",
    "print(\"Result 1:\", sum(engine_numbers.values()))   "
   ]
  },
  {
   "cell_type": "code",
   "execution_count": 42,
   "metadata": {},
   "outputs": [
    {
     "name": "stdout",
     "output_type": "stream",
     "text": [
      "Result 2: 85010461\n"
     ]
    }
   ],
   "source": [
    "# ---- Part 2 ----\n",
    "\n",
    "def get_adj_nums(pos, line_nums):\n",
    "    adj_nums = []\n",
    "    for num in line_nums:\n",
    "        value, start, stop = num\n",
    "        if pos in range(start-1, stop+1):\n",
    "            adj_nums.append(num)\n",
    "\n",
    "    return adj_nums\n",
    "\n",
    "\n",
    "# Finding gear ratios\n",
    "gear_ratios = []\n",
    "\n",
    "for i, line in enumerate(data_lines):\n",
    "    top_line_nums = nums_positions[i-1] if i > 0 else None\n",
    "    curr_line_nums = nums_positions[i]\n",
    "    bot_line_nums = nums_positions[i+1] if i < len(data_lines)-1 else None\n",
    "\n",
    "    for j, char in enumerate(line):\n",
    "        if char == \"*\":\n",
    "            top_adj_nums = get_adj_nums(j, top_line_nums) if top_line_nums else None\n",
    "            curr_adj_nums = get_adj_nums(j, curr_line_nums)\n",
    "            bot_adj_nums = get_adj_nums(j, bot_line_nums) if bot_line_nums else None\n",
    "\n",
    "            adj_nums = top_adj_nums + curr_adj_nums + bot_adj_nums\n",
    "            if len(adj_nums) == 2:\n",
    "                gear_ratio = adj_nums[0][0] * adj_nums[1][0]\n",
    "                gear_ratios.append(gear_ratio)\n",
    "\n",
    "    # if i > 1: break\n",
    "\n",
    "print(\"Result 2:\", sum(gear_ratios))   "
   ]
  }
 ],
 "metadata": {
  "kernelspec": {
   "display_name": "Python 3",
   "language": "python",
   "name": "python3"
  },
  "language_info": {
   "codemirror_mode": {
    "name": "ipython",
    "version": 3
   },
   "file_extension": ".py",
   "mimetype": "text/x-python",
   "name": "python",
   "nbconvert_exporter": "python",
   "pygments_lexer": "ipython3",
   "version": "3.11.5"
  }
 },
 "nbformat": 4,
 "nbformat_minor": 2
}
