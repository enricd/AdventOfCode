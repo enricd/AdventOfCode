{
 "cells": [
  {
   "cell_type": "code",
   "execution_count": 2,
   "metadata": {},
   "outputs": [],
   "source": [
    "with open(\"data_inputs/day02_input.txt\") as f:\n",
    "    data = f.read()\n",
    "\n",
    "# ---- Part 1 ----\n",
    "\n",
    "data_lines = data.split(\"\\n\")"
   ]
  },
  {
   "cell_type": "code",
   "execution_count": 35,
   "metadata": {},
   "outputs": [
    {
     "name": "stdout",
     "output_type": "stream",
     "text": [
      "Part 1: 3059\n"
     ]
    }
   ],
   "source": [
    "import re\n",
    "\n",
    "games_sets = [[game_set for game_set in line.split(\": \")[1].split(\"; \")] for line in data_lines]\n",
    "\n",
    "# Every set: [R, G, B]\n",
    "colors = [\"red\", \"green\", \"blue\"]\n",
    "max_cubes = [12, 13, 14]\n",
    "\n",
    "rgb_game_sets = []\n",
    "possible_games = []\n",
    "\n",
    "for i, game in enumerate(games_sets):\n",
    "    _game = []\n",
    "    is_possible = True\n",
    "    for game_set in game:\n",
    "        _set = [re.findall(r\"(\\d+) \"+color, game_set) for color in colors]\n",
    "        _set = [(len(n)>0) and int(n[0]) or 0 for n in _set]\n",
    "        if not all(list(map((lambda x, y: x <= y), _set, max_cubes))): is_possible = False  # checking if all colors are possible\n",
    "        _game.append(_set)\n",
    "    \n",
    "    rgb_game_sets.append(_game)\n",
    "    if is_possible: possible_games.append(i+1)\n",
    "\n",
    "print(\"Part 1:\", sum(possible_games))"
   ]
  },
  {
   "cell_type": "code",
   "execution_count": 47,
   "metadata": {},
   "outputs": [
    {
     "name": "stdout",
     "output_type": "stream",
     "text": [
      "Part 2: 65371\n"
     ]
    }
   ],
   "source": [
    "# ---- Part 2 ----\n",
    "\n",
    "games_max_powers = []\n",
    "\n",
    "for game in rgb_game_sets:\n",
    "    game_max_power = 1\n",
    "    set_colors = []\n",
    "    for i in range(3):\n",
    "        set_colors.append([])\n",
    "        for _set in game:\n",
    "            set_colors[i].append(_set[i])\n",
    "        game_max_power *= max(set_colors[i])\n",
    "\n",
    "    games_max_powers.append(game_max_power)\n",
    "\n",
    "print(\"Part 2:\", sum(games_max_powers))\n"
   ]
  }
 ],
 "metadata": {
  "kernelspec": {
   "display_name": "Python 3",
   "language": "python",
   "name": "python3"
  },
  "language_info": {
   "codemirror_mode": {
    "name": "ipython",
    "version": 3
   },
   "file_extension": ".py",
   "mimetype": "text/x-python",
   "name": "python",
   "nbconvert_exporter": "python",
   "pygments_lexer": "ipython3",
   "version": "3.11.5"
  }
 },
 "nbformat": 4,
 "nbformat_minor": 2
}
