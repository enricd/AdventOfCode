{
 "cells": [
  {
   "cell_type": "code",
   "execution_count": 1,
   "metadata": {},
   "outputs": [],
   "source": [
    "import numpy as np\n",
    "\n",
    "\n",
    "with open(\"data_inputs/day13_input.txt\") as f:\n",
    "    data = f.read()\n",
    "\n",
    "data_groups = data.split(\"\\n\\n\")\n",
    "groups = [np.array([list(map(lambda x: int(x==\".\"), list(line))) for line in group.split(\"\\n\")]) for group in data_groups]"
   ]
  },
  {
   "cell_type": "code",
   "execution_count": 2,
   "metadata": {},
   "outputs": [
    {
     "name": "stdout",
     "output_type": "stream",
     "text": [
      "Result1: 35232\n"
     ]
    }
   ],
   "source": [
    "# ---- Part 1 ----\n",
    "\n",
    "result1 = 0\n",
    "\n",
    "for group in groups:\n",
    "    solved = False    \n",
    "    for i in range(len(group)-1):\n",
    "        min_i = min(i+1, len(group)-(i+1))\n",
    "        inv_pattern_i = group[i::-1] if i < min_i else group[i:i-min_i:-1]\n",
    "        pattern_i = group[i+1:i+min_i+1]\n",
    "\n",
    "        if np.all(inv_pattern_i == pattern_i):\n",
    "            result1 += (i+1)*100\n",
    "            solved = True\n",
    "            break\n",
    "\n",
    "    if not solved:\n",
    "        group = np.rot90(group, k=3)\n",
    "        for i in range(len(group)-1):\n",
    "            min_i = min(i+1, len(group)-(i+1))\n",
    "            inv_pattern_i = group[i::-1] if i < min_i else group[i:i-min_i:-1]\n",
    "            pattern_i = group[i+1:i+min_i+1]\n",
    "\n",
    "            if np.all(inv_pattern_i == pattern_i):\n",
    "                result1 += (i+1)\n",
    "                break\n",
    "\n",
    "print(\"Result1:\", result1)"
   ]
  },
  {
   "cell_type": "code",
   "execution_count": 3,
   "metadata": {},
   "outputs": [
    {
     "name": "stdout",
     "output_type": "stream",
     "text": [
      "Result2: 37982\n"
     ]
    }
   ],
   "source": [
    "# ---- Part 2 ----\n",
    "\n",
    "result2 = 0\n",
    "\n",
    "for group in groups:\n",
    "    solved = False    \n",
    "    for i in range(len(group)-1):\n",
    "        min_i = min(i+1, len(group)-(i+1))\n",
    "        inv_pattern_i = group[i::-1] if i < min_i else group[i:i-min_i:-1]\n",
    "        pattern_i = group[i+1:i+min_i+1]\n",
    "\n",
    "        if np.sum(inv_pattern_i != pattern_i) == 1:\n",
    "            result2 += (i+1)*100\n",
    "            solved = True\n",
    "            break\n",
    "\n",
    "    if not solved:\n",
    "        group = np.rot90(group, k=3)\n",
    "        for i in range(len(group)-1):\n",
    "            min_i = min(i+1, len(group)-(i+1))\n",
    "            inv_pattern_i = group[i::-1] if i < min_i else group[i:i-min_i:-1]\n",
    "            pattern_i = group[i+1:i+min_i+1]\n",
    "\n",
    "            if np.sum(inv_pattern_i != pattern_i) == 1:\n",
    "                result2 += (i+1)\n",
    "                break\n",
    "\n",
    "print(\"Result2:\", result2)"
   ]
  }
 ],
 "metadata": {
  "kernelspec": {
   "display_name": "Python 3",
   "language": "python",
   "name": "python3"
  },
  "language_info": {
   "codemirror_mode": {
    "name": "ipython",
    "version": 3
   },
   "file_extension": ".py",
   "mimetype": "text/x-python",
   "name": "python",
   "nbconvert_exporter": "python",
   "pygments_lexer": "ipython3",
   "version": "3.11.5"
  }
 },
 "nbformat": 4,
 "nbformat_minor": 2
}
