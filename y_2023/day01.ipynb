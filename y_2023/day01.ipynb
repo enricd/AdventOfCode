{
 "cells": [
  {
   "cell_type": "code",
   "execution_count": 79,
   "metadata": {},
   "outputs": [
    {
     "name": "stdout",
     "output_type": "stream",
     "text": [
      "Part 1: 55477\n"
     ]
    }
   ],
   "source": [
    "with open(\"data_inputs/day01_input.txt\") as f:\n",
    "    data = f.read()\n",
    "\n",
    "# ---- Part 1 ----\n",
    "\n",
    "data_lines = data.split(\"\\n\")\n",
    "\n",
    "nums = [[c for c in line if c.isnumeric()] for line in data_lines]\n",
    "\n",
    "nums2 = []\n",
    "for num in nums:\n",
    "    if len(num) == 1:\n",
    "        nums2.append(int(\"\".join(num*2)))\n",
    "    else:\n",
    "        nums2.append(int(\"\".join([num[0], num[-1]])))\n",
    "\n",
    "print(\"Part 1:\", sum(nums2))"
   ]
  },
  {
   "cell_type": "code",
   "execution_count": 80,
   "metadata": {},
   "outputs": [
    {
     "name": "stdout",
     "output_type": "stream",
     "text": [
      "Part 2: 54431\n"
     ]
    }
   ],
   "source": [
    "# ---- Part 2 ----\n",
    "\n",
    "with open(\"data_inputs/day01_input.txt\") as f:\n",
    "    data = f.read()\n",
    "\n",
    "word2num = {\n",
    "    \"one\": \"1ne\",\n",
    "    \"two\": \"2wo\",\n",
    "    \"three\": \"3hree\",\n",
    "    \"four\": \"4our\",\n",
    "    \"five\": \"5ive\",\n",
    "    \"six\": \"6ix\",\n",
    "    \"seven\": \"7even\",\n",
    "    \"eight\": \"8ight\",\n",
    "    \"nine\": \"9ine\"\n",
    "}\n",
    "\n",
    "original_data_lines = data.split(\"\\n\")\n",
    "\n",
    "data_lines = []\n",
    "\n",
    "for line in original_data_lines:\n",
    "    _line = line\n",
    "    for i in range(len(line)):\n",
    "        for k in word2num:\n",
    "            sub_line = _line[:i+1].replace(k, str(word2num[k]))\n",
    "            _line = sub_line + _line[i+1:]\n",
    "            \n",
    "    data_lines.append(_line)\n",
    "    # print(_line)\n",
    "\n",
    "nums = [[c for c in line if c.isnumeric()] for line in data_lines]\n",
    "\n",
    "nums2 = []\n",
    "for i, num in enumerate(nums):\n",
    "    if len(num) == 1:\n",
    "        nums2.append(int(\"\".join(num*2)))\n",
    "    else:\n",
    "        nums2.append(int(\"\".join([num[0], num[-1]])))\n",
    "\n",
    "print(\"Part 2:\", sum(nums2))"
   ]
  }
 ],
 "metadata": {
  "kernelspec": {
   "display_name": "Python 3",
   "language": "python",
   "name": "python3"
  },
  "language_info": {
   "codemirror_mode": {
    "name": "ipython",
    "version": 3
   },
   "file_extension": ".py",
   "mimetype": "text/x-python",
   "name": "python",
   "nbconvert_exporter": "python",
   "pygments_lexer": "ipython3",
   "version": "3.11.5"
  }
 },
 "nbformat": 4,
 "nbformat_minor": 2
}
