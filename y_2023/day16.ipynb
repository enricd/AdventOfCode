{
 "cells": [
  {
   "cell_type": "code",
   "execution_count": 1,
   "metadata": {},
   "outputs": [
    {
     "data": {
      "text/plain": [
       "((110, 110),\n",
       " array([[4, 4, 0, ..., 0, 0, 0],\n",
       "        [4, 0, 0, ..., 0, 0, 0],\n",
       "        [0, 0, 3, ..., 0, 0, 0],\n",
       "        ...,\n",
       "        [0, 1, 2, ..., 0, 0, 0],\n",
       "        [0, 0, 0, ..., 0, 4, 1],\n",
       "        [0, 0, 0, ..., 0, 0, 0]], dtype=int8))"
      ]
     },
     "execution_count": 1,
     "metadata": {},
     "output_type": "execute_result"
    }
   ],
   "source": [
    "import numpy as np\n",
    "import matplotlib.pyplot as plt\n",
    "\n",
    "\n",
    "with open(\"data_inputs/day16_input.txt\") as f:\n",
    "    data = f.read()\n",
    "\n",
    "# ---- Part 1 ----\n",
    "    \n",
    "data_lines = data.split(\"\\n\")\n",
    "mirrors_map = np.array([list(map(int, line.replace(\".\", \"0\").replace(\"|\", \"1\").replace(\"-\", \"2\").replace(\"/\", \"3\").replace(\"\\\\\", \"4\"))) for line in data_lines], dtype=np.int8)\n",
    "\n",
    "mirrors_map.shape, mirrors_map"
   ]
  },
  {
   "cell_type": "code",
   "execution_count": 2,
   "metadata": {},
   "outputs": [],
   "source": [
    "class Beam:\n",
    "    def __init__(self, pos: tuple[np.ndarray], dir: np.ndarray, t:int):\n",
    "        self.pos = pos\n",
    "        self.dir = dir\n",
    "        self.t = t\n",
    "\n",
    "    def __hash__(self):\n",
    "        return hash((tuple(self.pos), tuple(self.dir)))"
   ]
  },
  {
   "cell_type": "code",
   "execution_count": 3,
   "metadata": {},
   "outputs": [
    {
     "name": "stdout",
     "output_type": "stream",
     "text": [
      "Result 1: 7242\n"
     ]
    }
   ],
   "source": [
    "# . --> 0\n",
    "# | --> 1\n",
    "# - --> 2\n",
    "# / --> 3\n",
    "# \\ --> 4\n",
    "\n",
    "def validate_pos(pos, mirrors_map):\n",
    "    return (0 <= pos[0] < mirrors_map.shape[0]) and (0 <= pos[1] < mirrors_map.shape[1])\n",
    "\n",
    "def sim(starting_beam: Beam):\n",
    "    t = 0\n",
    "    b_pos_map = np.zeros_like(mirrors_map)\n",
    "    beams = [starting_beam]\n",
    "    beams_cache = {hash(beams[-1])}\n",
    "    b_pos_map[*beams[-1].pos] = 1\n",
    "\n",
    "    while t < 5000 and beams:\n",
    "        t += 1\n",
    "        next_beams = []\n",
    "        for beam_ix in beams:        \n",
    "\n",
    "            if mirrors_map[*beam_ix.pos] == 1:          # |\n",
    "                if beam_ix.dir[0] == 0:\n",
    "                    next_dir1, next_dir2 = np.array([-1, 0]), np.array([1, 0])\n",
    "\n",
    "                    next_pos1 = beam_ix.pos + next_dir1\n",
    "                    if validate_pos(next_pos1, mirrors_map): \n",
    "                        next_beam1 = Beam(next_pos1, next_dir1, t)\n",
    "                        if hash(next_beam1) not in beams_cache:\n",
    "                            beams_cache.add(hash(next_beam1))\n",
    "                            next_beams.append(next_beam1)\n",
    "\n",
    "                    next_pos2 = beam_ix.pos + next_dir2\n",
    "                    if validate_pos(next_pos2, mirrors_map):\n",
    "                        next_beam2 = Beam(next_pos2, next_dir2, t)\n",
    "                        if hash(next_beam2) not in beams_cache:\n",
    "                            beams_cache.add(hash(next_beam2))\n",
    "                            next_beams.append(next_beam2)\n",
    "\n",
    "                    continue\n",
    "\n",
    "            elif mirrors_map[*beam_ix.pos] == 2:        # -\n",
    "                if beam_ix.dir[1] == 0:\n",
    "                    next_dir1, next_dir2 = np.array([0, -1]), np.array([0, 1])\n",
    "\n",
    "                    next_pos1 = beam_ix.pos + next_dir1\n",
    "                    if validate_pos(next_pos1, mirrors_map):\n",
    "                        next_beam1 = Beam(next_pos1, next_dir1, t)\n",
    "                        if hash(next_beam1) not in beams_cache:\n",
    "                            beams_cache.add(hash(next_beam1))\n",
    "                            next_beams.append(next_beam1)\n",
    "\n",
    "                    next_pos2 = beam_ix.pos + next_dir2\n",
    "                    if validate_pos(next_pos2, mirrors_map):\n",
    "                        next_beam2 = Beam(next_pos2, next_dir2, t)\n",
    "                        if hash(next_beam2) not in beams_cache:\n",
    "                            beams_cache.add(hash(next_beam2))\n",
    "                            next_beams.append(next_beam2)\n",
    "\n",
    "                    continue\n",
    "\n",
    "            elif mirrors_map[*beam_ix.pos] == 3:        # / \n",
    "                if np.all(beam_ix.dir == np.array([1, 0])):\n",
    "                    next_dir = np.array([0, -1])\n",
    "                elif np.all(beam_ix.dir == np.array([-1, 0])):\n",
    "                    next_dir = np.array([0, 1])\n",
    "                elif np.all(beam_ix.dir == np.array([0, 1])):\n",
    "                    next_dir = np.array([-1, 0])\n",
    "                else:\n",
    "                    next_dir = np.array([1, 0])\n",
    "                next_pos = beam_ix.pos + next_dir\n",
    "                if validate_pos(next_pos, mirrors_map): \n",
    "                    next_beam = Beam(next_pos, next_dir, t)\n",
    "                    if hash(next_beam) not in beams_cache:\n",
    "                        beams_cache.add(hash(next_beam))\n",
    "                        next_beams.append(next_beam)\n",
    "                continue\n",
    "\n",
    "            elif mirrors_map[*beam_ix.pos] == 4:        # \\\n",
    "                if np.all(beam_ix.dir == np.array([1, 0])):\n",
    "                    next_dir = np.array([0, 1])\n",
    "                elif np.all(beam_ix.dir == np.array([-1, 0])):\n",
    "                    next_dir = np.array([0, -1])\n",
    "                elif np.all(beam_ix.dir == np.array([0, 1])):\n",
    "                    next_dir = np.array([1, 0])\n",
    "                else:\n",
    "                    next_dir = np.array([-1, 0])\n",
    "                next_pos = beam_ix.pos + next_dir\n",
    "                if validate_pos(next_pos, mirrors_map):\n",
    "                    next_beam = Beam(next_pos, next_dir, t)\n",
    "                    if hash(next_beam) not in beams_cache:\n",
    "                        beams_cache.add(hash(next_beam))\n",
    "                        next_beams.append(next_beam)\n",
    "\n",
    "                continue\n",
    "\n",
    "            next_pos = beam_ix.pos + beam_ix.dir\n",
    "            if validate_pos(next_pos, mirrors_map):\n",
    "                next_beam = Beam(next_pos, beam_ix.dir.copy(), t)\n",
    "                if hash(next_beam) not in beams_cache:\n",
    "                    beams_cache.add(hash(next_beam))\n",
    "                    next_beams.append(next_beam)\n",
    "\n",
    "        for beam_ix in next_beams:\n",
    "            b_pos_map[*beam_ix.pos] = 1\n",
    "\n",
    "        beams = next_beams\n",
    "\n",
    "    return np.sum(b_pos_map)\n",
    "\n",
    "\n",
    "print(\"Result 1:\", sim(Beam(np.array([0, 0]), np.array([0, 1]), 0)))"
   ]
  },
  {
   "cell_type": "code",
   "execution_count": 4,
   "metadata": {},
   "outputs": [
    {
     "name": "stdout",
     "output_type": "stream",
     "text": [
      "Result2: 7572\n"
     ]
    }
   ],
   "source": [
    "# ---- Part 2 ----\n",
    "\n",
    "starting_beams = [Beam(np.array([i, 0]), np.array([0, 1]), 0) for i in range(mirrors_map.shape[0])]\n",
    "starting_beams += [Beam(np.array([i, mirrors_map.shape[0]-1]), np.array([0, -1]), 0) for i in range(mirrors_map.shape[0])]\n",
    "starting_beams += [Beam(np.array([0, i]), np.array([1, 0]), 0) for i in range(mirrors_map.shape[1])]\n",
    "starting_beams += [Beam(np.array([mirrors_map.shape[1]-1, i]), np.array([-1, 0]), 0) for i in range(mirrors_map.shape[1])]\n",
    "\n",
    "\n",
    "print(\"Result2:\", max([sim(starting_beam) for starting_beam in starting_beams]))"
   ]
  }
 ],
 "metadata": {
  "kernelspec": {
   "display_name": "Python 3",
   "language": "python",
   "name": "python3"
  },
  "language_info": {
   "codemirror_mode": {
    "name": "ipython",
    "version": 3
   },
   "file_extension": ".py",
   "mimetype": "text/x-python",
   "name": "python",
   "nbconvert_exporter": "python",
   "pygments_lexer": "ipython3",
   "version": "3.11.5"
  }
 },
 "nbformat": 4,
 "nbformat_minor": 2
}
