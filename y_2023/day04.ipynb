{
 "cells": [
  {
   "cell_type": "code",
   "execution_count": 1,
   "metadata": {},
   "outputs": [],
   "source": [
    "with open(\"data_inputs/day04_input.txt\") as f:\n",
    "    data = f.read()\n",
    "\n",
    "# ---- Part 1 ----\n",
    "\n",
    "data_lines = data.split(\"\\n\")"
   ]
  },
  {
   "cell_type": "code",
   "execution_count": 2,
   "metadata": {},
   "outputs": [
    {
     "name": "stdout",
     "output_type": "stream",
     "text": [
      "Result 1: 24848\n"
     ]
    }
   ],
   "source": [
    "points = 0\n",
    "\n",
    "for card in data_lines:\n",
    "    win_nums = card.split(\" | \")[0].split(\": \")[1].split(\" \")\n",
    "    win_nums = [int(num) for num in win_nums if num]\n",
    "    elf_nums = card.split(\" | \")[1].split(\" \")\n",
    "    elf_nums = [int(num) for num in elf_nums if num]\n",
    "    \n",
    "    points_i = 2 ** (len([num for num in elf_nums if num in win_nums]) - 1)\n",
    "    points_i = 0 if points_i < 1 else points_i\n",
    "    points += points_i\n",
    "\n",
    "\n",
    "print(\"Result 1:\", points)"
   ]
  },
  {
   "cell_type": "code",
   "execution_count": 3,
   "metadata": {},
   "outputs": [
    {
     "name": "stdout",
     "output_type": "stream",
     "text": [
      "Result 2: 7258152\n"
     ]
    }
   ],
   "source": [
    "# ---- Part 2 ---\n",
    "\n",
    "card_map = {}\n",
    "\n",
    "for i, card in enumerate(data_lines):\n",
    "    win_nums = card.split(\" | \")[0].split(\": \")[1].split(\" \")\n",
    "    win_nums = [int(num) for num in win_nums if num]\n",
    "    elf_nums = card.split(\" | \")[1].split(\" \")\n",
    "    elf_nums = [int(num) for num in elf_nums if num]\n",
    "    \n",
    "    elf_win_nums = len([num for num in elf_nums if num in win_nums])\n",
    "    card_map[i+1] = list(range(i+2, i+2+elf_win_nums))\n",
    "\n",
    "\n",
    "card_map_count = {}\n",
    "\n",
    "for card in range(len(card_map), 0, -1):\n",
    "    card_map_count[card] = 1 + sum([card_map_count[_card] for _card in card_map[card]])\n",
    "\n",
    "\n",
    "print(\"Result 2:\", sum(card_map_count.values()))"
   ]
  }
 ],
 "metadata": {
  "kernelspec": {
   "display_name": "Python 3",
   "language": "python",
   "name": "python3"
  },
  "language_info": {
   "codemirror_mode": {
    "name": "ipython",
    "version": 3
   },
   "file_extension": ".py",
   "mimetype": "text/x-python",
   "name": "python",
   "nbconvert_exporter": "python",
   "pygments_lexer": "ipython3",
   "version": "3.11.5"
  }
 },
 "nbformat": 4,
 "nbformat_minor": 2
}
