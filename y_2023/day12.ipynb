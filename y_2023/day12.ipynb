{
 "cells": [
  {
   "cell_type": "code",
   "execution_count": 12,
   "metadata": {},
   "outputs": [
    {
     "data": {
      "text/plain": [
       "([2, 1, 4], True)"
      ]
     },
     "execution_count": 12,
     "metadata": {},
     "output_type": "execute_result"
    }
   ],
   "source": [
    "import itertools\n",
    "from functools import cache\n",
    "\n",
    "\n",
    "with open(\"data_inputs/day12_input.txt\") as f:\n",
    "    data = f.read()\n",
    "\n",
    "# data = \"\"\"???.### 1,1,3\n",
    "# .??..??...?##. 1,1,3\n",
    "# ?#?#?#?#?#?#?#? 1,3,1,6\n",
    "# ????.#...#... 4,1,1\n",
    "# ????.######..#####. 1,6,5\n",
    "# ?###???????? 3,2,1\"\"\"    # 525152\n",
    "\n",
    "# ---- Part 1 ----\n",
    "\n",
    "data_lines = data.split(\"\\n\")\n",
    "\n",
    "springs_map = [line.split(\" \") for line in data_lines]\n",
    "springs_map = [[line[0], list(map(int, line[1].split(\",\")))] for line in springs_map]\n",
    "\n",
    "\n",
    "def get_groups(s_map):\n",
    "    groups = []\n",
    "    prev = None\n",
    "    for s in s_map:\n",
    "        if s == \"#\":\n",
    "            if prev == \"#\":\n",
    "                groups[-1] += 1\n",
    "            else:\n",
    "                groups.append(1)\n",
    "        prev = s\n",
    "        \n",
    "    if s == \"#\":\n",
    "        groups[-1] *= -1\n",
    "\n",
    "    return groups\n",
    "\n",
    "\n",
    "def is_arrangement(s_map, groups):\n",
    "    new_groups = []\n",
    "    prev = None\n",
    "    for s in s_map:\n",
    "        if s == \"#\":\n",
    "            if prev == \"#\":\n",
    "                new_groups[-1] += 1\n",
    "                if new_groups[-1] > groups[len(new_groups)-1]:\n",
    "                    return False\n",
    "            else:\n",
    "                new_groups.append(1)\n",
    "                if len(new_groups) > 1:\n",
    "                    if new_groups[-2] != groups[len(new_groups)-2]: \n",
    "                        return False\n",
    "        prev = s\n",
    "\n",
    "    return groups == new_groups\n",
    "\n",
    "get_groups(\".##...#.####.\"), is_arrangement(\".##...#.####.\", [2, 1, 4])"
   ]
  },
  {
   "cell_type": "code",
   "execution_count": 2,
   "metadata": {},
   "outputs": [
    {
     "name": "stdout",
     "output_type": "stream",
     "text": [
      "50\n",
      "100\n",
      "150\n",
      "200\n",
      "250\n",
      "300\n",
      "350\n",
      "400\n",
      "450\n",
      "500\n",
      "550\n",
      "600\n",
      "650\n",
      "700\n",
      "750\n",
      "800\n",
      "850\n",
      "900\n",
      "950\n",
      "1000\n"
     ]
    },
    {
     "data": {
      "text/plain": [
       "7260"
      ]
     },
     "execution_count": 2,
     "metadata": {},
     "output_type": "execute_result"
    }
   ],
   "source": [
    "possible_arrangements = 0\n",
    "\n",
    "it = 0\n",
    "for s_map, groups in springs_map:\n",
    "    it += 1\n",
    "    print(it) if it % 50 == 0 else None\n",
    "    are_questions = [s == \"?\" for s in s_map]\n",
    "    n_springs = s_map.count(\"#\")\n",
    "    for comb in itertools.combinations(range(sum(are_questions)), (sum(groups) - n_springs)):\n",
    "        combination_i = [\"0\"] * sum(are_questions)\n",
    "        for i in comb:\n",
    "            combination_i[i] = \"1\"\n",
    "        combination_i = [(bool(int(comb)) * \"#\") or \".\" for comb in combination_i]\n",
    "        s_map_combination = [(quest and combination_i.pop(0)) or s for quest, s in zip(are_questions, s_map)]\n",
    "        possible_arrangements += is_arrangement(s_map_combination, groups)\n",
    "\n",
    "possible_arrangements\n"
   ]
  },
  {
   "cell_type": "code",
   "execution_count": 3,
   "metadata": {},
   "outputs": [
    {
     "data": {
      "text/plain": [
       "True"
      ]
     },
     "execution_count": 3,
     "metadata": {},
     "output_type": "execute_result"
    }
   ],
   "source": [
    "all([a==b for a, b in zip([], [1,2])])"
   ]
  },
  {
   "cell_type": "code",
   "execution_count": 4,
   "metadata": {},
   "outputs": [
    {
     "name": "stdout",
     "output_type": "stream",
     "text": [
      "3\n"
     ]
    }
   ],
   "source": [
    "if (a:=3) < 4:\n",
    "    print(a)"
   ]
  },
  {
   "cell_type": "code",
   "execution_count": 21,
   "metadata": {},
   "outputs": [],
   "source": [
    "def validate_groups(groups, new_groups, full_groups=False):\n",
    "\n",
    "    # print(groups, new_groups)\n",
    "\n",
    "    if (len_n:=len(new_groups)) > len(groups):\n",
    "        return False\n",
    "    \n",
    "    elif full_groups:\n",
    "        if new_groups and new_groups[-1] < 0:\n",
    "            new_groups[-1] = abs(new_groups[-1])\n",
    "        return groups == new_groups\n",
    "    \n",
    "    elif len_n == 0:\n",
    "        return True\n",
    "    \n",
    "    elif len_n == 1:\n",
    "        if new_groups[-1] < 0:\n",
    "            return abs(new_groups[0]) <= groups[0]\n",
    "        else:\n",
    "            return new_groups[0] == groups[0]\n",
    "        \n",
    "    else:\n",
    "        if new_groups[-1] < 0:\n",
    "            return new_groups[len_n-2] == groups[len_n-2] and abs(new_groups[len_n-1]) <= groups[len_n-1]\n",
    "        else:\n",
    "            return new_groups[len_n-2] == groups[len_n-2] and new_groups[len_n-1] == groups[len_n-1]"
   ]
  },
  {
   "cell_type": "code",
   "execution_count": null,
   "metadata": {},
   "outputs": [],
   "source": []
  },
  {
   "cell_type": "code",
   "execution_count": 6,
   "metadata": {},
   "outputs": [
    {
     "data": {
      "text/plain": [
       "('??#?#????#?#????.', [8, 7])"
      ]
     },
     "execution_count": 6,
     "metadata": {},
     "output_type": "execute_result"
    }
   ],
   "source": [
    "s_map, groups"
   ]
  },
  {
   "cell_type": "code",
   "execution_count": 7,
   "metadata": {},
   "outputs": [
    {
     "name": "stdout",
     "output_type": "stream",
     "text": [
      "50\n",
      "100\n",
      "150\n",
      "200\n",
      "250\n",
      "300\n",
      "350\n",
      "400\n",
      "450\n",
      "500\n",
      "550\n",
      "600\n",
      "650\n",
      "700\n",
      "750\n",
      "800\n",
      "850\n",
      "900\n",
      "950\n",
      "1000\n"
     ]
    },
    {
     "data": {
      "text/plain": [
       "7260"
      ]
     },
     "execution_count": 7,
     "metadata": {},
     "output_type": "execute_result"
    }
   ],
   "source": [
    "possible_arrangements = 0\n",
    "\n",
    "it = 0\n",
    "for s_map, groups in springs_map:\n",
    "    it += 1\n",
    "    print(it) if it % 50 == 0 else None\n",
    "\n",
    "    if s_map[0] == \"?\":\n",
    "        stack = [\"#\", \".\"]\n",
    "    else:\n",
    "        stack = [s_map[0]]\n",
    "\n",
    "    n_arrangements_i = 0\n",
    "\n",
    "    while stack:\n",
    "        # print(\"\\nstack:\", stack)\n",
    "        _s_map = stack.pop()\n",
    "\n",
    "        # print(_s_map, len(stack))\n",
    "\n",
    "        if len(_s_map) == len(s_map):\n",
    "            if validate_groups(groups, get_groups(_s_map), True):\n",
    "                # if it == 1: print(_s_map)\n",
    "                n_arrangements_i += 1\n",
    "\n",
    "            # continue\n",
    "\n",
    "        elif validate_groups(groups, get_groups(_s_map)):\n",
    "            next_s = s_map[len(_s_map)]\n",
    "            if next_s == \"?\":\n",
    "                stack.append(_s_map + \".\")\n",
    "                stack.append(_s_map + \"#\")\n",
    "                \n",
    "            else:\n",
    "                stack.append(_s_map + next_s)\n",
    "\n",
    "    possible_arrangements += n_arrangements_i\n",
    "    # print(it, n_arrangements_i)\n",
    "\n",
    "possible_arrangements"
   ]
  },
  {
   "cell_type": "code",
   "execution_count": null,
   "metadata": {},
   "outputs": [],
   "source": []
  },
  {
   "cell_type": "code",
   "execution_count": 8,
   "metadata": {},
   "outputs": [],
   "source": [
    "possible_arrangements = 0\n",
    "\n",
    "# it = 0\n",
    "# for s_map, groups in springs_map:\n",
    "#     it += 1\n",
    "#     print(it) if it % 50 == 0 else None\n",
    "#     groups_ranges = [[0]] + [[] for _ in range(len(groups))]\n",
    "\n",
    "#     start_group = 0\n",
    "#     for i, group in enumerate(groups):\n",
    "#         is_end_group = False\n",
    "#         j = start_group\n",
    "#         while not is_end_group:\n",
    "#             j += 1\n",
    "#             _s_map = s_map[:j]\n",
    "#             new_group = get_groups(_s_map)\n",
    "            "
   ]
  },
  {
   "cell_type": "code",
   "execution_count": null,
   "metadata": {},
   "outputs": [],
   "source": []
  },
  {
   "cell_type": "code",
   "execution_count": 14,
   "metadata": {},
   "outputs": [
    {
     "data": {
      "text/plain": [
       "[['.??.?#??##???.?.??.?#??##???.?.??.?#??##???.?.??.?#??##???.?.??.?#??##???.',\n",
       "  [1, 6, 1, 6, 1, 6, 1, 6, 1, 6]],\n",
       " ['?#???.#??#?????.???#???.#??#?????.???#???.#??#?????.???#???.#??#?????.???#???.#??#?????.?',\n",
       "  [3, 1, 3, 1, 1, 3, 1, 3, 1, 1, 3, 1, 3, 1, 1, 3, 1, 3, 1, 1, 3, 1, 3, 1, 1]],\n",
       " ['??#????#??#???.?????#????#??#???.?????#????#??#???.?????#????#??#???.?????#????#??#???.??',\n",
       "  [4, 7, 1, 4, 7, 1, 4, 7, 1, 4, 7, 1, 4, 7, 1]]]"
      ]
     },
     "execution_count": 14,
     "metadata": {},
     "output_type": "execute_result"
    }
   ],
   "source": [
    "# ---- Part 2 ----\n",
    "\n",
    "springs_map2 = [[((s_map + \"?\") * 5)[:-1], groups * 5] for s_map, groups in springs_map]\n",
    "springs_map2[:3]"
   ]
  },
  {
   "cell_type": "code",
   "execution_count": 22,
   "metadata": {},
   "outputs": [
    {
     "name": "stdout",
     "output_type": "stream",
     "text": [
      "1\n",
      "2\n"
     ]
    },
    {
     "ename": "KeyboardInterrupt",
     "evalue": "",
     "output_type": "error",
     "traceback": [
      "\u001b[0;31m---------------------------------------------------------------------------\u001b[0m",
      "\u001b[0;31mKeyboardInterrupt\u001b[0m                         Traceback (most recent call last)",
      "Cell \u001b[0;32mIn[22], line 30\u001b[0m\n\u001b[1;32m     26\u001b[0m         n_arrangements_i \u001b[39m+\u001b[39m\u001b[39m=\u001b[39m \u001b[39m1\u001b[39m\n\u001b[1;32m     28\u001b[0m     \u001b[39m# continue\u001b[39;00m\n\u001b[0;32m---> 30\u001b[0m \u001b[39melif\u001b[39;00m validate_groups(\u001b[39mtuple\u001b[39m(groups), \u001b[39mtuple\u001b[39m(get_groups(_s_map))):\n\u001b[1;32m     31\u001b[0m     next_s \u001b[39m=\u001b[39m s_map[\u001b[39mlen\u001b[39m(_s_map)]\n\u001b[1;32m     32\u001b[0m     \u001b[39mif\u001b[39;00m next_s \u001b[39m==\u001b[39m \u001b[39m\"\u001b[39m\u001b[39m?\u001b[39m\u001b[39m\"\u001b[39m:\n",
      "Cell \u001b[0;32mIn[12], line 23\u001b[0m, in \u001b[0;36mget_groups\u001b[0;34m(s_map)\u001b[0m\n\u001b[1;32m     19\u001b[0m springs_map \u001b[39m=\u001b[39m [line\u001b[39m.\u001b[39msplit(\u001b[39m\"\u001b[39m\u001b[39m \u001b[39m\u001b[39m\"\u001b[39m) \u001b[39mfor\u001b[39;00m line \u001b[39min\u001b[39;00m data_lines]\n\u001b[1;32m     20\u001b[0m springs_map \u001b[39m=\u001b[39m [[line[\u001b[39m0\u001b[39m], \u001b[39mlist\u001b[39m(\u001b[39mmap\u001b[39m(\u001b[39mint\u001b[39m, line[\u001b[39m1\u001b[39m]\u001b[39m.\u001b[39msplit(\u001b[39m\"\u001b[39m\u001b[39m,\u001b[39m\u001b[39m\"\u001b[39m)))] \u001b[39mfor\u001b[39;00m line \u001b[39min\u001b[39;00m springs_map]\n\u001b[0;32m---> 23\u001b[0m \u001b[39m@cache\u001b[39m\n\u001b[1;32m     24\u001b[0m \u001b[39mdef\u001b[39;00m \u001b[39mget_groups\u001b[39m(s_map):\n\u001b[1;32m     25\u001b[0m     groups \u001b[39m=\u001b[39m []\n\u001b[1;32m     26\u001b[0m     prev \u001b[39m=\u001b[39m \u001b[39mNone\u001b[39;00m\n",
      "\u001b[0;31mKeyboardInterrupt\u001b[0m: "
     ]
    }
   ],
   "source": [
    "possible_arrangements2 = 0\n",
    "\n",
    "it = 0\n",
    "for s_map, groups in springs_map2:\n",
    "    it += 1\n",
    "    print(it)\n",
    "    print(it) if it % 100 == 0 else None\n",
    "\n",
    "    if s_map[0] == \"?\":\n",
    "        stack = [\"#\", \".\"]\n",
    "    else:\n",
    "        stack = [s_map[0]]\n",
    "\n",
    "    n_arrangements_i = 0\n",
    "\n",
    "    while stack:\n",
    "        # print(\"\\nstack:\", stack)\n",
    "        _s_map = stack.pop()\n",
    "\n",
    "        \n",
    "        # print(_s_map, len(stack))\n",
    "\n",
    "        if len(_s_map) == len(s_map):\n",
    "            if validate_groups(groups, get_groups(_s_map), True):\n",
    "                # if it == 1: print(_s_map)\n",
    "                n_arrangements_i += 1\n",
    "\n",
    "            # continue\n",
    "\n",
    "        elif validate_groups(groups, get_groups(_s_map)):\n",
    "            next_s = s_map[len(_s_map)]\n",
    "            if next_s == \"?\":\n",
    "                stack.append(_s_map + \".\")\n",
    "                stack.append(_s_map + \"#\")\n",
    "                \n",
    "            else:\n",
    "                stack.append(_s_map + next_s)\n",
    "\n",
    "    possible_arrangements2 += n_arrangements_i\n",
    "    # print(it, n_arrangements_i)\n",
    "\n",
    "possible_arrangements2\n"
   ]
  },
  {
   "cell_type": "code",
   "execution_count": 105,
   "metadata": {},
   "outputs": [
    {
     "data": {
      "text/plain": [
       "['????.######..#####. 1,6,5', '?###???????? 3,2,1']"
      ]
     },
     "execution_count": 105,
     "metadata": {},
     "output_type": "execute_result"
    }
   ],
   "source": [
    "data_lines"
   ]
  },
  {
   "cell_type": "code",
   "execution_count": null,
   "metadata": {},
   "outputs": [],
   "source": []
  },
  {
   "cell_type": "code",
   "execution_count": null,
   "metadata": {},
   "outputs": [],
   "source": []
  },
  {
   "cell_type": "code",
   "execution_count": null,
   "metadata": {},
   "outputs": [],
   "source": [
    "# 195419383667 low"
   ]
  },
  {
   "cell_type": "code",
   "execution_count": null,
   "metadata": {},
   "outputs": [],
   "source": []
  },
  {
   "cell_type": "code",
   "execution_count": null,
   "metadata": {},
   "outputs": [],
   "source": []
  },
  {
   "cell_type": "code",
   "execution_count": null,
   "metadata": {},
   "outputs": [],
   "source": []
  },
  {
   "cell_type": "code",
   "execution_count": null,
   "metadata": {},
   "outputs": [],
   "source": []
  },
  {
   "cell_type": "code",
   "execution_count": null,
   "metadata": {},
   "outputs": [],
   "source": [
    "def recursive_groups(s_map, s_map_i, i, groups):\n",
    "    if len(s_map) == len(s_map_i):\n",
    "        return 1\n",
    "    \n",
    "    if all([a==b for a, b in zip(get_groups(s_map_i), groups)]):\n",
    "        return recursive_groups(s_map, i+1, groups) + recursive_groups(s_map, i+1, groups)"
   ]
  }
 ],
 "metadata": {
  "kernelspec": {
   "display_name": "Python 3",
   "language": "python",
   "name": "python3"
  },
  "language_info": {
   "codemirror_mode": {
    "name": "ipython",
    "version": 3
   },
   "file_extension": ".py",
   "mimetype": "text/x-python",
   "name": "python",
   "nbconvert_exporter": "python",
   "pygments_lexer": "ipython3",
   "version": "3.11.4"
  },
  "orig_nbformat": 4
 },
 "nbformat": 4,
 "nbformat_minor": 2
}
