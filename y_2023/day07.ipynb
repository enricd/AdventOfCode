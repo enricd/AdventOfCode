{
 "cells": [
  {
   "cell_type": "code",
   "execution_count": 36,
   "metadata": {},
   "outputs": [],
   "source": [
    "with open(\"data_inputs/day07_input.txt\") as f:\n",
    "    data_lines = f.readlines()"
   ]
  },
  {
   "cell_type": "code",
   "execution_count": 17,
   "metadata": {},
   "outputs": [
    {
     "name": "stdout",
     "output_type": "stream",
     "text": [
      "Result 1: 247823654\n"
     ]
    }
   ],
   "source": [
    "# ---- Part 1 ----\n",
    "\n",
    "hands_bids = [[line.split(\" \")[0], int(line.split(\" \")[1])] for line in data_lines]\n",
    "\n",
    "for hand in hands_bids:\n",
    "    cards, bid = hand\n",
    "    unique_counts = [cards.count(u_card) for u_card in set(cards)]\n",
    "    card_map = cards.replace(\"2\", \"m\").replace(\"3\", \"l\").replace(\"4\", \"k\").replace(\"5\", \"j\").replace(\"6\", \"i\").replace(\"7\", \"h\").replace(\"8\", \"g\").replace(\"9\", \"f\").replace(\"T\", \"e\").replace(\"J\", \"d\").replace(\"Q\", \"c\").replace(\"K\", \"b\").replace(\"A\", \"a\")\n",
    "    hand.append(card_map)\n",
    "\n",
    "    if len(unique_counts) == 5:\n",
    "        hand.append(6)      # high\n",
    "\n",
    "    elif len(unique_counts) == 4:\n",
    "        hand.append(5)      # pair\n",
    "\n",
    "    elif len(unique_counts) == 3:\n",
    "        if 2 in unique_counts:\n",
    "            hand.append(4)  # 2 pairs\n",
    "        else:\n",
    "            hand.append(3)  # 3 kind\n",
    "\n",
    "    elif len(unique_counts) == 2:\n",
    "        if 3 in unique_counts: \n",
    "            hand.append(2)  # full house\n",
    "        else:\n",
    "            hand.append(1)  # 4 kind\n",
    "\n",
    "    else:\n",
    "        hand.append(0)      # 5 kind\n",
    "\n",
    "\n",
    "hands_bids.sort(key=lambda x: (x[3], x[2]))\n",
    "\n",
    "print(\"Result 1:\", sum([(len(hands_bids)-i) * hand[1] for i, hand in enumerate(hands_bids)]))\n"
   ]
  },
  {
   "cell_type": "code",
   "execution_count": 40,
   "metadata": {},
   "outputs": [
    {
     "name": "stdout",
     "output_type": "stream",
     "text": [
      "Result 2: 245461700\n"
     ]
    }
   ],
   "source": [
    "# ---- Part 2 ----\n",
    "\n",
    "hands_bids2 = [[line.split(\" \")[0], int(line.split(\" \")[1])] for line in data_lines]\n",
    "\n",
    "for hand in hands_bids2:\n",
    "    cards, bid = hand\n",
    "    js = cards.count(\"J\")\n",
    "    unique_cards = set(cards)\n",
    "\n",
    "    if \"J\" in unique_cards: \n",
    "        unique_cards.remove(\"J\")\n",
    "        \n",
    "    unique_counts = [cards.count(u_card) for u_card in unique_cards]\n",
    "    unique_counts.sort(reverse=True)\n",
    "\n",
    "    if unique_counts:\n",
    "        unique_counts[0] += js\n",
    "    else:\n",
    "        unique_counts.append(5)\n",
    "    card_map = cards.replace(\"J\", \"n\").replace(\"2\", \"m\").replace(\"3\", \"l\").replace(\"4\", \"k\").replace(\"5\", \"j\").replace(\"6\", \"i\").replace(\"7\", \"h\").replace(\"8\", \"g\").replace(\"9\", \"f\").replace(\"T\", \"e\").replace(\"Q\", \"c\").replace(\"K\", \"b\").replace(\"A\", \"a\")\n",
    "    hand.append(card_map)\n",
    "\n",
    "    if len(unique_counts) == 5:\n",
    "        hand.append(6)      # high\n",
    "\n",
    "    elif len(unique_counts) == 4:\n",
    "        hand.append(5)      # pair\n",
    "\n",
    "    elif len(unique_counts) == 3:\n",
    "        if 2 in unique_counts:\n",
    "            hand.append(4)  # 2 pairs\n",
    "        else:\n",
    "            hand.append(3)  # 3 kind\n",
    "\n",
    "    elif len(unique_counts) == 2:\n",
    "        if 3 in unique_counts: \n",
    "            hand.append(2)  # full house\n",
    "        else:\n",
    "            hand.append(1)  # 4 kind\n",
    "\n",
    "    else:\n",
    "        hand.append(0)      # 5 kind\n",
    "    \n",
    "\n",
    "hands_bids2.sort(key=lambda x: (x[3], x[2]))\n",
    "\n",
    "print(\"Result 2:\", sum([(len(hands_bids2)-i) * hand[1] for i, hand in enumerate(hands_bids2)]))"
   ]
  }
 ],
 "metadata": {
  "kernelspec": {
   "display_name": "Python 3",
   "language": "python",
   "name": "python3"
  },
  "language_info": {
   "codemirror_mode": {
    "name": "ipython",
    "version": 3
   },
   "file_extension": ".py",
   "mimetype": "text/x-python",
   "name": "python",
   "nbconvert_exporter": "python",
   "pygments_lexer": "ipython3",
   "version": "3.11.5"
  }
 },
 "nbformat": 4,
 "nbformat_minor": 2
}
