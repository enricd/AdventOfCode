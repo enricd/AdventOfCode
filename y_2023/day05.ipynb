{
 "cells": [
  {
   "cell_type": "code",
   "execution_count": 4,
   "metadata": {},
   "outputs": [],
   "source": [
    "with open(\"data_inputs/day05_input.txt\") as f:\n",
    "    data = f.read()\n",
    "\n",
    "\n",
    "# ---- Part 1 ----\n",
    "\n",
    "data_lines = data.split(\"\\n\")"
   ]
  },
  {
   "cell_type": "code",
   "execution_count": 28,
   "metadata": {},
   "outputs": [
    {
     "data": {
      "text/plain": [
       "[1044452533,\n",
       " 40389941,\n",
       " 3710737290,\n",
       " 407166728,\n",
       " 1552449232,\n",
       " 639689359,\n",
       " 3327654041,\n",
       " 26912583,\n",
       " 3440484265,\n",
       " 219136668,\n",
       " 1126550158,\n",
       " 296212400,\n",
       " 2332393052,\n",
       " 229950158,\n",
       " 200575068,\n",
       " 532702401,\n",
       " 4163696272,\n",
       " 44707860,\n",
       " 3067657312,\n",
       " 45353528]"
      ]
     },
     "execution_count": 28,
     "metadata": {},
     "output_type": "execute_result"
    }
   ],
   "source": [
    "seeds"
   ]
  },
  {
   "cell_type": "code",
   "execution_count": 27,
   "metadata": {},
   "outputs": [
    {
     "data": {
      "text/plain": [
       "836040384"
      ]
     },
     "execution_count": 27,
     "metadata": {},
     "output_type": "execute_result"
    }
   ],
   "source": [
    "seeds = [int(n) for n in data_lines[0].strip(\"seeds: \").split(\" \")]\n",
    "categories = [\"seed\", \"soil\", \"fertilizer\", \"water\", \"light\", \"temperature\", \"humidity\", \"location\"]\n",
    "cat_maps = {}\n",
    "cat_i = -1\n",
    "\n",
    "for line in data_lines[2:]:\n",
    "\n",
    "    if line == \"\":\n",
    "        continue\n",
    "\n",
    "    elif line[0].isnumeric():\n",
    "        cat_maps[f\"{categories[cat_i]}_to_{categories[cat_i+1]}\"].append([int(n) for n in line.split(\" \")])\n",
    "\n",
    "    else:\n",
    "        cat_i += 1\n",
    "        cat_maps[f\"{categories[cat_i]}_to_{categories[cat_i+1]}\"] = []\n",
    "\n",
    "\n",
    "seeds_conversions = []\n",
    "\n",
    "for seed in seeds:\n",
    "    seed_conversions = [seed]\n",
    "    for cat_map in cat_maps:\n",
    "        next_conversion = seed_conversions[-1]\n",
    "        # print(cat_map)\n",
    "        for map_i in cat_maps[cat_map]:\n",
    "            # print(map_i)\n",
    "            if next_conversion in range(map_i[1], map_i[1] + map_i[2]):\n",
    "                next_conversion += (map_i[0] - map_i[1])\n",
    "                break\n",
    "        seed_conversions.append(next_conversion)\n",
    "\n",
    "    seeds_conversions.append(seed_conversions)\n",
    "        \n",
    "min([sc[-1] for sc in seeds_conversions])"
   ]
  },
  {
   "cell_type": "code",
   "execution_count": 39,
   "metadata": {},
   "outputs": [
    {
     "data": {
      "text/plain": [
       "[[1044452533, 1084842474],\n",
       " [3710737290, 4117904018],\n",
       " [1552449232, 2192138591],\n",
       " [3327654041, 3354566624],\n",
       " [3440484265, 3659620933],\n",
       " [1126550158, 1422762558],\n",
       " [2332393052, 2562343210],\n",
       " [200575068, 733277469],\n",
       " [4163696272, 4208404132],\n",
       " [3067657312, 3113010840]]"
      ]
     },
     "execution_count": 39,
     "metadata": {},
     "output_type": "execute_result"
    }
   ],
   "source": [
    "# ---- Part 2 ----\n",
    "\n",
    "seeds_ranges = [[start_range[0], sum(start_range)] for start_range in zip(seeds[::2], seeds[1::2])]\n",
    "seeds_ranges"
   ]
  },
  {
   "cell_type": "code",
   "execution_count": 37,
   "metadata": {},
   "outputs": [
    {
     "name": "stdout",
     "output_type": "stream",
     "text": [
      "[1953514507, 1808056938, 198190267]\n",
      "[3721110896, 2006247205, 109062451]\n",
      "[1046714200, 3920284337, 339096560]\n",
      "[965003502, 2389762347, 16609477]\n",
      "[1946017538, 563731936, 3971811]\n",
      "[2151704774, 1532707249, 120594830]\n",
      "[1385810760, 3525158, 560206778]\n",
      "[1949989349, 0, 3525158]\n",
      "[3830173347, 2115309656, 274452691]\n",
      "[0, 567703747, 902873308]\n",
      "[2272299604, 2471473045, 1448811292]\n",
      "[902873308, 1470577055, 62130194]\n",
      "[981612979, 2406371824, 65101221]\n",
      "[4104626038, 1653302079, 154754859]\n"
     ]
    }
   ],
   "source": [
    "for cm in cat_maps.values():\n",
    "    for cm_i in cm:\n",
    "        print(cm_i)\n",
    "    break"
   ]
  },
  {
   "cell_type": "code",
   "execution_count": 38,
   "metadata": {},
   "outputs": [
    {
     "name": "stdout",
     "output_type": "stream",
     "text": [
      "[[], [[3920284337, 4117904018]], [[1808056938, 2006247205], [2006247205, 2115309656], [2115309656, 2192138591], [1653302079, 1808056938]], [], [], [], [[2389762347, 2406371824], [2471473045, 2562343210], [2406371824, 2471473045]], [[563731936, 567703747], [567703747, 733277469]], [], []]\n"
     ]
    }
   ],
   "source": [
    "news_s_ranges = []\n",
    "\n",
    "for s_range in seeds_ranges:\n",
    "    new_slices = []\n",
    "    for cat_map in cat_maps:\n",
    "        for map_i in cat_maps[cat_map]:\n",
    "            if map_i[1] in range(s_range[0], s_range[1]):\n",
    "                new_slices.append(map_i[1])\n",
    "            if map_i[1]+map_i[2] in range(s_range[0], s_range[0]+s_range[1]):\n",
    "                new_slices.append(map_i[1]+map_i[2])\n",
    "\n",
    "        break\n",
    "    \n",
    "    news_s_ranges.append(new_slices)\n",
    "\n",
    "print(news_s_ranges)\n",
    "\n"
   ]
  }
 ],
 "metadata": {
  "kernelspec": {
   "display_name": "Python 3",
   "language": "python",
   "name": "python3"
  },
  "language_info": {
   "codemirror_mode": {
    "name": "ipython",
    "version": 3
   },
   "file_extension": ".py",
   "mimetype": "text/x-python",
   "name": "python",
   "nbconvert_exporter": "python",
   "pygments_lexer": "ipython3",
   "version": "3.11.5"
  }
 },
 "nbformat": 4,
 "nbformat_minor": 2
}
