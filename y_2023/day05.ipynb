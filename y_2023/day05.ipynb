{
 "cells": [
  {
   "cell_type": "code",
   "execution_count": 1,
   "metadata": {},
   "outputs": [],
   "source": [
    "with open(\"data_inputs/day05_input.txt\") as f:\n",
    "    data = f.read()\n",
    "\n",
    "# ---- Part 1 ----\n",
    "\n",
    "data_lines = data.split(\"\\n\")"
   ]
  },
  {
   "cell_type": "code",
   "execution_count": 2,
   "metadata": {},
   "outputs": [
    {
     "data": {
      "text/plain": [
       "836040384"
      ]
     },
     "execution_count": 2,
     "metadata": {},
     "output_type": "execute_result"
    }
   ],
   "source": [
    "seeds = [int(n) for n in data_lines[0].strip(\"seeds: \").split(\" \")]\n",
    "categories = [\"seed\", \"soil\", \"fertilizer\", \"water\", \"light\", \"temperature\", \"humidity\", \"location\"]\n",
    "cat_maps = {}\n",
    "cat_i = -1\n",
    "\n",
    "for line in data_lines[2:]:\n",
    "\n",
    "    if line == \"\":\n",
    "        continue\n",
    "\n",
    "    elif line[0].isnumeric():\n",
    "        cat_maps[f\"{categories[cat_i]}_to_{categories[cat_i+1]}\"].append([int(n) for n in line.split(\" \")])\n",
    "\n",
    "    else:\n",
    "        cat_i += 1\n",
    "        cat_maps[f\"{categories[cat_i]}_to_{categories[cat_i+1]}\"] = []\n",
    "\n",
    "\n",
    "all_seed_conversions = []\n",
    "\n",
    "for seed in seeds:\n",
    "    seed_conversions = [seed]\n",
    "    for cat_map in cat_maps:\n",
    "        next_conversion = seed_conversions[-1]\n",
    "        # print(cat_map)\n",
    "        for map_i in cat_maps[cat_map]:\n",
    "            # print(map_i)\n",
    "            if next_conversion in range(map_i[1], map_i[1] + map_i[2]):\n",
    "                next_conversion += (map_i[0] - map_i[1])\n",
    "                break\n",
    "        seed_conversions.append(next_conversion)\n",
    "\n",
    "    all_seed_conversions.append(seed_conversions)\n",
    "        \n",
    "min([sc[-1] for sc in all_seed_conversions])"
   ]
  },
  {
   "cell_type": "code",
   "execution_count": 3,
   "metadata": {},
   "outputs": [
    {
     "data": {
      "text/plain": [
       "10834440"
      ]
     },
     "execution_count": 3,
     "metadata": {},
     "output_type": "execute_result"
    }
   ],
   "source": [
    "# ---- Part 2 ----\n",
    "\n",
    "from copy import deepcopy\n",
    "\n",
    "seeds_ranges = [[start_range[0], sum(start_range)] for start_range in zip(seeds[::2], seeds[1::2])]\n",
    "\n",
    "all_seed_conversions2 = [deepcopy(seeds_ranges)]\n",
    "\n",
    "for cat_map in cat_maps:\n",
    "    next_conversions = []\n",
    "    for s_range in all_seed_conversions2[-1]:\n",
    "        curr_range = deepcopy(s_range)\n",
    "        for map_i in cat_maps[cat_map]:\n",
    "            offset = map_i[0] - map_i[1]\n",
    "\n",
    "            if (curr_range[0] in range(map_i[1], map_i[1] + map_i[2])) and (curr_range[1]-1 in range(map_i[1], map_i[1] + map_i[2])):\n",
    "                next_conversions.append([curr_range[0] + offset, curr_range[1] + offset])\n",
    "                curr_range = None\n",
    "                break\n",
    "\n",
    "            elif curr_range[0] in range(map_i[1], map_i[1] + map_i[2]):\n",
    "                next_conversions.append([curr_range[0] + offset, map_i[1] + map_i[2] + offset])\n",
    "                curr_range[0] = map_i[1] + map_i[2]\n",
    "\n",
    "            elif curr_range[1]-1 in range(map_i[1], map_i[1] + map_i[2]):\n",
    "                next_conversions.append([map_i[1] + offset, curr_range[1] + offset])\n",
    "                curr_range[1] = map_i[1]\n",
    "\n",
    "            elif map_i[1] in range(curr_range[0], curr_range[1]):\n",
    "                next_conversions.append([map_i[1]+offset, map_i[1] + map_i[2] + offset])\n",
    "                all_seed_conversions2[-1].append([map_i[1] + map_i[2], curr_range[1]])\n",
    "                curr_range[1] = map_i[1]\n",
    "\n",
    "        if curr_range is not None:\n",
    "            next_conversions.append(curr_range)\n",
    "\n",
    "    all_seed_conversions2.append(next_conversions)\n",
    "\n",
    "\n",
    "min([sc[0] for sc in all_seed_conversions2[-1]])"
   ]
  }
 ],
 "metadata": {
  "kernelspec": {
   "display_name": "Python 3",
   "language": "python",
   "name": "python3"
  },
  "language_info": {
   "codemirror_mode": {
    "name": "ipython",
    "version": 3
   },
   "file_extension": ".py",
   "mimetype": "text/x-python",
   "name": "python",
   "nbconvert_exporter": "python",
   "pygments_lexer": "ipython3",
   "version": "3.11.5"
  }
 },
 "nbformat": 4,
 "nbformat_minor": 2
}
