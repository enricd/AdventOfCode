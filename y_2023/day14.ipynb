{
 "cells": [
  {
   "cell_type": "code",
   "execution_count": 1,
   "metadata": {},
   "outputs": [],
   "source": [
    "with open(\"data_inputs/day14_input.txt\") as f:\n",
    "    data = f.read()\n",
    "\n",
    "data_lines = data.split(\"\\n\")\n",
    "rocks_map = [list(line) for line in data_lines]\n",
    "rocks_map_T = [[line[i] for line in rocks_map] for i in range(len(rocks_map[0]))]"
   ]
  },
  {
   "cell_type": "code",
   "execution_count": 2,
   "metadata": {},
   "outputs": [
    {
     "name": "stdout",
     "output_type": "stream",
     "text": [
      "Result1: 106990\n"
     ]
    }
   ],
   "source": [
    "# ---- Part 1 ----\n",
    "\n",
    "data_lines = data.split(\"\\n\")\n",
    "rocks_map = [list(line) for line in data_lines]\n",
    "\n",
    "rocks_map_T = [[line[i] for line in rocks_map] for i in range(len(rocks_map[0]))]\n",
    "\n",
    "rocks_map_T_fragmented = [\"\".join(line).split(\"#\") for line in rocks_map_T]\n",
    "\n",
    "rocks_map_T_fragmented_gravity = []\n",
    "load = 0\n",
    "\n",
    "for line in rocks_map_T_fragmented:\n",
    "    line_gravity = []\n",
    "    for fragment in line:\n",
    "        os = fragment.count(\"O\")\n",
    "        line_gravity.append(\"O\"*os + \".\"*(len(fragment)-os))\n",
    "\n",
    "    line_gravity = \"#\".join(line_gravity)\n",
    "    rocks_map_T_fragmented_gravity.append(line_gravity)\n",
    "    load += sum([i for rock, i in zip(line_gravity, range(len(line_gravity), 0, -1)) if rock == \"O\"])\n",
    "    \n",
    "\n",
    "print(\"Result1:\", load)"
   ]
  },
  {
   "cell_type": "code",
   "execution_count": 3,
   "metadata": {},
   "outputs": [
    {
     "name": "stdout",
     "output_type": "stream",
     "text": [
      "1001 Final load: 100531\n",
      "Result2: 100531\n"
     ]
    }
   ],
   "source": [
    "import matplotlib.pyplot as plt\n",
    "\n",
    "# ---- Part 2 ----\n",
    "\n",
    "data_lines = data.split(\"\\n\")\n",
    "rocks_map = [list(line) for line in data_lines]\n",
    "\n",
    "# Rotating 180 deg clockwise\n",
    "rocks_map = [[line[i] for line in rocks_map[::-1]] for i in range(len(rocks_map[0]))]\n",
    "rocks_map = [[line[i] for line in rocks_map[::-1]] for i in range(len(rocks_map[0]))]\n",
    "\n",
    "for cycle_it in range(1001):\n",
    "    for tilt_it in range(4):\n",
    "\n",
    "        rocks_map_T = [[line[i] for line in rocks_map[::-1]] for i in range(len(rocks_map[0]))]\n",
    "\n",
    "        if tilt_it == 0 and cycle_it == 1000:\n",
    "            load = 0\n",
    "            for line in rocks_map_T:\n",
    "                load += sum([i for rock, i in zip(line, range(len(line), 0, -1)) if rock == \"O\"])\n",
    "\n",
    "            print(cycle_it+1, \"Final load:\", load)\n",
    "\n",
    "        rocks_map_T_fragmented = [\"\".join(line).split(\"#\") for line in rocks_map_T]\n",
    "\n",
    "        rocks_map_T_fragmented_gravity = []\n",
    "\n",
    "        # Applying gravity\n",
    "        for line in rocks_map_T_fragmented:\n",
    "            line_gravity = []\n",
    "            for fragment in line:\n",
    "                os = fragment.count(\"O\")\n",
    "                line_gravity.append(\"O\"*os + \".\"*(len(fragment)-os))\n",
    "\n",
    "            line_gravity = \"#\".join(line_gravity)\n",
    "            rocks_map_T_fragmented_gravity.append(line_gravity)\n",
    "\n",
    "        # if tilt_it == 3 or cycle_it == 40:\n",
    "        #     rocks_map_img = [[(int(cell == \".\") * 0) or (int(cell == \"#\") and 1) or (int(cell == \"O\") and 2) for cell in line] for line in rocks_map_T_fragmented_gravity]\n",
    "        #     rocks_map_img = [[line[i] for line in rocks_map_img[::-1]] for i in range(len(rocks_map_img[0]))]\n",
    "        #     rocks_map_img = [[line[i] for line in rocks_map_img[::-1]] for i in range(len(rocks_map_img[0]))]\n",
    "        #     print(rocks_map_img)\n",
    "        #     plt.imshow(rocks_map_img)\n",
    "        #     plt.show()\n",
    "\n",
    "        rocks_map = rocks_map_T_fragmented_gravity\n",
    "\n",
    "\n",
    "print(\"Result2:\", load)"
   ]
  }
 ],
 "metadata": {
  "kernelspec": {
   "display_name": "Python 3",
   "language": "python",
   "name": "python3"
  },
  "language_info": {
   "codemirror_mode": {
    "name": "ipython",
    "version": 3
   },
   "file_extension": ".py",
   "mimetype": "text/x-python",
   "name": "python",
   "nbconvert_exporter": "python",
   "pygments_lexer": "ipython3",
   "version": "3.11.5"
  }
 },
 "nbformat": 4,
 "nbformat_minor": 2
}
