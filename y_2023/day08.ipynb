{
 "cells": [
  {
   "cell_type": "code",
   "execution_count": 1,
   "metadata": {},
   "outputs": [
    {
     "name": "stdout",
     "output_type": "stream",
     "text": [
      "Result 1: 19099\n"
     ]
    }
   ],
   "source": [
    "with open(\"data_inputs/day08_input.txt\") as f:\n",
    "    data = f.read()\n",
    "\n",
    "data_lines = data.split(\"\\n\")\n",
    "\n",
    "# ---- Part 1 ----\n",
    "\n",
    "instructions = data_lines[0]\n",
    "\n",
    "parse_node = lambda line: line.split(\" = \")[0]\n",
    "parse_next_nodes = lambda line: (line.split(\" = (\")[1].split(\", \")[0], line.split(\" = (\")[1].split(\", \")[1].rstrip(\")\"))\n",
    "\n",
    "nodes_map = {parse_node(line): parse_next_nodes(line) for line in data_lines[2:]}\n",
    "\n",
    "node = \"AAA\"\n",
    "i = 0\n",
    "while node != \"ZZZ\":\n",
    "    node = nodes_map[node][(instructions[i % len(instructions)] == \"R\") * 1]\n",
    "    i += 1\n",
    "\n",
    "\n",
    "print(\"Result 1:\", i)"
   ]
  },
  {
   "cell_type": "code",
   "execution_count": 2,
   "metadata": {},
   "outputs": [
    {
     "name": "stdout",
     "output_type": "stream",
     "text": [
      "Result 2: 17099847107071\n"
     ]
    }
   ],
   "source": [
    "# ---- Part 2 ----\n",
    "\n",
    "import numpy as np\n",
    "\n",
    "start_nodes = [node for node in nodes_map.keys() if node[-1] == \"A\"]\n",
    "node_cycles = []\n",
    "\n",
    "for start_node in start_nodes:\n",
    "    node = start_node\n",
    "    i = 0\n",
    "    while node[-1] != \"Z\":\n",
    "        node = nodes_map[node][(instructions[i % len(instructions)] == \"R\") * 1]\n",
    "        i += 1\n",
    "    node_cycles.append(i)\n",
    "\n",
    "arr_cycles = np.array(node_cycles, dtype=np.int64)\n",
    "\n",
    "   \n",
    "print(\"Result 2:\", np.lcm.reduce(arr_cycles))   # least common multiple"
   ]
  }
 ],
 "metadata": {
  "kernelspec": {
   "display_name": "Python 3",
   "language": "python",
   "name": "python3"
  },
  "language_info": {
   "codemirror_mode": {
    "name": "ipython",
    "version": 3
   },
   "file_extension": ".py",
   "mimetype": "text/x-python",
   "name": "python",
   "nbconvert_exporter": "python",
   "pygments_lexer": "ipython3",
   "version": "3.11.5"
  }
 },
 "nbformat": 4,
 "nbformat_minor": 2
}
