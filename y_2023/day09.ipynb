{
 "cells": [
  {
   "cell_type": "code",
   "execution_count": 1,
   "metadata": {},
   "outputs": [],
   "source": [
    "with open(\"data_inputs/day09_input.txt\") as f:\n",
    "    data = f.read()\n",
    "\n",
    "data_lines = data.split(\"\\n\")\n",
    "\n",
    "sensors_data = [[int(n) for n in line.split(\" \")] for line in data_lines]"
   ]
  },
  {
   "cell_type": "code",
   "execution_count": 2,
   "metadata": {},
   "outputs": [
    {
     "name": "stdout",
     "output_type": "stream",
     "text": [
      "Result 1: 2075724761\n"
     ]
    }
   ],
   "source": [
    "# ---- Part 1 ----\n",
    "\n",
    "sensors_preds = []\n",
    "\n",
    "for j, s_data in enumerate(sensors_data):\n",
    "    diffs = [s_data.copy()]\n",
    "\n",
    "    while not all(n == 0 for n in diffs[-1]):\n",
    "        diffs.append([n2 - n1 for n1, n2 in zip(diffs[-1][:-1], diffs[-1][1:])])\n",
    "\n",
    "    for i, diff in zip(range(len(diffs)-1, -1, -1), diffs[-1:0:-1]):\n",
    "        diffs[i-1].append(diffs[i-1][-1] + diff[-1])\n",
    "    \n",
    "    sensors_preds.append(diffs[0][-1])\n",
    "\n",
    "\n",
    "print(\"Result 1:\", sum(sensors_preds))"
   ]
  },
  {
   "cell_type": "code",
   "execution_count": 3,
   "metadata": {},
   "outputs": [
    {
     "name": "stdout",
     "output_type": "stream",
     "text": [
      "Result 2: 1072\n"
     ]
    }
   ],
   "source": [
    "# ---- Part 2 ----\n",
    "\n",
    "sensors_preds2 = []\n",
    "\n",
    "for j, s_data in enumerate(sensors_data):\n",
    "    diffs = [s_data.copy()]\n",
    "\n",
    "    while not all(n == 0 for n in diffs[-1]):\n",
    "        diffs.append([n2 - n1 for n1, n2 in zip(diffs[-1][:-1], diffs[-1][1:])])\n",
    "\n",
    "    for i, diff in zip(range(len(diffs)-1, -1, -1), diffs[-1:0:-1]):\n",
    "        diffs[i-1].insert(0, diffs[i-1][0] - diff[0])\n",
    "    \n",
    "    sensors_preds2.append(diffs[0][0])\n",
    "    \n",
    "\n",
    "print(\"Result 2:\", sum(sensors_preds2))"
   ]
  }
 ],
 "metadata": {
  "kernelspec": {
   "display_name": "Python 3",
   "language": "python",
   "name": "python3"
  },
  "language_info": {
   "codemirror_mode": {
    "name": "ipython",
    "version": 3
   },
   "file_extension": ".py",
   "mimetype": "text/x-python",
   "name": "python",
   "nbconvert_exporter": "python",
   "pygments_lexer": "ipython3",
   "version": "3.11.5"
  }
 },
 "nbformat": 4,
 "nbformat_minor": 2
}
