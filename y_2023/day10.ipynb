{
 "cells": [
  {
   "cell_type": "code",
   "execution_count": 11,
   "metadata": {},
   "outputs": [
    {
     "data": {
      "text/plain": [
       "(array([[6, 3, 5, ..., 6, 6, 2],\n",
       "        [6, 2, 5, ..., 6, 4, 4],\n",
       "        [3, 6, 4, ..., 5, 2, 2],\n",
       "        ...,\n",
       "        [1, 5, 3, ..., 4, 0, 1],\n",
       "        [2, 2, 5, ..., 3, 6, 1],\n",
       "        [1, 4, 1, ..., 0, 2, 3]], dtype=int8),\n",
       " (140, 140))"
      ]
     },
     "execution_count": 11,
     "metadata": {},
     "output_type": "execute_result"
    }
   ],
   "source": [
    "import numpy as np\n",
    "import matplotlib.pyplot as plt\n",
    "\n",
    "\n",
    "with open(\"data_inputs/day10_input.txt\") as f:\n",
    "    data = f.read()\n",
    "\n",
    "# ---- Part 1 ----\n",
    "\n",
    "map_pipes = {\n",
    "    \".\": \"0\", \n",
    "    \"|\": \"1\", \n",
    "    \"-\": \"2\", \n",
    "    \"L\": \"3\", \n",
    "    \"J\": \"4\", \n",
    "    \"7\": \"5\", \n",
    "    \"F\": \"6\", \n",
    "    \"S\": \"7\"\n",
    "}\n",
    "\n",
    "for k, v in map_pipes.items():\n",
    "    data = data.replace(k, v)\n",
    "\n",
    "map_pipes = np.array([[int(n) for n in line] for line in data.split(\"\\n\")], dtype=np.int8)\n",
    "\n",
    "map_pipes, map_pipes.shape"
   ]
  },
  {
   "cell_type": "code",
   "execution_count": 25,
   "metadata": {},
   "outputs": [
    {
     "data": {
      "text/plain": [
       "{(-1, 0): [1, 5, 6], (1, 0): [1, 3, 4]}"
      ]
     },
     "execution_count": 25,
     "metadata": {},
     "output_type": "execute_result"
    }
   ],
   "source": [
    "check_connected[map_pipes[4, 5]]"
   ]
  },
  {
   "cell_type": "code",
   "execution_count": 32,
   "metadata": {},
   "outputs": [
    {
     "data": {
      "text/plain": [
       "array([79, 85], dtype=int64)"
      ]
     },
     "execution_count": 32,
     "metadata": {},
     "output_type": "execute_result"
    }
   ],
   "source": [
    "pos"
   ]
  },
  {
   "cell_type": "code",
   "execution_count": 31,
   "metadata": {},
   "outputs": [
    {
     "data": {
      "text/plain": [
       "array([[3, 0, 3, 2, 5, 3, 5, 5, 3, 1, 3, 2, 2, 4, 1, 6, 2, 4, 1, 6, 4, 1,\n",
       "        5, 3, 4, 3, 2, 5, 6, 2, 5, 1, 3, 4, 2, 3, 4, 3, 5, 6, 6, 5, 6, 5,\n",
       "        6, 2, 2, 4, 3, 4, 3, 4, 3, 4, 6, 2, 2, 2, 2, 5, 6, 2, 4, 1, 1, 6,\n",
       "        5, 3, 6, 4, 6, 4, 0, 5, 1, 6, 5, 3, 2, 5, 1, 1, 1, 1, 6, 7, 1, 1,\n",
       "        1, 1, 1, 1, 3, 5, 1, 6, 2, 4, 6, 5, 6, 5, 1, 6, 2, 2, 2, 4, 5, 6,\n",
       "        4, 6, 2, 5, 6, 5, 6, 4, 3, 4, 1, 1, 4, 3, 4, 1, 3, 2, 2, 5, 3, 4,\n",
       "        3, 4, 3, 4, 0, 5, 4, 5],\n",
       "       [3, 6, 2, 4, 4, 4, 0, 6, 6, 5, 5, 6, 3, 4, 3, 3, 2, 5, 3, 4, 3, 4,\n",
       "        3, 2, 4, 3, 5, 1, 6, 2, 4, 3, 2, 2, 4, 6, 5, 6, 2, 4, 2, 6, 5, 1,\n",
       "        1, 6, 2, 2, 5, 3, 5, 1, 1, 3, 4, 1, 6, 2, 4, 6, 2, 5, 6, 5, 3, 5,\n",
       "        3, 5, 1, 1, 6, 4, 3, 4, 1, 1, 1, 6, 4, 3, 5, 3, 5, 1, 6, 2, 2, 5,\n",
       "        5, 6, 4, 6, 5, 3, 4, 3, 4, 3, 2, 2, 2, 2, 2, 2, 2, 2, 4, 3, 6, 5,\n",
       "        6, 5, 3, 2, 2, 4, 3, 4, 2, 6, 5, 0, 3, 4, 5, 6, 5, 4, 3, 3, 1, 5,\n",
       "        0, 4, 4, 3, 0, 6, 4, 1]], dtype=int8)"
      ]
     },
     "execution_count": 31,
     "metadata": {},
     "output_type": "execute_result"
    }
   ],
   "source": [
    "map_pipes[pos]"
   ]
  },
  {
   "cell_type": "code",
   "execution_count": 30,
   "metadata": {},
   "outputs": [
    {
     "ename": "TypeError",
     "evalue": "unhashable type: 'numpy.ndarray'",
     "output_type": "error",
     "traceback": [
      "\u001b[1;31m---------------------------------------------------------------------------\u001b[0m",
      "\u001b[1;31mTypeError\u001b[0m                                 Traceback (most recent call last)",
      "Cell \u001b[1;32mIn[30], line 22\u001b[0m\n\u001b[0;32m     20\u001b[0m \u001b[38;5;28;01mwhile\u001b[39;00m pos \u001b[38;5;241m!=\u001b[39m start_pos \u001b[38;5;129;01mor\u001b[39;00m (\u001b[38;5;241m0\u001b[39m \u001b[38;5;241m<\u001b[39m i \u001b[38;5;241m<\u001b[39m map_pipes\u001b[38;5;241m.\u001b[39mshape[\u001b[38;5;241m0\u001b[39m] \u001b[38;5;241m*\u001b[39m map_pipes\u001b[38;5;241m.\u001b[39mshape[\u001b[38;5;241m1\u001b[39m]):\n\u001b[0;32m     21\u001b[0m     pos \u001b[38;5;241m=\u001b[39m np\u001b[38;5;241m.\u001b[39marray(pos)\n\u001b[1;32m---> 22\u001b[0m     check_dirs \u001b[38;5;241m=\u001b[39m \u001b[43mcheck_connected\u001b[49m\u001b[43m[\u001b[49m\u001b[43mmap_pipes\u001b[49m\u001b[43m[\u001b[49m\u001b[43mpos\u001b[49m\u001b[43m]\u001b[49m\u001b[43m]\u001b[49m\n\u001b[0;32m     23\u001b[0m     \u001b[38;5;28;01mfor\u001b[39;00m \u001b[38;5;28mdir\u001b[39m \u001b[38;5;129;01min\u001b[39;00m check_dirs:\n\u001b[0;32m     24\u001b[0m         \u001b[38;5;28mdir\u001b[39m \u001b[38;5;241m=\u001b[39m np\u001b[38;5;241m.\u001b[39marray(\u001b[38;5;28mdir\u001b[39m)\n",
      "\u001b[1;31mTypeError\u001b[0m: unhashable type: 'numpy.ndarray'"
     ]
    }
   ],
   "source": [
    "check_connected = {\n",
    "    0: None,\n",
    "    1: {(-1, 0): [1, 5, 6], (1, 0): [1, 3, 4]},\n",
    "    2: {(0, -1): [2, 3, 6], (0, 1): [2, 4, 5]},\n",
    "    3: {(-1, 0): [1, 5, 6], (0, 1): [2, 4, 5]},\n",
    "    4: {(-1, 0): [1, 5, 6], (0, -1): [2, 3, 6]},\n",
    "    5: {(0, 1): [2, 3, 6], (-1, 0): [1, 5, 6]},\n",
    "    6: {(1, 0): [1, 3, 4], (0, 1): [2, 3, 6]},\n",
    "    7: {(-1, 0): [1, 5, 6], (1, 0): [1, 3, 4], (0, -1): [2, 3, 6], (0, 1): [2, 4, 5]}\n",
    "}\n",
    "\n",
    "map_connected = np.ones(map_pipes.shape, dtype=np.int8) * -1\n",
    "\n",
    "start_pos = np.where(map_pipes == 7)\n",
    "start_pos = (start_pos[0][0], start_pos[1][0])\n",
    "\n",
    "pos = start_pos\n",
    "i = 1\n",
    "\n",
    "while pos != start_pos or (0 < i < map_pipes.shape[0] * map_pipes.shape[1]):\n",
    "    pos = np.array(pos)\n",
    "    check_dirs = check_connected[map_pipes[pos]]\n",
    "    for dir in check_dirs:\n",
    "        dir = np.array(dir)\n",
    "        if map_pipes[pos + dir] in check_dirs[dir]:\n",
    "            map_connected[pos + dir] = 1\n",
    "            pos += dir\n",
    "            break\n",
    "        else:\n",
    "            map_connected[pos + dir] = 0\n",
    "    \n",
    "    i += 1\n",
    "\n",
    "plt.imshow(map_connected)"
   ]
  },
  {
   "cell_type": "code",
   "execution_count": 29,
   "metadata": {},
   "outputs": [
    {
     "data": {
      "text/plain": [
       "1"
      ]
     },
     "execution_count": 29,
     "metadata": {},
     "output_type": "execute_result"
    }
   ],
   "source": [
    "i"
   ]
  },
  {
   "cell_type": "code",
   "execution_count": null,
   "metadata": {},
   "outputs": [],
   "source": []
  },
  {
   "cell_type": "code",
   "execution_count": null,
   "metadata": {},
   "outputs": [],
   "source": []
  },
  {
   "cell_type": "code",
   "execution_count": null,
   "metadata": {},
   "outputs": [],
   "source": []
  },
  {
   "cell_type": "code",
   "execution_count": null,
   "metadata": {},
   "outputs": [],
   "source": []
  },
  {
   "cell_type": "code",
   "execution_count": null,
   "metadata": {},
   "outputs": [],
   "source": []
  }
 ],
 "metadata": {
  "kernelspec": {
   "display_name": "Python 3",
   "language": "python",
   "name": "python3"
  },
  "language_info": {
   "codemirror_mode": {
    "name": "ipython",
    "version": 3
   },
   "file_extension": ".py",
   "mimetype": "text/x-python",
   "name": "python",
   "nbconvert_exporter": "python",
   "pygments_lexer": "ipython3",
   "version": "3.11.5"
  }
 },
 "nbformat": 4,
 "nbformat_minor": 2
}
