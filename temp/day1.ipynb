{
 "cells": [
  {
   "cell_type": "code",
   "execution_count": null,
   "metadata": {},
   "outputs": [],
   "source": [
    "# --- Basic Variable Types ---\n",
    "\n",
    "int_var = -5\n",
    "float_var = 23.56\n",
    "str_var = \"abc\"\n",
    "bool_var = True   # or False\n",
    "\n",
    "list_var = [1, 2.3, \"abcd\", bool_var]"
   ]
  },
  {
   "cell_type": "code",
   "execution_count": null,
   "metadata": {},
   "outputs": [],
   "source": [
    "# --- Operators ---\n",
    "\n",
    "a = 5\n",
    "b = 3\n",
    "\n",
    "print(a + b)    # addition\n",
    "print(a - b)    # substraction\n",
    "print(a * b)    # multiplication\n",
    "print(a / b)    # division\n",
    "print(a // b)   # floor division\n",
    "print(a % b)    # modulus\n",
    "print(a ** b)   # exponent"
   ]
  },
  {
   "cell_type": "code",
   "execution_count": null,
   "metadata": {},
   "outputs": [],
   "source": [
    "print(a == b)   # equal\n",
    "print(a != b)   # not equal\n",
    "print(a > b)    # greater than\n",
    "print(a >= b)   # greater than or equal to \n",
    "print(a < b)    # less than\n",
    "print(a <= b)   # less than or equal to "
   ]
  },
  {
   "cell_type": "code",
   "execution_count": null,
   "metadata": {},
   "outputs": [],
   "source": [
    "# --- For and While Loops ---\n",
    "\n",
    "fruits = [\"apple\", \"orange\", \"strawberry\", \"banana\"]\n",
    "\n",
    "for i in range(len(fruits)):\n",
    "    print(fruits[i])"
   ]
  },
  {
   "cell_type": "code",
   "execution_count": null,
   "metadata": {},
   "outputs": [],
   "source": [
    "x = 0\n",
    "while x < 5:\n",
    "    x += 1\n",
    "    print(x)"
   ]
  },
  {
   "cell_type": "code",
   "execution_count": null,
   "metadata": {},
   "outputs": [],
   "source": [
    "# --- If Elif Else ---\n",
    "\n",
    "animal = \"dog\"\n",
    "\n",
    "if animal == \"cat\":\n",
    "    print(\"meow!\")"
   ]
  },
  {
   "cell_type": "code",
   "execution_count": null,
   "metadata": {},
   "outputs": [],
   "source": [
    "if animal == \"dog\":\n",
    "    print(\"woof!\")\n",
    "else:\n",
    "    print(\"meow!\")"
   ]
  },
  {
   "cell_type": "code",
   "execution_count": null,
   "metadata": {},
   "outputs": [],
   "source": [
    "if animal == \"bird\":\n",
    "    print(\"tweet!\")\n",
    "elif animal == \"dog\":\n",
    "    print(\"woof!\")\n",
    "else:\n",
    "    print(\"meow!\")"
   ]
  },
  {
   "cell_type": "code",
   "execution_count": 3,
   "metadata": {},
   "outputs": [],
   "source": [
    "# ----- Day 1 Challenge -----\n",
    "\n",
    "with open(\"./data_inputs/day1_input.txt\") as f:\n",
    "    input_raw = f.read()"
   ]
  },
  {
   "cell_type": "code",
   "execution_count": null,
   "metadata": {},
   "outputs": [],
   "source": [
    "elves_list = input_raw.split(\"\\n\\n\")"
   ]
  },
  {
   "cell_type": "code",
   "execution_count": 5,
   "metadata": {},
   "outputs": [
    {
     "data": {
      "text/plain": [
       "['Lorem',\n",
       " 'Ipsum',\n",
       " 'is',\n",
       " 'simply',\n",
       " 'dummy',\n",
       " 'text',\n",
       " 'of',\n",
       " 'the',\n",
       " 'printing',\n",
       " 'and',\n",
       " 'typesetting',\n",
       " 'industry']"
      ]
     },
     "execution_count": 5,
     "metadata": {},
     "output_type": "execute_result"
    }
   ],
   "source": [
    "text = \"Lorem Ipsum is simply dummy text of the printing and typesetting industry\"\n",
    "text.split(\" \")"
   ]
  },
  {
   "cell_type": "code",
   "execution_count": null,
   "metadata": {},
   "outputs": [],
   "source": []
  },
  {
   "cell_type": "code",
   "execution_count": null,
   "metadata": {},
   "outputs": [],
   "source": [
    "elves_list = []\n",
    "elf_cal_list = []  # \"\\n\\n\"\n",
    "cal_list = []      # \"\\n\"\n",
    "\n",
    "for i in range(input_raw):\n",
    "    if input_raw[i] != \"\\n\":\n",
    "        cal_list.append(input_raw[i])\n",
    "    "
   ]
  },
  {
   "cell_type": "code",
   "execution_count": null,
   "metadata": {},
   "outputs": [],
   "source": [
    "# ---- Part 1 ----\n",
    "\n",
    "elves_list_calories = []\n",
    "\n",
    "for elf in elves_list:\n",
    "    calories = 0\n",
    "    for snack in elf:\n",
    "        calories += snack"
   ]
  }
 ],
 "metadata": {
  "kernelspec": {
   "display_name": "Python 3.11.0 64-bit",
   "language": "python",
   "name": "python3"
  },
  "language_info": {
   "codemirror_mode": {
    "name": "ipython",
    "version": 3
   },
   "file_extension": ".py",
   "mimetype": "text/x-python",
   "name": "python",
   "nbconvert_exporter": "python",
   "pygments_lexer": "ipython3",
   "version": "3.11.0"
  },
  "orig_nbformat": 4,
  "vscode": {
   "interpreter": {
    "hash": "3d1899a6c99b9db7e131d4b74e4e1b4f8aa84cf78ca3d48624777d2707d0553f"
   }
  }
 },
 "nbformat": 4,
 "nbformat_minor": 2
}
