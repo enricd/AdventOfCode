{
 "cells": [
  {
   "cell_type": "code",
   "execution_count": 9,
   "metadata": {},
   "outputs": [],
   "source": [
    "import numpy as np"
   ]
  },
  {
   "cell_type": "code",
   "execution_count": 10,
   "metadata": {},
   "outputs": [],
   "source": [
    "with open(\"./data_inputs/day8_input.txt\") as f:\n",
    "    input = f.read() "
   ]
  },
  {
   "cell_type": "code",
   "execution_count": 11,
   "metadata": {},
   "outputs": [],
   "source": [
    "# ----- Part 1 -----\n",
    "\n",
    "digits1 = input.split(\"\\n\")\n",
    "digits1 = [d.split(\" | \") for d in digits1]\n",
    "digits1 = [d[1] for d in digits1]\n",
    "digits1 = [d.split(\" \") for d in digits1]\n"
   ]
  },
  {
   "cell_type": "code",
   "execution_count": 12,
   "metadata": {},
   "outputs": [],
   "source": [
    "lens = [[len(dd) for dd in d] for d in digits1]\n",
    "lens = np.array(lens)\n",
    "lens = np.reshape(lens, -1)"
   ]
  },
  {
   "cell_type": "code",
   "execution_count": 13,
   "metadata": {},
   "outputs": [
    {
     "name": "stdout",
     "output_type": "stream",
     "text": [
      "310\n"
     ]
    }
   ],
   "source": [
    "result1 = np.sum([np.sum(lens == i) for i in [2, 3, 4, 7]])\n",
    "print(result1)"
   ]
  },
  {
   "cell_type": "code",
   "execution_count": 14,
   "metadata": {},
   "outputs": [],
   "source": [
    "# ----- Part 2 -----\n",
    "\n",
    "digits2 = input.split(\"\\n\")\n",
    "digits2 = [d.split(\" | \") for d in digits2]\n",
    "digits2 = [[d[0].split(\" \"), d[1].split(\" \")] for d in digits2]"
   ]
  },
  {
   "cell_type": "code",
   "execution_count": 15,
   "metadata": {},
   "outputs": [],
   "source": [
    "SEGMENTS = ['a', 'b', 'c', 'd', 'e', 'f', 'g']"
   ]
  },
  {
   "cell_type": "code",
   "execution_count": 16,
   "metadata": {},
   "outputs": [],
   "source": [
    "def decode_segments(ten_digs):\n",
    "    \n",
    "    ordered_segments_inds = [None] * 7\n",
    "    all_segments = \"\".join(ten_digs)\n",
    "    all_segments_count = [all_segments.count(s) for s in SEGMENTS]\n",
    "\n",
    "    ordered_segments_inds[all_segments_count.index(6)] = 1  # b\n",
    "    ordered_segments_inds[all_segments_count.index(4)] = 4  # e\n",
    "    ordered_segments_inds[all_segments_count.index(9)] = 5  # f\n",
    "\n",
    "    ten_digs_len = [len(d) for d in ten_digs]\n",
    "    one_segs = ten_digs[ten_digs_len.index(2)]\n",
    "    seven_segs = ten_digs[ten_digs_len.index(3)]\n",
    "    for s in seven_segs:\n",
    "        if s not in one_segs:\n",
    "            i_a = SEGMENTS.index(s)\n",
    "            ordered_segments_inds[SEGMENTS.index(s)] = 0    # a\n",
    "    \n",
    "    i_c = [i for i, count in enumerate(all_segments_count) if (count == 8 and i != i_a)]\n",
    "    ordered_segments_inds[i_c[0]] = 2                       # c\n",
    "\n",
    "    i_dg = [i for i, count in enumerate(all_segments_count) if (count == 7)]\n",
    "    four_segs = ten_digs[ten_digs_len.index(4)]\n",
    "    i_d, i_g = (i_dg[0], i_dg[1]) if SEGMENTS[i_dg[0]] in four_segs else (i_dg[1], i_dg[0])\n",
    "    ordered_segments_inds[i_d] = 3                          # d\n",
    "    ordered_segments_inds[i_g] = 6                          # g\n",
    "\n",
    "    return ordered_segments_inds\n",
    "    \n",
    "    "
   ]
  },
  {
   "cell_type": "code",
   "execution_count": 17,
   "metadata": {},
   "outputs": [],
   "source": [
    "SEG_2_BIN = {0: 1000000,\n",
    "            1: 100000,\n",
    "            2: 10000,\n",
    "            3: 1000,\n",
    "            4: 100,\n",
    "            5: 10,\n",
    "            6: 1\n",
    "            }"
   ]
  },
  {
   "cell_type": "code",
   "execution_count": 18,
   "metadata": {},
   "outputs": [],
   "source": [
    "NUM_2_SEGS = {\"1110111\": 0, \n",
    "            \"10010\": 1, \n",
    "            \"1011101\": 2, \n",
    "            \"1011011\": 3, \n",
    "            \"111010\": 4, \n",
    "            \"1101011\": 5, \n",
    "            \"1101111\": 6, \n",
    "            \"1010010\": 7,\n",
    "            \"1111111\": 8,\n",
    "            \"1111011\": 9\n",
    "            }"
   ]
  },
  {
   "cell_type": "code",
   "execution_count": 19,
   "metadata": {},
   "outputs": [],
   "source": [
    "def decode_display(decoded_segments, display):\n",
    "    \n",
    "    decoded_display = [None] * 4\n",
    "    for i, d in enumerate(display):\n",
    "        if len(d) == 2:\n",
    "            decoded_display[i] = 1\n",
    "        elif len(d) == 3:\n",
    "            decoded_display[i] = 7\n",
    "        elif len(d) == 4:\n",
    "            decoded_display[i] = 4\n",
    "        elif len(d) == 7:\n",
    "            decoded_display[i] = 8\n",
    "\n",
    "    for i, d in enumerate(display):\n",
    "        if decoded_display[i] == None:\n",
    "            bin_segment = 0\n",
    "            for s in d:\n",
    "                bin_segment += SEG_2_BIN[decoded_segments[SEGMENTS.index(s)]]\n",
    "            decoded_display[i] = NUM_2_SEGS[str(bin_segment)]\n",
    "\n",
    "    decoded_display = 1000*decoded_display[0] + 100*decoded_display[1] + 10*decoded_display[2] + decoded_display[3]\n",
    "\n",
    "    return decoded_display\n",
    "    "
   ]
  },
  {
   "cell_type": "code",
   "execution_count": 20,
   "metadata": {},
   "outputs": [],
   "source": [
    "all_displays_decoded = [decode_display(decode_segments(d[0]), d[1]) for d in digits2]"
   ]
  },
  {
   "cell_type": "code",
   "execution_count": 21,
   "metadata": {},
   "outputs": [
    {
     "name": "stdout",
     "output_type": "stream",
     "text": [
      "915941\n"
     ]
    }
   ],
   "source": [
    "result2 = sum(all_displays_decoded)\n",
    "print(result2)"
   ]
  }
 ],
 "metadata": {
  "interpreter": {
   "hash": "b1473e23e2dcfee293aee447f6b42f98e7f1a7fdb26f75602c5f40fe7c2af243"
  },
  "kernelspec": {
   "display_name": "Python 3.8.5 64-bit ('base': conda)",
   "language": "python",
   "name": "python3"
  },
  "language_info": {
   "codemirror_mode": {
    "name": "ipython",
    "version": 3
   },
   "file_extension": ".py",
   "mimetype": "text/x-python",
   "name": "python",
   "nbconvert_exporter": "python",
   "pygments_lexer": "ipython3",
   "version": "3.8.5"
  },
  "orig_nbformat": 4
 },
 "nbformat": 4,
 "nbformat_minor": 2
}
