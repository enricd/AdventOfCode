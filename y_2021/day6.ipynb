{
 "cells": [
  {
   "cell_type": "code",
   "execution_count": 2,
   "metadata": {},
   "outputs": [],
   "source": [
    "import numpy as np\n",
    "from tqdm import tqdm\n",
    "from functools import lru_cache"
   ]
  },
  {
   "cell_type": "code",
   "execution_count": 3,
   "metadata": {},
   "outputs": [],
   "source": [
    "input = \"\"\"5,1,4,1,5,1,1,5,4,4,4,4,5,1,2,2,1,3,4,1,1,5,1,5,2,2,2,2,1,4,2,4,3,3,3,3,1,1,1,4,3,4,3,1,2,1,5,1,1,4,3,3,1,5,3,4,1,1,3,5,2,4,1,5,3,3,5,4,2,2,3,2,1,1,4,1,2,4,4,2,1,4,3,3,4,4,5,3,4,5,1,1,3,2,5,1,5,1,1,5,2,1,1,4,3,2,5,2,1,1,4,1,5,5,3,4,1,5,4,5,3,1,1,1,4,5,3,1,1,1,5,3,3,5,1,4,1,1,3,2,4,1,3,1,4,5,5,1,4,4,4,2,2,5,5,5,5,5,1,2,3,1,1,2,2,2,2,4,4,1,5,4,5,2,1,2,5,4,4,3,2,1,5,1,4,5,1,4,3,4,1,3,1,5,5,3,1,1,5,1,1,1,2,1,2,2,1,4,3,2,4,4,4,3,1,1,1,5,5,5,3,2,5,2,1,1,5,4,1,2,1,1,1,1,1,2,1,1,4,2,1,3,4,2,3,1,2,2,3,3,4,3,5,4,1,3,1,1,1,2,5,2,4,5,2,3,3,2,1,2,1,1,2,5,3,1,5,2,2,5,1,3,3,2,5,1,3,1,1,3,1,1,2,2,2,3,1,1,4,2\"\"\""
   ]
  },
  {
   "cell_type": "code",
   "execution_count": 10,
   "metadata": {},
   "outputs": [],
   "source": [
    "f = input.split(\",\")\n",
    "f = [int(x) for x in f]\n"
   ]
  },
  {
   "cell_type": "code",
   "execution_count": 6,
   "metadata": {},
   "outputs": [
    {
     "name": "stderr",
     "output_type": "stream",
     "text": [
      "100%|██████████| 63/63 [00:00<00:00, 33890.11it/s]"
     ]
    },
    {
     "name": "stdout",
     "output_type": "stream",
     "text": [
      "[0]\n"
     ]
    },
    {
     "name": "stderr",
     "output_type": "stream",
     "text": [
      "\n"
     ]
    }
   ],
   "source": [
    "fd = f.copy()\n",
    "print(fd)\n",
    "\n",
    "for d in tqdm(range(63)):\n",
    "    len_fd = len(fd)\n",
    "    #print(\"day:\",d+1, \"\\tlen:\", len_fd)\n",
    "    for fish in range(len_fd):\n",
    "        if fd[fish] == 0:\n",
    "            fd.append(8)\n",
    "            fd[fish] = 6\n",
    "        else:\n",
    "            fd[fish] -= 1\n",
    "    #if (d+1) % 7 == 0:\n",
    "        #print(fd)\n",
    "    #print(fd)\n",
    "\n",
    "    "
   ]
  },
  {
   "cell_type": "code",
   "execution_count": 6,
   "metadata": {},
   "outputs": [
    {
     "data": {
      "text/plain": [
       "348"
      ]
     },
     "execution_count": 6,
     "metadata": {},
     "output_type": "execute_result"
    }
   ],
   "source": [
    "len(fd)"
   ]
  },
  {
   "cell_type": "code",
   "execution_count": 38,
   "metadata": {},
   "outputs": [
    {
     "data": {
      "text/plain": [
       "36.57142857142857"
      ]
     },
     "execution_count": 38,
     "metadata": {},
     "output_type": "execute_result"
    }
   ],
   "source": [
    "256/7"
   ]
  },
  {
   "cell_type": "code",
   "execution_count": 41,
   "metadata": {},
   "outputs": [
    {
     "data": {
      "text/plain": [
       "20615843020800"
      ]
     },
     "execution_count": 41,
     "metadata": {},
     "output_type": "execute_result"
    }
   ],
   "source": [
    "300 * 2**36"
   ]
  },
  {
   "cell_type": "code",
   "execution_count": 42,
   "metadata": {},
   "outputs": [],
   "source": [
    "f = [8]"
   ]
  },
  {
   "cell_type": "code",
   "execution_count": 7,
   "metadata": {},
   "outputs": [
    {
     "name": "stderr",
     "output_type": "stream",
     "text": [
      " 22%|██▏       | 2/9 [00:00<00:00, 14.58it/s]"
     ]
    },
    {
     "name": "stdout",
     "output_type": "stream",
     "text": [
      "[[0], [1], [2], [3], [4], [5], [6], [7], [8]]\n",
      "[0]\n",
      "[1]\n",
      "[2]\n"
     ]
    },
    {
     "name": "stderr",
     "output_type": "stream",
     "text": [
      " 67%|██████▋   | 6/9 [00:00<00:00, 15.94it/s]"
     ]
    },
    {
     "name": "stdout",
     "output_type": "stream",
     "text": [
      "[3]\n",
      "[4]\n",
      "[5]\n",
      "[6]\n",
      "[7]\n",
      "[8]\n"
     ]
    },
    {
     "name": "stderr",
     "output_type": "stream",
     "text": [
      "100%|██████████| 9/9 [00:00<00:00, 19.97it/s]\n"
     ]
    }
   ],
   "source": [
    "f_all = [[i] for i in range(9)]\n",
    "f_list = []\n",
    "print(f_all)\n",
    "\n",
    "for f in tqdm(f_all):\n",
    "    fd = f.copy()\n",
    "    print(f)\n",
    "\n",
    "    for c in range(18):\n",
    "\n",
    "        len_fd = len(fd)\n",
    "        for fish in range(len_fd):\n",
    "            if fd[fish] == 0:\n",
    "                fd.append(2)\n",
    "            elif fd[fish] == 1:\n",
    "                fd.append(3)\n",
    "            elif fd[fish] == 2:\n",
    "                fd.append(4)\n",
    "            elif fd[fish] == 3:\n",
    "                fd.append(5)\n",
    "            elif fd[fish] == 4:\n",
    "                fd.append(6)\n",
    "            elif fd[fish] == 5:\n",
    "                fd.append(7)\n",
    "            elif fd[fish] == 6:\n",
    "                fd.append(8)\n",
    "            elif fd[fish] == 7:\n",
    "                fd[fish] = 0\n",
    "            elif fd[fish] == 8:\n",
    "                fd[fish] = 1\n",
    "\n",
    "    f_list.append(fd)"
   ]
  },
  {
   "cell_type": "code",
   "execution_count": 44,
   "metadata": {},
   "outputs": [
    {
     "data": {
      "text/plain": [
       "157"
      ]
     },
     "execution_count": 44,
     "metadata": {},
     "output_type": "execute_result"
    }
   ],
   "source": [
    "len(fd)"
   ]
  },
  {
   "cell_type": "code",
   "execution_count": 10,
   "metadata": {},
   "outputs": [],
   "source": [
    "f_list = []"
   ]
  },
  {
   "cell_type": "code",
   "execution_count": 45,
   "metadata": {},
   "outputs": [],
   "source": [
    "f_list.append(fd)"
   ]
  },
  {
   "cell_type": "code",
   "execution_count": 47,
   "metadata": {},
   "outputs": [
    {
     "data": {
      "text/plain": [
       "9"
      ]
     },
     "execution_count": 47,
     "metadata": {},
     "output_type": "execute_result"
    }
   ],
   "source": [
    "len(f_list)"
   ]
  },
  {
   "cell_type": "code",
   "execution_count": 49,
   "metadata": {},
   "outputs": [
    {
     "name": "stdout",
     "output_type": "stream",
     "text": [
      "79321\n",
      "75638\n",
      "67616\n",
      "62475\n",
      "58016\n",
      "51564\n",
      "49380\n",
      "42944\n",
      "41383\n"
     ]
    }
   ],
   "source": [
    "for a in f_list:\n",
    "    print(len(a))"
   ]
  },
  {
   "cell_type": "code",
   "execution_count": 18,
   "metadata": {},
   "outputs": [
    {
     "data": {
      "text/plain": [
       "[49380, 51564, 58016, 62475, 67616, 75638, 79321, 41383]"
      ]
     },
     "execution_count": 18,
     "metadata": {},
     "output_type": "execute_result"
    }
   ],
   "source": [
    "f_n_nums"
   ]
  },
  {
   "cell_type": "code",
   "execution_count": 32,
   "metadata": {},
   "outputs": [
    {
     "data": {
      "text/plain": [
       "[[[0], [0], [0], [0], [0], [0], [0], [0], [0]],\n",
       " [[0], [0], [0], [0], [0], [0], [0], [0], [0]],\n",
       " [[0], [0], [0], [0], [0], [0], [0], [0], [0]],\n",
       " [[0], [0], [0], [0], [0], [0], [0], [0], [0]],\n",
       " [[0], [0], [0], [0], [0], [0], [0], [0], [0]],\n",
       " [[0], [0], [0], [0], [0], [0], [0], [0], [0]],\n",
       " [[0], [0], [0], [0], [0], [0], [0], [0], [0]],\n",
       " [[0], [0], [0], [0], [0], [0], [0], [0], [0]],\n",
       " [[0], [0], [0], [0], [0], [0], [0], [0], [0]]]"
      ]
     },
     "execution_count": 32,
     "metadata": {},
     "output_type": "execute_result"
    }
   ],
   "source": [
    "[[[0] for i in range(9)] for j in range(9)]\n"
   ]
  },
  {
   "cell_type": "code",
   "execution_count": 41,
   "metadata": {},
   "outputs": [
    {
     "data": {
      "text/plain": [
       "9"
      ]
     },
     "execution_count": 41,
     "metadata": {},
     "output_type": "execute_result"
    }
   ],
   "source": [
    "len(f_list)"
   ]
  },
  {
   "cell_type": "code",
   "execution_count": 42,
   "metadata": {},
   "outputs": [
    {
     "name": "stdout",
     "output_type": "stream",
     "text": [
      "0 [11442]\n",
      "1 [3745]\n",
      "2 [12888]\n",
      "3 [6643]\n",
      "4 [11593]\n",
      "5 [12481]\n",
      "6 [8824]\n",
      "7 [8022]\n",
      "8 [3683]\n",
      "0 [3683]\n",
      "1 [11442]\n",
      "2 [3745]\n",
      "3 [12888]\n",
      "4 [6643]\n",
      "5 [11593]\n",
      "6 [12481]\n",
      "7 [5141]\n",
      "8 [8022]\n",
      "0 [8022]\n",
      "1 [3683]\n",
      "2 [11442]\n",
      "3 [3745]\n",
      "4 [12888]\n",
      "5 [6643]\n",
      "6 [11593]\n",
      "7 [4459]\n",
      "8 [5141]\n",
      "0 [5141]\n",
      "1 [8022]\n",
      "2 [3683]\n",
      "3 [11442]\n",
      "4 [3745]\n",
      "5 [12888]\n",
      "6 [6643]\n",
      "7 [6452]\n",
      "8 [4459]\n",
      "0 [4459]\n",
      "1 [5141]\n",
      "2 [8022]\n",
      "3 [3683]\n",
      "4 [11442]\n",
      "5 [3745]\n",
      "6 [12888]\n",
      "7 [2184]\n",
      "8 [6452]\n",
      "0 [6452]\n",
      "1 [4459]\n",
      "2 [5141]\n",
      "3 [8022]\n",
      "4 [3683]\n",
      "5 [11442]\n",
      "6 [3745]\n",
      "7 [6436]\n",
      "8 [2184]\n",
      "0 [2184]\n",
      "1 [6452]\n",
      "2 [4459]\n",
      "3 [5141]\n",
      "4 [8022]\n",
      "5 [3683]\n",
      "6 [11442]\n",
      "7 [1561]\n",
      "8 [6436]\n",
      "0 [6436]\n",
      "1 [2184]\n",
      "2 [6452]\n",
      "3 [4459]\n",
      "4 [5141]\n",
      "5 [8022]\n",
      "6 [3683]\n",
      "7 [5006]\n",
      "8 [1561]\n",
      "0 [1561]\n",
      "1 [6436]\n",
      "2 [2184]\n",
      "3 [6452]\n",
      "4 [4459]\n",
      "5 [5141]\n",
      "6 [8022]\n",
      "7 [2122]\n",
      "8 [5006]\n"
     ]
    }
   ],
   "source": [
    "f_n_nums = np.array([[[0] for i in range(9)] for j in range(9)])\n",
    "\n",
    "for i, l in enumerate(f_list):\n",
    "    \n",
    "    for j in range(9):\n",
    "        f_n_nums[i][j] = l.count(j)\n",
    "        print(j, f_n_nums[i][j])\n",
    "    "
   ]
  },
  {
   "cell_type": "code",
   "execution_count": 23,
   "metadata": {},
   "outputs": [
    {
     "data": {
      "text/plain": [
       "96"
      ]
     },
     "execution_count": 23,
     "metadata": {},
     "output_type": "execute_result"
    }
   ],
   "source": [
    "f.count(1)"
   ]
  },
  {
   "cell_type": "code",
   "execution_count": 43,
   "metadata": {},
   "outputs": [
    {
     "data": {
      "text/plain": [
       "array([[[11442],\n",
       "        [ 3745],\n",
       "        [12888],\n",
       "        [ 6643],\n",
       "        [11593],\n",
       "        [12481],\n",
       "        [ 8824],\n",
       "        [ 8022],\n",
       "        [ 3683]],\n",
       "\n",
       "       [[ 3683],\n",
       "        [11442],\n",
       "        [ 3745],\n",
       "        [12888],\n",
       "        [ 6643],\n",
       "        [11593],\n",
       "        [12481],\n",
       "        [ 5141],\n",
       "        [ 8022]],\n",
       "\n",
       "       [[ 8022],\n",
       "        [ 3683],\n",
       "        [11442],\n",
       "        [ 3745],\n",
       "        [12888],\n",
       "        [ 6643],\n",
       "        [11593],\n",
       "        [ 4459],\n",
       "        [ 5141]],\n",
       "\n",
       "       [[ 5141],\n",
       "        [ 8022],\n",
       "        [ 3683],\n",
       "        [11442],\n",
       "        [ 3745],\n",
       "        [12888],\n",
       "        [ 6643],\n",
       "        [ 6452],\n",
       "        [ 4459]],\n",
       "\n",
       "       [[ 4459],\n",
       "        [ 5141],\n",
       "        [ 8022],\n",
       "        [ 3683],\n",
       "        [11442],\n",
       "        [ 3745],\n",
       "        [12888],\n",
       "        [ 2184],\n",
       "        [ 6452]],\n",
       "\n",
       "       [[ 6452],\n",
       "        [ 4459],\n",
       "        [ 5141],\n",
       "        [ 8022],\n",
       "        [ 3683],\n",
       "        [11442],\n",
       "        [ 3745],\n",
       "        [ 6436],\n",
       "        [ 2184]],\n",
       "\n",
       "       [[ 2184],\n",
       "        [ 6452],\n",
       "        [ 4459],\n",
       "        [ 5141],\n",
       "        [ 8022],\n",
       "        [ 3683],\n",
       "        [11442],\n",
       "        [ 1561],\n",
       "        [ 6436]],\n",
       "\n",
       "       [[ 6436],\n",
       "        [ 2184],\n",
       "        [ 6452],\n",
       "        [ 4459],\n",
       "        [ 5141],\n",
       "        [ 8022],\n",
       "        [ 3683],\n",
       "        [ 5006],\n",
       "        [ 1561]],\n",
       "\n",
       "       [[ 1561],\n",
       "        [ 6436],\n",
       "        [ 2184],\n",
       "        [ 6452],\n",
       "        [ 4459],\n",
       "        [ 5141],\n",
       "        [ 8022],\n",
       "        [ 2122],\n",
       "        [ 5006]]])"
      ]
     },
     "execution_count": 43,
     "metadata": {},
     "output_type": "execute_result"
    }
   ],
   "source": [
    "f_n_nums\n",
    "    \n",
    "    "
   ]
  },
  {
   "cell_type": "code",
   "execution_count": 48,
   "metadata": {},
   "outputs": [],
   "source": [
    "f_18 = [[0]] * 9\n",
    "\n",
    "for fish in f:\n",
    "    for i, n in enumerate(f_n_nums[fish]):\n",
    "        f_18[i] += n\n"
   ]
  },
  {
   "cell_type": "code",
   "execution_count": 49,
   "metadata": {},
   "outputs": [
    {
     "data": {
      "text/plain": [
       "[array([1589985]),\n",
       " array([2171970]),\n",
       " array([1825485]),\n",
       " array([2585649]),\n",
       " array([2284815]),\n",
       " array([2864811]),\n",
       " array([2991345]),\n",
       " array([1483638]),\n",
       " array([1702194])]"
      ]
     },
     "execution_count": 49,
     "metadata": {},
     "output_type": "execute_result"
    }
   ],
   "source": [
    "f_18"
   ]
  },
  {
   "cell_type": "code",
   "execution_count": null,
   "metadata": {},
   "outputs": [],
   "source": [
    "f_36 = [[0]] * 9\n",
    "\n",
    "for i, f_ in enumerate(f_18):\n",
    "    \n"
   ]
  },
  {
   "cell_type": "code",
   "execution_count": 57,
   "metadata": {},
   "outputs": [
    {
     "data": {
      "text/plain": [
       "array([[1589985],\n",
       "       [2171970],\n",
       "       [1825485],\n",
       "       [2585649],\n",
       "       [2284815],\n",
       "       [2864811],\n",
       "       [2991345],\n",
       "       [1483638],\n",
       "       [1702194]])"
      ]
     },
     "execution_count": 57,
     "metadata": {},
     "output_type": "execute_result"
    }
   ],
   "source": [
    "f_18 = np.array(f_18)\n",
    "f_18"
   ]
  },
  {
   "cell_type": "code",
   "execution_count": 64,
   "metadata": {},
   "outputs": [
    {
     "data": {
      "text/plain": [
       "array([101539503198, 116287682178, 118721109675, 139349146560,\n",
       "       141979186737, 163480438824, 172999320549,  87879999000,\n",
       "        95281497477])"
      ]
     },
     "execution_count": 64,
     "metadata": {},
     "output_type": "execute_result"
    }
   ],
   "source": [
    "f_36 = np.sum(f_18 * f_n_nums, axis=0)\n",
    "f_36"
   ]
  },
  {
   "cell_type": "code",
   "execution_count": 65,
   "metadata": {},
   "outputs": [],
   "source": [
    "total = np.sum(f_36) + f_36[0] + f_36[1] + f_36[2] + f_36[3]"
   ]
  },
  {
   "cell_type": "code",
   "execution_count": 66,
   "metadata": {},
   "outputs": [
    {
     "data": {
      "text/plain": [
       "1613415325809"
      ]
     },
     "execution_count": 66,
     "metadata": {},
     "output_type": "execute_result"
    }
   ],
   "source": [
    "result"
   ]
  },
  {
   "cell_type": "code",
   "execution_count": null,
   "metadata": {},
   "outputs": [],
   "source": []
  }
 ],
 "metadata": {
  "interpreter": {
   "hash": "f9f85f796d01129d0dd105a088854619f454435301f6ffec2fea96ecbd9be4ac"
  },
  "kernelspec": {
   "display_name": "Python 3.9.5 64-bit",
   "language": "python",
   "name": "python3"
  },
  "language_info": {
   "codemirror_mode": {
    "name": "ipython",
    "version": 3
   },
   "file_extension": ".py",
   "mimetype": "text/x-python",
   "name": "python",
   "nbconvert_exporter": "python",
   "pygments_lexer": "ipython3",
   "version": "3.8.5"
  },
  "orig_nbformat": 4
 },
 "nbformat": 4,
 "nbformat_minor": 2
}
