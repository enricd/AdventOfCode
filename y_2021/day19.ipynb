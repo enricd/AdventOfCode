{
 "cells": [
  {
   "cell_type": "code",
   "execution_count": 1,
   "metadata": {},
   "outputs": [],
   "source": [
    "import numpy as np\n",
    "from tqdm import tqdm\n",
    "from functools import reduce"
   ]
  },
  {
   "cell_type": "code",
   "execution_count": 2,
   "metadata": {},
   "outputs": [],
   "source": [
    "with open(\"./data_inputs/day19_input.txt\") as f:\n",
    "    input = f.read().split(\"\\n\")"
   ]
  },
  {
   "cell_type": "code",
   "execution_count": 3,
   "metadata": {},
   "outputs": [],
   "source": [
    "c = 0\n",
    "scanners = []\n",
    "for l in input:\n",
    "    if l[0:3] == \"---\":\n",
    "        scanner = []\n",
    "    elif len(l) == 0:\n",
    "        scanners.append(np.array(scanner))\n",
    "    else:\n",
    "        scanner.append(list(map(int, l.split(\",\"))))\n",
    "\n"
   ]
  },
  {
   "cell_type": "code",
   "execution_count": 4,
   "metadata": {},
   "outputs": [],
   "source": [
    "# ----- PART 1 -----\n",
    "\n",
    "def internal_beacons_pattern(scanner):\n",
    "    \n",
    "    pattern = np.array([np.array([np.sqrt(np.sum((scanner_i - scanner_j)**2)) for scanner_j in scanner]) for scanner_i in scanner])  \n",
    "    \n",
    "    return pattern"
   ]
  },
  {
   "cell_type": "code",
   "execution_count": 5,
   "metadata": {},
   "outputs": [],
   "source": [
    "patterns = [internal_beacons_pattern(scanner) for scanner in scanners]      # patterns "
   ]
  },
  {
   "cell_type": "code",
   "execution_count": 6,
   "metadata": {},
   "outputs": [
    {
     "name": "stdout",
     "output_type": "stream",
     "text": [
      "scanners len: 28\n",
      "scanner0 beacons: (26, 3)\n",
      "28 x 26 x 3\n",
      "\n",
      "patterns len: 28\n",
      "pattern0 shape: (26, 26) 26 distances for every single beacon of 26 beacons of the scanner 0 \n",
      "28 x 26 x 26\n"
     ]
    }
   ],
   "source": [
    "print(\"scanners len:\", len(scanners))\n",
    "print(\"scanner0 beacons:\", scanners[0].shape)\n",
    "print(\"28 x 26 x 3\")\n",
    "print(\"\\npatterns len:\", len(patterns))\n",
    "print(\"pattern0 shape:\", patterns[0].shape, \"26 distances for every single beacon of 26 beacons of the scanner 0 \")\n",
    "print(\"28 x 26 x 26\")"
   ]
  },
  {
   "cell_type": "code",
   "execution_count": 7,
   "metadata": {},
   "outputs": [
    {
     "name": "stderr",
     "output_type": "stream",
     "text": [
      "28it [00:25,  1.10it/s]\n"
     ]
    }
   ],
   "source": [
    "coincidents = {}\n",
    "\n",
    "for i, p1 in tqdm(enumerate(patterns)):\n",
    "    for j, p2 in enumerate(patterns):\n",
    "        if i >= j:\n",
    "            continue\n",
    "\n",
    "        coincident = np.zeros((p1.shape[0], p2.shape[0]))\n",
    "\n",
    "        for k, b1 in enumerate(p1):\n",
    "            for l, b2 in enumerate(p2):\n",
    "                \n",
    "                coincident[k, l] = sum([dist_b1 in b2 for dist_b1 in b1])\n",
    "\n",
    "        coincidents[(i, j)] = coincident\n",
    "        \n"
   ]
  },
  {
   "cell_type": "code",
   "execution_count": 8,
   "metadata": {},
   "outputs": [],
   "source": [
    "beacons = []\n",
    "\n",
    "for key_c, coincident in coincidents.items():\n",
    "    coincident_b = np.array(np.where(coincident > 3)).T\n",
    "    if coincident_b.size > 0:\n",
    "        for beacon in coincident_b:\n",
    "            beacons.append(((key_c[0], beacon[0]), (key_c[1], beacon[1])))\n",
    "\n",
    "    "
   ]
  },
  {
   "cell_type": "code",
   "execution_count": 9,
   "metadata": {},
   "outputs": [],
   "source": [
    "beacons_list_sets = [{beacons[0][0], beacons[0][1]}]\n",
    "\n",
    "for beacon in beacons:\n",
    "    found = False\n",
    "    for beacon_set in beacons_list_sets:\n",
    "        if beacon[0] in beacon_set:\n",
    "            found = True\n",
    "            beacon_set.add(beacon[1])\n",
    "            break\n",
    "        elif beacon[1] in beacon_set:\n",
    "            found = True\n",
    "            beacon_set.add(beacon[0])\n",
    "            break\n",
    "       \n",
    "    if not found:\n",
    "        beacons_list_sets.append({beacon[0], beacon[1]})\n",
    "\n"
   ]
  },
  {
   "cell_type": "code",
   "execution_count": 10,
   "metadata": {},
   "outputs": [],
   "source": [
    "for i, beacon_set_i in enumerate(beacons_list_sets):\n",
    "    for beacon in beacon_set_i:\n",
    "        for j, beacon_set_j in enumerate(beacons_list_sets):\n",
    "            if i == j:\n",
    "                continue\n",
    "\n",
    "            if beacon in beacon_set_j:\n",
    "                beacon_set_i.update(beacon_set_j)\n",
    "                beacons_list_sets.pop(j)\n"
   ]
  },
  {
   "cell_type": "code",
   "execution_count": 11,
   "metadata": {},
   "outputs": [],
   "source": [
    "all_beacons = [[(i, j) for j, beacon in enumerate(scanner)] for i, scanner in enumerate(scanners)]\n",
    "all_beacons = reduce(lambda x, y: x + y, all_beacons)"
   ]
  },
  {
   "cell_type": "code",
   "execution_count": 12,
   "metadata": {},
   "outputs": [],
   "source": [
    "for beacon in all_beacons:\n",
    "    found = False\n",
    "    for beacon_set in beacons_list_sets:\n",
    "        if beacon in beacon_set:\n",
    "            found = True\n",
    "            break\n",
    "\n",
    "    if not found:\n",
    "        beacons_list_sets.append({beacon})"
   ]
  },
  {
   "cell_type": "code",
   "execution_count": 13,
   "metadata": {},
   "outputs": [
    {
     "name": "stdout",
     "output_type": "stream",
     "text": [
      "Result1: 362\n"
     ]
    }
   ],
   "source": [
    "print(\"Result1:\", len(beacons_list_sets))"
   ]
  },
  {
   "cell_type": "code",
   "execution_count": 14,
   "metadata": {},
   "outputs": [],
   "source": [
    "# ----- PART 2 -----\n",
    "\n",
    "neighbors = {i: [] for i in range(28)}             # having >= 12 shared beacons\n",
    "\n",
    "for key_c, coincident in coincidents.items():\n",
    "    coincident_b = np.array(np.where(coincident > 3)).T\n",
    "    if coincident_b.size > 12:\n",
    "        neighbors[key_c[0]].append(key_c[1])\n",
    "        neighbors[key_c[1]].append(key_c[0])  "
   ]
  },
  {
   "cell_type": "code",
   "execution_count": 15,
   "metadata": {},
   "outputs": [],
   "source": [
    "beacons_list_dict = list(map(dict, beacons_list_sets))\n",
    "\n",
    "def find_shared_beacons(i, j, scanners):\n",
    "    shared_beacons = []\n",
    "\n",
    "    for beacon_dict in beacons_list_dict:\n",
    "        if (i in beacon_dict.keys()) and (j in beacon_dict.keys()):\n",
    "            shared_beacons.append(np.array([scanners[i][beacon_dict[i]], scanners[j][beacon_dict[j]]]))\n",
    "\n",
    "    return np.array(shared_beacons)"
   ]
  },
  {
   "cell_type": "code",
   "execution_count": 16,
   "metadata": {},
   "outputs": [],
   "source": [
    "sign_array = np.array([[1, 1, 1],\n",
    "                    [1, 1, -1], \n",
    "                    [1, -1, 1],\n",
    "                    [1, -1, -1],\n",
    "                    [-1, 1, 1],\n",
    "                    [-1, 1, -1],\n",
    "                    [-1, -1, 1],\n",
    "                    [-1, -1, -1],\n",
    "                    ])\n",
    "\n",
    "permutations = np.array([[0, 1, 2], [0, 2, 1], [2, 0, 1], [1, 2, 0], [2, 1, 0], [1, 0, 2]])\n",
    "\n",
    "\n",
    "def scanners_dist(shared_beacons, permutation1, sign1):              # relative dist from scanner0 to scanner1\n",
    "    beacons1 = shared_beacons[:, 0, permutation1] * sign1\n",
    "    #print(beacons1)\n",
    "\n",
    "    for permutation2 in permutations:\n",
    "        for sign2 in sign_array:\n",
    "            beacons2 = shared_beacons[:, 1, permutation2] * sign2\n",
    "            dif = beacons1 - beacons2\n",
    "            #print(\"perm2:\", permutation2, \"sign2:\", sign2, \"\\ndif:\\n\", dif)\n",
    "            if np.all(dif == dif[0]):\n",
    "                return dif[0], permutation2, sign2\n",
    "            \n",
    "    print(\"error\")\n"
   ]
  },
  {
   "cell_type": "code",
   "execution_count": 17,
   "metadata": {},
   "outputs": [],
   "source": [
    "locked_scanners = {0: ([0, 1, 2], [1, 1, 1])}\n",
    "scanners_distances = {}\n",
    "scanners_coords = {0: np.zeros(3)}\n",
    "\n",
    "def lock_next_scanner(scanner):\n",
    "    i = scanner\n",
    "    neighbors_j = neighbors[i]\n",
    "    #print(\"i\", i, \"\\tneighbors j:\", neighbors[i])\n",
    "    #print(scanner_distances)\n",
    "    \n",
    "    if len(neighbors_j) > 0:  \n",
    "        for j in neighbors_j:\n",
    "            if (i, j) not in scanners_distances:\n",
    "                shared_beacons = find_shared_beacons(i, j, scanners)\n",
    "                #print(shared_beacons)\n",
    "                dist_ij, permutation, sign = scanners_dist(shared_beacons, *locked_scanners[i])\n",
    "\n",
    "                scanners_distances[(i, j)] = dist_ij\n",
    "                scanners_distances[(j, i)] = dist_ij * -1\n",
    "                if j not in scanners_coords:\n",
    "                    scanners_coords[j] = scanners_coords[i] + dist_ij\n",
    "                locked_scanners[j] = (permutation, sign)\n",
    "\n",
    "                lock_next_scanner(j)\n",
    "        "
   ]
  },
  {
   "cell_type": "code",
   "execution_count": 20,
   "metadata": {},
   "outputs": [],
   "source": [
    "lock_next_scanner(0)"
   ]
  },
  {
   "cell_type": "code",
   "execution_count": 21,
   "metadata": {},
   "outputs": [
    {
     "name": "stdout",
     "output_type": "stream",
     "text": [
      "Result2: 12204.0\n"
     ]
    }
   ],
   "source": [
    "max_manhattan_dist = 0\n",
    "\n",
    "for coords1 in scanners_coords.values():\n",
    "    for coords2 in scanners_coords.values():\n",
    "        dist = coords1 - coords2\n",
    "        dist = np.sum(np.abs(dist[0]) + np.abs(dist[1]) + np.abs(dist[2]))\n",
    "        if dist > max_manhattan_dist:\n",
    "            max_manhattan_dist = dist\n",
    "\n",
    "print(\"Result2:\", max_manhattan_dist)\n"
   ]
  }
 ],
 "metadata": {
  "interpreter": {
   "hash": "b1473e23e2dcfee293aee447f6b42f98e7f1a7fdb26f75602c5f40fe7c2af243"
  },
  "kernelspec": {
   "display_name": "Python 3.8.5 64-bit ('base': conda)",
   "language": "python",
   "name": "python3"
  },
  "language_info": {
   "codemirror_mode": {
    "name": "ipython",
    "version": 3
   },
   "file_extension": ".py",
   "mimetype": "text/x-python",
   "name": "python",
   "nbconvert_exporter": "python",
   "pygments_lexer": "ipython3",
   "version": "3.8.5"
  },
  "orig_nbformat": 4
 },
 "nbformat": 4,
 "nbformat_minor": 2
}
