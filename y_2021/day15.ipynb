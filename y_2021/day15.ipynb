{
 "cells": [
  {
   "cell_type": "code",
   "execution_count": 1,
   "metadata": {},
   "outputs": [],
   "source": [
    "import numpy as np\n",
    "%matplotlib inline\n",
    "from matplotlib import pyplot as plt\n",
    "from random import randint"
   ]
  },
  {
   "cell_type": "code",
   "execution_count": 2,
   "metadata": {},
   "outputs": [],
   "source": [
    "with open(\"./data_inputs/day15_input.txt\") as f:\n",
    "    input = f.read()"
   ]
  },
  {
   "cell_type": "code",
   "execution_count": 3,
   "metadata": {},
   "outputs": [],
   "source": [
    "cave_map = np.array([list(map(int, list(line))) for line in input.split(\"\\n\")], dtype=np.uint8)"
   ]
  },
  {
   "cell_type": "code",
   "execution_count": 4,
   "metadata": {},
   "outputs": [],
   "source": [
    "cave_map[0, 0] = 0\n",
    "cave_map[99, 99] = 0"
   ]
  },
  {
   "cell_type": "code",
   "execution_count": 5,
   "metadata": {},
   "outputs": [],
   "source": [
    "def plot_map(cave_map, paths):\n",
    "\n",
    "    i = 0\n",
    "    map_path = np.copy(cave_map)\n",
    "    for path in paths:\n",
    "        for p in path:\n",
    "            map_path[p[0], p[1]] = (20 + i*5)\n",
    "        i += 1\n",
    "    fig, ax = plt.subplots(figsize = (10, 10))\n",
    "    ax.imshow(map_path)"
   ]
  },
  {
   "cell_type": "code",
   "execution_count": 6,
   "metadata": {},
   "outputs": [],
   "source": [
    "if 'paths' not in locals():\n",
    "    paths = []\n",
    "\n",
    "if 'risks' not in locals():\n",
    "    risks = []\n",
    "\n",
    "def path_risk(path):\n",
    "    return sum([cave_map[p[0], p[1]] for p in path])\n",
    "\n",
    "def add_paths(path):\n",
    "    if path not in paths:\n",
    "        paths.append(path)\n",
    "        risks.append(path_risk(path))\n",
    "        #print(risks[-1])\n",
    "    else:\n",
    "        print(\"Path already exists\")"
   ]
  },
  {
   "cell_type": "code",
   "execution_count": 7,
   "metadata": {},
   "outputs": [],
   "source": [
    "start = (0, 0)\n",
    "finish = (99, 99)\n",
    "\n",
    "movs_dict = dict(\n",
    "    up = (-1, 0),\n",
    "    down = (1, 0),\n",
    "    left = (0, -1),\n",
    "    right = (0, 1),\n",
    ")\n"
   ]
  },
  {
   "cell_type": "code",
   "execution_count": 8,
   "metadata": {},
   "outputs": [],
   "source": [
    "def valid_movs(pos):\n",
    "\n",
    "    movs = movs_dict.copy()\n",
    "    if pos[0] == 0:\n",
    "        movs.pop(\"up\")\n",
    "    if pos[0] == cave_map.shape[0] - 1:\n",
    "        movs.pop(\"down\")\n",
    "    if pos[1] == 0:\n",
    "        movs.pop(\"left\")\n",
    "    if pos[1] == cave_map.shape[1] - 1:\n",
    "        movs.pop(\"right\")\n",
    "    \n",
    "    return movs"
   ]
  },
  {
   "cell_type": "code",
   "execution_count": 9,
   "metadata": {},
   "outputs": [
    {
     "data": {
      "text/plain": [
       "[1, 1, 0, 2, 0, 0, 2, 2, 0, -1]"
      ]
     },
     "execution_count": 9,
     "metadata": {},
     "output_type": "execute_result"
    }
   ],
   "source": [
    "[randint(-2, 2) for i in range(10)]"
   ]
  },
  {
   "cell_type": "code",
   "execution_count": 11,
   "metadata": {},
   "outputs": [],
   "source": [
    "def next_mov(pos, path, objective):\n",
    "    movs = valid_movs(pos)\n",
    "    close_pos = [(pos[0] + mov[0], pos[1] + mov[1]) for _, mov in movs.items()]\n",
    "    close_pos = [p for p in close_pos if p not in path]\n",
    "    down_right = [(pos[0] + mov[0], pos[1] + mov[1]) for direction, mov in movs.items() if direction in [\"down\", \"right\"]]\n",
    "    up_left = [(pos[0] + mov[0], pos[1] + mov[1]) for direction, mov in movs.items() if direction in [\"up\", \"left\"]]\n",
    "    #print(\"down_right:\", down_right)\n",
    "    risks = [[close_pos, cave_map[close_pos]] for close_pos in close_pos]\n",
    "    #print(\"risks:\", risks)\n",
    "    for r in risks:\n",
    "       r[1] += randint(-2, 3)\n",
    "    \n",
    "    if objective == \"finish\":\n",
    "        if down_right:\n",
    "            for p in down_right:\n",
    "                for r in risks:\n",
    "                    if r[0] == p:\n",
    "                        r[1] -= 8\n",
    "                        \n",
    "    elif objective == \"start\":\n",
    "        if up_left:\n",
    "            for p in up_left:\n",
    "                for r in risks:\n",
    "                    if r[0] == p:\n",
    "                        r[1] -= 8\n",
    "    #print(\"risks_slope:\", risks)\n",
    "\n",
    "    if not risks:\n",
    "        #print(\"not_risk\", pos)\n",
    "        return None\n",
    "        \n",
    "    return min(risks, key = lambda x: x[1])[0]\n",
    "\n"
   ]
  },
  {
   "cell_type": "code",
   "execution_count": 12,
   "metadata": {},
   "outputs": [],
   "source": [
    "low_map_positions = []\n",
    "\n",
    "for x in range(100):\n",
    "    for y in range(100):\n",
    "        if cave_map[x, y] < 2:\n",
    "            low_map_positions.append((x, y))\n"
   ]
  },
  {
   "cell_type": "code",
   "execution_count": 13,
   "metadata": {},
   "outputs": [
    {
     "data": {
      "text/plain": [
       "949"
      ]
     },
     "execution_count": 13,
     "metadata": {},
     "output_type": "execute_result"
    }
   ],
   "source": [
    "len(low_map_positions)"
   ]
  },
  {
   "cell_type": "code",
   "execution_count": 100,
   "metadata": {},
   "outputs": [],
   "source": [
    "lowest_risk = 10000\n",
    "lowest_path = []\n",
    "lowest_start = (-1, -1)\n",
    "fails = 0\n",
    "test_paths = []\n",
    "test_risks = []\n",
    "\n",
    "for i in range(50000):\n",
    "    total_risk = 0\n",
    "    total_movements = 0\n",
    "    pos = start\n",
    "    path = []\n",
    "    fail = False\n",
    "    dual_path = True\n",
    "\n",
    "    if dual_path:\n",
    "        start_pos = low_map_positions[randint(0, len(low_map_positions) - 1)]\n",
    "        pos = start_pos\n",
    "        \n",
    "        while not fail and pos != start and total_movements < 500:\n",
    "    \n",
    "            next_pos = next_mov(pos, path, \"start\")\n",
    "            if not next_pos:\n",
    "                fail = True\n",
    "                fails += 1\n",
    "                break\n",
    "            path.append(next_pos)\n",
    "            total_risk += cave_map[next_pos]\n",
    "            total_movements += 1\n",
    "            pos = next_pos\n",
    "\n",
    "        if not fail:\n",
    "            total_risk += cave_map[start_pos]\n",
    "            path.append(start_pos)\n",
    "            path.remove(start)\n",
    "    \n",
    "    pos = start_pos\n",
    "    while not fail and pos != finish and total_movements < 500:\n",
    "\n",
    "        next_pos = next_mov(pos, path, \"finish\")\n",
    "        if not next_pos:\n",
    "            fail = True\n",
    "            fails += 1\n",
    "            break\n",
    "        path.append(next_pos)\n",
    "        total_risk += cave_map[next_pos]\n",
    "        total_movements += 1\n",
    "        pos = next_pos\n",
    "    \n",
    "    total_risk += 8\n",
    "\n",
    "    #test_paths.append(path)\n",
    "    #test_risks.append(total_risk)\n",
    "    \n",
    "    if total_risk < lowest_risk and not fail:\n",
    "        lowest_risk = total_risk\n",
    "        lowest_path = path.copy()\n",
    "        lowest_start = start_pos\n",
    "\n",
    "    #print(\"total_risk:\", total_risk)\n",
    "    #if path_risk(path) < 1000:\n",
    "    #    add_paths(path)\n",
    "    #else:\n",
    "    #    print(\"Path not saved, too high risk\")\n",
    "\n",
    "add_paths(lowest_path)\n",
    "\n",
    "print(\"lowest_risk:\", lowest_risk)\n",
    "print(\"fails:\", fails)\n",
    "print(\"lowest_start:\", lowest_start)"
   ]
  },
  {
   "cell_type": "code",
   "execution_count": 99,
   "metadata": {},
   "outputs": [
    {
     "data": {
      "image/png": "[encoded data removed]",
      "text/plain": [
       "<Figure size 720x720 with 1 Axes>"
      ]
     },
     "metadata": {
      "needs_background": "light"
     },
     "output_type": "display_data"
    }
   ],
   "source": [
    "plot_map(cave_map, [paths[-1]])"
   ]
  },
  {
   "cell_type": "code",
   "execution_count": 81,
   "metadata": {},
   "outputs": [
    {
     "data": {
      "text/plain": [
       "[926,\n",
       " 889,\n",
       " 907,\n",
       " 929,\n",
       " 999,\n",
       " 995,\n",
       " 943,\n",
       " 968,\n",
       " 956,\n",
       " 896,\n",
       " 1221,\n",
       " 831,\n",
       " 833,\n",
       " 879,\n",
       " 830,\n",
       " 843,\n",
       " 850,\n",
       " 846,\n",
       " 843,\n",
       " 920,\n",
       " 849]"
      ]
     },
     "execution_count": 81,
     "metadata": {},
     "output_type": "execute_result"
    }
   ],
   "source": [
    "risks"
   ]
  },
  {
   "cell_type": "code",
   "execution_count": 82,
   "metadata": {},
   "outputs": [
    {
     "data": {
      "text/plain": [
       "21"
      ]
     },
     "execution_count": 82,
     "metadata": {},
     "output_type": "execute_result"
    }
   ],
   "source": [
    "len(paths)"
   ]
  },
  {
   "cell_type": "code",
   "execution_count": null,
   "metadata": {},
   "outputs": [],
   "source": []
  }
 ],
 "metadata": {
  "interpreter": {
   "hash": "b1473e23e2dcfee293aee447f6b42f98e7f1a7fdb26f75602c5f40fe7c2af243"
  },
  "kernelspec": {
   "display_name": "Python 3.8.5 64-bit ('base': conda)",
   "language": "python",
   "name": "python3"
  },
  "language_info": {
   "codemirror_mode": {
    "name": "ipython",
    "version": 3
   },
   "file_extension": ".py",
   "mimetype": "text/x-python",
   "name": "python",
   "nbconvert_exporter": "python",
   "pygments_lexer": "ipython3",
   "version": "3.8.5"
  },
  "orig_nbformat": 4
 },
 "nbformat": 4,
 "nbformat_minor": 2
}
