{
 "cells": [
  {
   "cell_type": "code",
   "execution_count": 2,
   "metadata": {},
   "outputs": [],
   "source": [
    "import numpy as np\n",
    "import networkx as nx"
   ]
  },
  {
   "cell_type": "code",
   "execution_count": 3,
   "metadata": {},
   "outputs": [],
   "source": [
    "with open(\"./data_inputs/day15_input.txt\") as f:\n",
    "    input = f.read()"
   ]
  },
  {
   "cell_type": "code",
   "execution_count": 4,
   "metadata": {},
   "outputs": [],
   "source": [
    "cave_map = np.array([list(map(int, list(line))) for line in input.split(\"\\n\")], dtype=np.uint8)"
   ]
  },
  {
   "cell_type": "code",
   "execution_count": 5,
   "metadata": {},
   "outputs": [
    {
     "data": {
      "text/plain": [
       "array([[9, 1, 9, ..., 6, 8, 9],\n",
       "       [9, 4, 5, ..., 2, 3, 9],\n",
       "       [1, 4, 7, ..., 8, 5, 7],\n",
       "       ...,\n",
       "       [8, 2, 1, ..., 8, 4, 9],\n",
       "       [9, 5, 4, ..., 8, 6, 9],\n",
       "       [9, 9, 5, ..., 8, 2, 8]], dtype=uint8)"
      ]
     },
     "execution_count": 5,
     "metadata": {},
     "output_type": "execute_result"
    }
   ],
   "source": [
    "cave_map"
   ]
  },
  {
   "cell_type": "code",
   "execution_count": 6,
   "metadata": {},
   "outputs": [
    {
     "name": "stdout",
     "output_type": "stream",
     "text": [
      "Result1: 741\n",
      "Result2: 2976.0\n"
     ]
    }
   ],
   "source": [
    "def find_risk(cmap):\n",
    "    G = nx.DiGraph()\n",
    "    h, w = cmap.shape\n",
    "    for x in range(h):\n",
    "        for y in range(w):\n",
    "            for dx, dy in [(-1, 0), (1, 0), (0, -1), (0, 1)]:\n",
    "                if 0 <= x+dx < h and 0 <= y+dy < w:\n",
    "                    G.add_edge((x, y), (x+dx, y+dy), weight=cmap[x+dx, y+dy])\n",
    "\n",
    "    dist, _ = nx.single_source_dijkstra(G, (0, 0), target=(h-1, w-1))\n",
    "    return dist\n",
    "\n",
    "# ----- PART 1 -----\n",
    "print(\"Result1:\", find_risk(cave_map))\n",
    "\n",
    "# ----- PART 2 -----\n",
    "large_map = np.zeros((500, 500))\n",
    "\n",
    "for x in range(5):\n",
    "    for y in range(5):\n",
    "        large_map[x*100:(x+1)*100, y*100:(y+1)*100] = cave_map + (x+y)\n",
    "\n",
    "large_map[large_map > 9] -= 9\n",
    "\n",
    "print(\"Result2:\", find_risk(large_map))"
   ]
  },
  {
   "cell_type": "code",
   "execution_count": null,
   "metadata": {},
   "outputs": [],
   "source": []
  },
  {
   "cell_type": "code",
   "execution_count": null,
   "metadata": {},
   "outputs": [],
   "source": [
    "# Alternative try where I tried to implement Dijikstra from scratch but took too long and failed:"
   ]
  },
  {
   "cell_type": "code",
   "execution_count": null,
   "metadata": {},
   "outputs": [],
   "source": [
    "from queue import PriorityQueue"
   ]
  },
  {
   "cell_type": "code",
   "execution_count": null,
   "metadata": {},
   "outputs": [],
   "source": [
    "class Graph:\n",
    "    def __init__(self, vertices):\n",
    "        self.v = vertices\n",
    "        self.edges = {}\n",
    "        self.visited = []\n",
    "        self.neighbors = {v: [] for v in vertices}\n",
    "\n",
    "    def add_edge(self, u, v, weight):\n",
    "        self.edges[(u, v)] = weight\n",
    "        self.edges[(v, u)] = weight\n",
    "        self.neighbors[u].append(v)"
   ]
  },
  {
   "cell_type": "code",
   "execution_count": null,
   "metadata": {},
   "outputs": [],
   "source": [
    "@lru_cache\n",
    "def dijikstra(graph, start_vertex):\n",
    "    D = {v:float('inf') for v in graph.v}\n",
    "    D[start_vertex] = 0\n",
    "\n",
    "    pq = PriorityQueue()\n",
    "    pq.put((0, start_vertex))\n",
    "\n",
    "    while not pq.empty():\n",
    "        (dist, current_vertex) = pq.get()\n",
    "        graph.visited.append(current_vertex)\n",
    "\n",
    "        for neighbor in graph.neighbors[current_vertex]:\n",
    "            if graph.edges[(current_vertex, neighbor)] != -1:\n",
    "                distance = graph.edges[(current_vertex, neighbor)]\n",
    "                if neighbor not in graph.visited:\n",
    "                    old_cost = D[neighbor]\n",
    "                    new_cost = D[current_vertex] + distance\n",
    "                    if new_cost < old_cost:\n",
    "                        pq.put((new_cost, neighbor))\n",
    "                        D[neighbor] = new_cost\n",
    "\n",
    "    return D"
   ]
  },
  {
   "cell_type": "code",
   "execution_count": null,
   "metadata": {},
   "outputs": [],
   "source": [
    "large_map = np.zeros((500, 500))\n",
    "\n",
    "for i in range(5):\n",
    "    for j in range(5):\n",
    "        large_map[i*100:(i+1)*100, j*100:(j+1)*100] = cave_map_ini + (i+j)\n",
    "\n",
    "large_map[large_map > 9] -= 9"
   ]
  },
  {
   "cell_type": "code",
   "execution_count": null,
   "metadata": {},
   "outputs": [],
   "source": [
    "g = Graph([(x, y) for x in range(500) for y in range(500)])"
   ]
  },
  {
   "cell_type": "code",
   "execution_count": null,
   "metadata": {},
   "outputs": [],
   "source": []
  },
  {
   "cell_type": "code",
   "execution_count": null,
   "metadata": {},
   "outputs": [],
   "source": [
    "for x in range(large_map.shape[0]):\n",
    "    for y in range(large_map.shape[1]):\n",
    "        for dy, dx in [(1, 0), (-1, 0), (0, 1), (0, -1)]:\n",
    "            if 0 <= x+dx < large_map.shape[0] and 0 <= y+dy < large_map.shape[1]:\n",
    "                g.add_edge((x, y), (x+dx, y+dy), large_map[x+dx, y+dy])\n",
    "                "
   ]
  },
  {
   "cell_type": "code",
   "execution_count": null,
   "metadata": {},
   "outputs": [
    {
     "data": {
      "text/plain": [
       "array([[9., 1., 9., ..., 1., 3., 4.],\n",
       "       [9., 4., 5., ..., 6., 7., 4.],\n",
       "       [1., 4., 7., ..., 3., 9., 2.],\n",
       "       ...,\n",
       "       [3., 6., 5., ..., 7., 3., 8.],\n",
       "       [4., 9., 8., ..., 7., 5., 8.],\n",
       "       [4., 4., 9., ..., 7., 1., 7.]])"
      ]
     },
     "metadata": {},
     "output_type": "display_data"
    }
   ],
   "source": [
    "large_map"
   ]
  },
  {
   "cell_type": "code",
   "execution_count": null,
   "metadata": {},
   "outputs": [
    {
     "data": {
      "text/plain": [
       "2960.0"
      ]
     },
     "metadata": {},
     "output_type": "display_data"
    }
   ],
   "source": [
    "D[498, 499]"
   ]
  }
 ],
 "metadata": {
  "interpreter": {
   "hash": "b1473e23e2dcfee293aee447f6b42f98e7f1a7fdb26f75602c5f40fe7c2af243"
  },
  "kernelspec": {
   "display_name": "Python 3.8.5 64-bit ('base': conda)",
   "language": "python",
   "name": "python3"
  },
  "language_info": {
   "codemirror_mode": {
    "name": "ipython",
    "version": 3
   },
   "file_extension": ".py",
   "mimetype": "text/x-python",
   "name": "python",
   "nbconvert_exporter": "python",
   "pygments_lexer": "ipython3",
   "version": "3.8.5"
  },
  "orig_nbformat": 4
 },
 "nbformat": 4,
 "nbformat_minor": 2
}
