{
 "cells": [
  {
   "cell_type": "code",
   "execution_count": 59,
   "metadata": {},
   "outputs": [],
   "source": [
    "from functools import reduce"
   ]
  },
  {
   "cell_type": "code",
   "execution_count": 60,
   "metadata": {},
   "outputs": [],
   "source": [
    "with open(\"data_inputs/day16_input.txt\") as f:\n",
    "    input = f.read()"
   ]
  },
  {
   "cell_type": "code",
   "execution_count": 61,
   "metadata": {},
   "outputs": [],
   "source": [
    "d = \"\"\"0 = 0000\n",
    "1 = 0001\n",
    "2 = 0010\n",
    "3 = 0011\n",
    "4 = 0100\n",
    "5 = 0101\n",
    "6 = 0110\n",
    "7 = 0111\n",
    "8 = 1000\n",
    "9 = 1001\n",
    "A = 1010\n",
    "B = 1011\n",
    "C = 1100\n",
    "D = 1101\n",
    "E = 1110\n",
    "F = 1111\"\"\"\n",
    "\n",
    "d_l = d.split(\"\\n\")\n",
    "h2b = {dd[0]: dd[4:8] for dd in d_l}\n",
    "b2h = {dd[4:8]: dd[0] for dd in d_l}\n",
    "\n",
    "id2op = {\n",
    "    \"000\": \"sum\", \n",
    "    \"001\": \"mul\",\n",
    "    \"010\": \"min\",\n",
    "    \"011\": \"max\",\n",
    "    \"101\": \"gt\", \n",
    "    \"110\": \"lt\",\n",
    "    \"111\": \"eq\",\n",
    "}\n"
   ]
  },
  {
   "cell_type": "code",
   "execution_count": 62,
   "metadata": {},
   "outputs": [],
   "source": [
    "def hex2bin(input):\n",
    "\n",
    "    output = []\n",
    "    for _i in input:\n",
    "        output.append(h2b[_i])\n",
    "\n",
    "    return \"\".join(output)\n",
    "\n",
    "\n",
    "def bin2hex(input):\n",
    "    \n",
    "    output = []\n",
    "    for _i in range(0, len(input), 4):\n",
    "        output.append(b2h[input[_i:_i+4]])\n",
    "        print(input[_i:_i+4])\n",
    "\n",
    "    return \"\".join(output)"
   ]
  },
  {
   "cell_type": "code",
   "execution_count": 63,
   "metadata": {},
   "outputs": [],
   "source": [
    "input_bin = hex2bin(input)"
   ]
  },
  {
   "cell_type": "code",
   "execution_count": 64,
   "metadata": {},
   "outputs": [],
   "source": [
    "def operate(op, literals):\n",
    "    if op == \"000\":\n",
    "        return sum(literals)\n",
    "\n",
    "    elif op == \"001\":\n",
    "        return reduce((lambda x, y: x * y), literals)\n",
    "\n",
    "    elif op == \"010\":\n",
    "        return min(literals)\n",
    "    \n",
    "    elif op == \"011\":\n",
    "        return max(literals)\n",
    "\n",
    "    elif op == \"101\":\n",
    "        return 1 * (literals[0] > literals[1])\n",
    "    \n",
    "    elif op == \"110\":\n",
    "        return 1 * (literals[0] < literals[1])\n",
    "\n",
    "    elif op == \"111\":\n",
    "        return 1 * (literals[0] == literals[1])\n"
   ]
  },
  {
   "cell_type": "code",
   "execution_count": 65,
   "metadata": {},
   "outputs": [],
   "source": [
    "def next_packet(bit0, versions, operation, input_bin, level):\n",
    "\n",
    "    versions.append(int(input_bin[bit0:(bit0+3)], 2))\n",
    "\n",
    "    # Packet\n",
    "    if input_bin[(bit0+3):(bit0+6)] == '100':\n",
    "        \n",
    "        zero = False\n",
    "        bit0_literal = bit0+6\n",
    "        literal = []\n",
    "        while not zero:\n",
    "            if input_bin[bit0_literal] == '0':\n",
    "                literal.append(b2h[input_bin[bit0_literal+1:bit0_literal+5]])\n",
    "                zero = True\n",
    "            else:\n",
    "                literal.append(b2h[input_bin[bit0_literal+1:bit0_literal+5]])\n",
    "                bit0_literal += 5\n",
    "        \n",
    "        bitf_literal = bit0_literal + 5\n",
    "        dec_literal = int(\"\".join(literal), 16)\n",
    "        operation.append((level, dec_literal))\n",
    "\n",
    "        return bitf_literal, dec_literal\n",
    "\n",
    "    # Operator\n",
    "    else:\n",
    "        operator_id = input_bin[(bit0+3):(bit0+6)]\n",
    "\n",
    "        if input_bin[bit0+6] == '0':\n",
    "            subpacket_len = int(input_bin[(bit0+7):(bit0+22)], 2)\n",
    "            l = 0\n",
    "            sub_bit0 = bit0+22\n",
    "            sub_bitf = None\n",
    "            literals = []\n",
    "\n",
    "            while l < subpacket_len:\n",
    "                sub_bitf, literal = next_packet(sub_bit0, versions, operation, input_bin, level+1)\n",
    "                literals.append(literal)\n",
    "                l += sub_bitf - sub_bit0\n",
    "                sub_bit0 = sub_bitf\n",
    "            \n",
    "            result = operate(operator_id, literals)\n",
    "            operation.append((level, id2op[operator_id], literals, result))\n",
    "\n",
    "            return sub_bitf, result\n",
    "        \n",
    "        else: \n",
    "            num_subpackets = int(input_bin[(bit0+7):(bit0+18)], 2)\n",
    "            sub_bit0 = bit0+18\n",
    "            sub_bitf = None\n",
    "            literals = []  \n",
    "\n",
    "            for sp in range(num_subpackets):\n",
    "                sub_bitf, literal = next_packet(sub_bit0, versions, operation, input_bin, level+1)\n",
    "                literals.append(literal)\n",
    "                sub_bit0 = sub_bitf\n",
    "\n",
    "            result = operate(operator_id, literals)\n",
    "            operation.append((level, id2op[operator_id], literals, result))\n",
    "\n",
    "            return sub_bitf, result"
   ]
  },
  {
   "cell_type": "code",
   "execution_count": 66,
   "metadata": {},
   "outputs": [
    {
     "name": "stdout",
     "output_type": "stream",
     "text": [
      "Result1: 949\n",
      "Result2: 1114600142730\n"
     ]
    }
   ],
   "source": [
    "versions = []\n",
    "operation = []\n",
    "bitf = 0\n",
    "\n",
    "_, result2 = next_packet(bitf, versions, operation, input_bin, 0)\n",
    "\n",
    "print(\"Result1:\", sum(versions))\n",
    "print(\"Result2:\", result2)\n",
    "            \n",
    "\n"
   ]
  }
 ],
 "metadata": {
  "interpreter": {
   "hash": "b1473e23e2dcfee293aee447f6b42f98e7f1a7fdb26f75602c5f40fe7c2af243"
  },
  "kernelspec": {
   "display_name": "Python 3.8.5 64-bit ('base': conda)",
   "language": "python",
   "name": "python3"
  },
  "language_info": {
   "codemirror_mode": {
    "name": "ipython",
    "version": 3
   },
   "file_extension": ".py",
   "mimetype": "text/x-python",
   "name": "python",
   "nbconvert_exporter": "python",
   "pygments_lexer": "ipython3",
   "version": "3.8.5"
  },
  "orig_nbformat": 4
 },
 "nbformat": 4,
 "nbformat_minor": 2
}
