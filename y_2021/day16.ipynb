{
 "cells": [
  {
   "cell_type": "code",
   "execution_count": 6,
   "metadata": {},
   "outputs": [],
   "source": [
    "with open(\"data_inputs/day16_input.txt\") as f:\n",
    "    input = f.read()"
   ]
  },
  {
   "cell_type": "code",
   "execution_count": 73,
   "metadata": {},
   "outputs": [],
   "source": [
    "d = \"\"\"0 = 0000\n",
    "1 = 0001\n",
    "2 = 0010\n",
    "3 = 0011\n",
    "4 = 0100\n",
    "5 = 0101\n",
    "6 = 0110\n",
    "7 = 0111\n",
    "8 = 1000\n",
    "9 = 1001\n",
    "A = 1010\n",
    "B = 1011\n",
    "C = 1100\n",
    "D = 1101\n",
    "E = 1110\n",
    "F = 1111\"\"\"\n",
    "\n",
    "d_l = d.split(\"\\n\")\n",
    "h2b = {dd[0]: dd[4:8] for dd in d_l}\n"
   ]
  },
  {
   "cell_type": "code",
   "execution_count": 74,
   "metadata": {},
   "outputs": [],
   "source": [
    "def hex2bin(input):\n",
    "\n",
    "    output = []\n",
    "    for _i in input:\n",
    "        output.append(h2b[_i])\n",
    "\n",
    "    return \"\".join(output)\n"
   ]
  },
  {
   "cell_type": "code",
   "execution_count": 75,
   "metadata": {},
   "outputs": [],
   "source": [
    "input_bin = hex2bin(input)\n"
   ]
  },
  {
   "cell_type": "code",
   "execution_count": 9,
   "metadata": {},
   "outputs": [
    {
     "ename": "SyntaxError",
     "evalue": "unexpected EOF while parsing (655339795.py, line 11)",
     "output_type": "error",
     "traceback": [
      "\u001b[0;36m  File \u001b[0;32m\"/tmp/ipykernel_42409/655339795.py\"\u001b[0;36m, line \u001b[0;32m11\u001b[0m\n\u001b[0;31m    \u001b[0m\n\u001b[0m    ^\u001b[0m\n\u001b[0;31mSyntaxError\u001b[0m\u001b[0;31m:\u001b[0m unexpected EOF while parsing\n"
     ]
    }
   ],
   "source": [
    "class Packet():\n",
    "    def __init__(self, ):\n",
    "        self.version = None\n",
    "        self.type_id = None\n",
    "        self.length_type = None\n",
    "        self.length = None\n",
    "        self.subpackets = [] \n",
    "        self.literals = []\n",
    "\n",
    "class Operator():\n",
    "\n"
   ]
  },
  {
   "cell_type": "code",
   "execution_count": 10,
   "metadata": {},
   "outputs": [],
   "source": [
    "# Packet: VVV TTT AAAAA BBBBB CCCCC\n",
    "# Operator: VVV TTT I L(I(0):x15 length / I(1):x11 subpackets)"
   ]
  },
  {
   "cell_type": "code",
   "execution_count": null,
   "metadata": {},
   "outputs": [],
   "source": [
    "bitf = -1\n",
    "packets = []\n",
    "p = 0\n",
    "\n",
    "while i < len(input_bin):º\n",
    "    bit0 = bitf + 1\n",
    "\n",
    "    packets[p] = {\"version\": int(input_bin[bit0:bit0+3], 2)}\n",
    "\n",
    "    packets[p][\"type_id\"] = int(input_bin[bit0+4:bit0+6], 2)\n",
    "\n",
    "    if packets[p][\"type_id\"] == 4:\n",
    "        next_packet(packets[p])\n",
    "\n",
    "    else:\n",
    "        next_operator(packets[p])\n"
   ]
  },
  {
   "cell_type": "code",
   "execution_count": 32,
   "metadata": {},
   "outputs": [
    {
     "data": {
      "text/plain": [
       "24"
      ]
     },
     "execution_count": 32,
     "metadata": {},
     "output_type": "execute_result"
    }
   ],
   "source": [
    "bitf_literal = 17\n",
    "bitf_literal if (bitf_literal % 8) == 0 else (bitf_literal + (8 - (bitf_literal % 8)))"
   ]
  },
  {
   "cell_type": "code",
   "execution_count": 134,
   "metadata": {},
   "outputs": [],
   "source": [
    "def next_packet(bit0, versions, input_bin, is_subpacket):\n",
    "\n",
    "    print(bit0, input_bin[bit0:(bit0+3)])\n",
    "    versions.append(int(input_bin[bit0:(bit0+3)], 2))\n",
    "\n",
    "    # Packet\n",
    "    if input_bin[(bit0+3):(bit0+6)] == '100':\n",
    "        print(\"Packet\", input_bin[(bit0):(bit0+3)], input_bin[(bit0+3):(bit0+6)])\n",
    "        \n",
    "        zero = False\n",
    "        bit0_literal = bit0+6\n",
    "        while not zero:\n",
    "            if input_bin[bit0_literal] == '0':\n",
    "                zero = True\n",
    "            else:\n",
    "                bit0_literal += 5\n",
    "        \n",
    "        bitf_literal = bit0_literal + 5\n",
    "\n",
    "        if is_subpacket:\n",
    "            print(\"is_subpacket\", input_bin[(bit0+6):(bitf_literal)])\n",
    "            return bitf_literal\n",
    "\n",
    "        print(\"not is_subpacket\", input_bin[(bit0+6):(bitf_literal)])\n",
    "        return bitf_literal if (bitf_literal % 8) == 0 else (bitf_literal + (8 - (bitf_literal % 8)))\n",
    "\n",
    "    # Operator\n",
    "    else:\n",
    "        if input_bin[bit0+6] == '0':\n",
    "            print(\"Operator 0\", input_bin[bit0:bit0+3], input_bin[bit0+3:bit0+6], input_bin[bit0+6], input_bin[(bit0+7):(bit0+22)])\n",
    "\n",
    "            subpacket_len = int(input_bin[(bit0+7):(bit0+22)], 2)\n",
    "            l = 0\n",
    "            sub_bit0 = bit0+22\n",
    "            sub_bitf = None\n",
    "\n",
    "            print(\"start of len\", subpacket_len, \":\", sub_bit0)\n",
    "            while l < subpacket_len:\n",
    "                sub_bitf = next_packet(sub_bit0, versions, input_bin, True)\n",
    "                l += sub_bitf - sub_bit0\n",
    "                sub_bit0 = sub_bitf\n",
    "            print(\"end of len:\", sub_bitf)    \n",
    "            \n",
    "            return sub_bitf if (sub_bitf % 8) == 0 else (sub_bitf + (8 - (sub_bitf % 8)))\n",
    "        \n",
    "        else:\n",
    "            \n",
    "            print(\"Operator 1\", input_bin[bit0:bit0+3], input_bin[bit0+3:bit0+6], input_bin[bit0+6], input_bin[(bit0+7):(bit0+18)])\n",
    "            num_subpackets = int(input_bin[(bit0+7):(bit0+18)], 2)\n",
    "            sub_bit0 = bit0+18\n",
    "            sub_bitf = None\n",
    "\n",
    "            for sp in range(num_subpackets):\n",
    "                sub_bitf = next_packet(sub_bit0, versions, input_bin, True)\n",
    "                sub_bit0 = sub_bitf\n",
    "\n",
    "            return sub_bitf if (sub_bitf % 8) == 0 else (sub_bitf + (8 - (sub_bitf % 8)))"
   ]
  },
  {
   "cell_type": "code",
   "execution_count": 106,
   "metadata": {},
   "outputs": [
    {
     "data": {
      "text/plain": [
       "'01100010000000001000000000000000000101100001000101010110001011001000100000000010000100011000111000110100'"
      ]
     },
     "execution_count": 106,
     "metadata": {},
     "output_type": "execute_result"
    }
   ],
   "source": [
    "_input_bin = hex2bin(\"620080001611562C8802118E34\")\n",
    "_input_bin"
   ]
  },
  {
   "cell_type": "code",
   "execution_count": 86,
   "metadata": {},
   "outputs": [
    {
     "data": {
      "text/plain": [
       "'100010100000000001001010100000000001101010000000000000101111010001111000'"
      ]
     },
     "execution_count": 86,
     "metadata": {},
     "output_type": "execute_result"
    }
   ],
   "source": [
    "_input_bin = hex2bin(\"8A004A801A8002F478\")\n",
    "_input_bin"
   ]
  },
  {
   "cell_type": "code",
   "execution_count": 131,
   "metadata": {},
   "outputs": [
    {
     "data": {
      "text/plain": [
       "[3, 0, 0, 5, 4, 3]"
      ]
     },
     "execution_count": 131,
     "metadata": {},
     "output_type": "execute_result"
    }
   ],
   "source": [
    "versions"
   ]
  },
  {
   "cell_type": "code",
   "execution_count": 130,
   "metadata": {},
   "outputs": [
    {
     "data": {
      "text/plain": [
       "104"
      ]
     },
     "execution_count": 130,
     "metadata": {},
     "output_type": "execute_result"
    }
   ],
   "source": [
    "len(_input_bin)"
   ]
  },
  {
   "cell_type": "code",
   "execution_count": 129,
   "metadata": {},
   "outputs": [
    {
     "data": {
      "text/plain": [
       "'1000100000000010000100011000111000110100'"
      ]
     },
     "execution_count": 129,
     "metadata": {},
     "output_type": "execute_result"
    }
   ],
   "source": [
    "_input_bin[64:]"
   ]
  },
  {
   "cell_type": "code",
   "execution_count": 128,
   "metadata": {},
   "outputs": [
    {
     "data": {
      "text/plain": [
       "64"
      ]
     },
     "execution_count": 128,
     "metadata": {},
     "output_type": "execute_result"
    }
   ],
   "source": [
    "len(_input_bin[:64])"
   ]
  },
  {
   "cell_type": "code",
   "execution_count": 113,
   "metadata": {},
   "outputs": [
    {
     "data": {
      "text/plain": [
       "2"
      ]
     },
     "execution_count": 113,
     "metadata": {},
     "output_type": "execute_result"
    }
   ],
   "source": [
    "int(\"00000000010\", 2)"
   ]
  },
  {
   "cell_type": "code",
   "execution_count": 124,
   "metadata": {},
   "outputs": [
    {
     "data": {
      "text/plain": [
       "22"
      ]
     },
     "execution_count": 124,
     "metadata": {},
     "output_type": "execute_result"
    }
   ],
   "source": [
    "int(\"000000000010110\", 2)"
   ]
  },
  {
   "cell_type": "code",
   "execution_count": 135,
   "metadata": {},
   "outputs": [
    {
     "name": "stdout",
     "output_type": "stream",
     "text": [
      "0 011\n",
      "Operator 1 011 000 1 00000000010\n",
      "18 000\n",
      "Operator 0 000 000 0 000000000010110\n",
      "start of len 22 : 40\n",
      "40 000\n",
      "Packet 000 100\n",
      "is_subpacket 01010\n",
      "51 101\n",
      "Packet 101 100\n",
      "is_subpacket 01011\n",
      "end of len: 62\n",
      "64 100\n",
      "Operator 0 100 010 0 000000010000100\n",
      "start of len 132 : 86\n",
      "86 011\n",
      "Operator 1 011 000 1 11000110100\n",
      "104 \n"
     ]
    },
    {
     "ename": "ValueError",
     "evalue": "invalid literal for int() with base 2: ''",
     "output_type": "error",
     "traceback": [
      "\u001b[0;31m---------------------------------------------------------------------------\u001b[0m",
      "\u001b[0;31mValueError\u001b[0m                                Traceback (most recent call last)",
      "\u001b[0;32m/tmp/ipykernel_42409/3363803252.py\u001b[0m in \u001b[0;36m<module>\u001b[0;34m\u001b[0m\n\u001b[1;32m      4\u001b[0m \u001b[0;32mwhile\u001b[0m \u001b[0mbitf\u001b[0m \u001b[0;34m<\u001b[0m \u001b[0mlen\u001b[0m\u001b[0;34m(\u001b[0m\u001b[0m_input_bin\u001b[0m\u001b[0;34m)\u001b[0m\u001b[0;34m-\u001b[0m\u001b[0;36m1\u001b[0m\u001b[0;34m:\u001b[0m\u001b[0;34m\u001b[0m\u001b[0;34m\u001b[0m\u001b[0m\n\u001b[1;32m      5\u001b[0m \u001b[0;34m\u001b[0m\u001b[0m\n\u001b[0;32m----> 6\u001b[0;31m     \u001b[0mbitf\u001b[0m \u001b[0;34m=\u001b[0m \u001b[0mnext_packet\u001b[0m\u001b[0;34m(\u001b[0m\u001b[0mbitf\u001b[0m\u001b[0;34m,\u001b[0m \u001b[0mversions\u001b[0m\u001b[0;34m,\u001b[0m \u001b[0m_input_bin\u001b[0m\u001b[0;34m,\u001b[0m \u001b[0;32mFalse\u001b[0m\u001b[0;34m)\u001b[0m\u001b[0;34m\u001b[0m\u001b[0;34m\u001b[0m\u001b[0m\n\u001b[0m\u001b[1;32m      7\u001b[0m \u001b[0;34m\u001b[0m\u001b[0m\n\u001b[1;32m      8\u001b[0m \u001b[0;34m\u001b[0m\u001b[0m\n",
      "\u001b[0;32m/tmp/ipykernel_42409/3656225430.py\u001b[0m in \u001b[0;36mnext_packet\u001b[0;34m(bit0, versions, input_bin, is_subpacket)\u001b[0m\n\u001b[1;32m     52\u001b[0m \u001b[0;34m\u001b[0m\u001b[0m\n\u001b[1;32m     53\u001b[0m             \u001b[0;32mfor\u001b[0m \u001b[0msp\u001b[0m \u001b[0;32min\u001b[0m \u001b[0mrange\u001b[0m\u001b[0;34m(\u001b[0m\u001b[0mnum_subpackets\u001b[0m\u001b[0;34m)\u001b[0m\u001b[0;34m:\u001b[0m\u001b[0;34m\u001b[0m\u001b[0;34m\u001b[0m\u001b[0m\n\u001b[0;32m---> 54\u001b[0;31m                 \u001b[0msub_bitf\u001b[0m \u001b[0;34m=\u001b[0m \u001b[0mnext_packet\u001b[0m\u001b[0;34m(\u001b[0m\u001b[0msub_bit0\u001b[0m\u001b[0;34m,\u001b[0m \u001b[0mversions\u001b[0m\u001b[0;34m,\u001b[0m \u001b[0minput_bin\u001b[0m\u001b[0;34m,\u001b[0m \u001b[0;32mTrue\u001b[0m\u001b[0;34m)\u001b[0m\u001b[0;34m\u001b[0m\u001b[0;34m\u001b[0m\u001b[0m\n\u001b[0m\u001b[1;32m     55\u001b[0m                 \u001b[0msub_bit0\u001b[0m \u001b[0;34m=\u001b[0m \u001b[0msub_bitf\u001b[0m\u001b[0;34m\u001b[0m\u001b[0;34m\u001b[0m\u001b[0m\n\u001b[1;32m     56\u001b[0m \u001b[0;34m\u001b[0m\u001b[0m\n",
      "\u001b[0;32m/tmp/ipykernel_42409/3656225430.py\u001b[0m in \u001b[0;36mnext_packet\u001b[0;34m(bit0, versions, input_bin, is_subpacket)\u001b[0m\n\u001b[1;32m     37\u001b[0m             \u001b[0mprint\u001b[0m\u001b[0;34m(\u001b[0m\u001b[0;34m\"start of len\"\u001b[0m\u001b[0;34m,\u001b[0m \u001b[0msubpacket_len\u001b[0m\u001b[0;34m,\u001b[0m \u001b[0;34m\":\"\u001b[0m\u001b[0;34m,\u001b[0m \u001b[0msub_bit0\u001b[0m\u001b[0;34m)\u001b[0m\u001b[0;34m\u001b[0m\u001b[0;34m\u001b[0m\u001b[0m\n\u001b[1;32m     38\u001b[0m             \u001b[0;32mwhile\u001b[0m \u001b[0ml\u001b[0m \u001b[0;34m<\u001b[0m \u001b[0msubpacket_len\u001b[0m\u001b[0;34m:\u001b[0m\u001b[0;34m\u001b[0m\u001b[0;34m\u001b[0m\u001b[0m\n\u001b[0;32m---> 39\u001b[0;31m                 \u001b[0msub_bitf\u001b[0m \u001b[0;34m=\u001b[0m \u001b[0mnext_packet\u001b[0m\u001b[0;34m(\u001b[0m\u001b[0msub_bit0\u001b[0m\u001b[0;34m,\u001b[0m \u001b[0mversions\u001b[0m\u001b[0;34m,\u001b[0m \u001b[0minput_bin\u001b[0m\u001b[0;34m,\u001b[0m \u001b[0;32mTrue\u001b[0m\u001b[0;34m)\u001b[0m\u001b[0;34m\u001b[0m\u001b[0;34m\u001b[0m\u001b[0m\n\u001b[0m\u001b[1;32m     40\u001b[0m                 \u001b[0ml\u001b[0m \u001b[0;34m+=\u001b[0m \u001b[0msub_bitf\u001b[0m \u001b[0;34m-\u001b[0m \u001b[0msub_bit0\u001b[0m\u001b[0;34m\u001b[0m\u001b[0;34m\u001b[0m\u001b[0m\n\u001b[1;32m     41\u001b[0m                 \u001b[0msub_bit0\u001b[0m \u001b[0;34m=\u001b[0m \u001b[0msub_bitf\u001b[0m\u001b[0;34m\u001b[0m\u001b[0;34m\u001b[0m\u001b[0m\n",
      "\u001b[0;32m/tmp/ipykernel_42409/3656225430.py\u001b[0m in \u001b[0;36mnext_packet\u001b[0;34m(bit0, versions, input_bin, is_subpacket)\u001b[0m\n\u001b[1;32m     52\u001b[0m \u001b[0;34m\u001b[0m\u001b[0m\n\u001b[1;32m     53\u001b[0m             \u001b[0;32mfor\u001b[0m \u001b[0msp\u001b[0m \u001b[0;32min\u001b[0m \u001b[0mrange\u001b[0m\u001b[0;34m(\u001b[0m\u001b[0mnum_subpackets\u001b[0m\u001b[0;34m)\u001b[0m\u001b[0;34m:\u001b[0m\u001b[0;34m\u001b[0m\u001b[0;34m\u001b[0m\u001b[0m\n\u001b[0;32m---> 54\u001b[0;31m                 \u001b[0msub_bitf\u001b[0m \u001b[0;34m=\u001b[0m \u001b[0mnext_packet\u001b[0m\u001b[0;34m(\u001b[0m\u001b[0msub_bit0\u001b[0m\u001b[0;34m,\u001b[0m \u001b[0mversions\u001b[0m\u001b[0;34m,\u001b[0m \u001b[0minput_bin\u001b[0m\u001b[0;34m,\u001b[0m \u001b[0;32mTrue\u001b[0m\u001b[0;34m)\u001b[0m\u001b[0;34m\u001b[0m\u001b[0;34m\u001b[0m\u001b[0m\n\u001b[0m\u001b[1;32m     55\u001b[0m                 \u001b[0msub_bit0\u001b[0m \u001b[0;34m=\u001b[0m \u001b[0msub_bitf\u001b[0m\u001b[0;34m\u001b[0m\u001b[0;34m\u001b[0m\u001b[0m\n\u001b[1;32m     56\u001b[0m \u001b[0;34m\u001b[0m\u001b[0m\n",
      "\u001b[0;32m/tmp/ipykernel_42409/3656225430.py\u001b[0m in \u001b[0;36mnext_packet\u001b[0;34m(bit0, versions, input_bin, is_subpacket)\u001b[0m\n\u001b[1;32m      2\u001b[0m \u001b[0;34m\u001b[0m\u001b[0m\n\u001b[1;32m      3\u001b[0m     \u001b[0mprint\u001b[0m\u001b[0;34m(\u001b[0m\u001b[0mbit0\u001b[0m\u001b[0;34m,\u001b[0m \u001b[0minput_bin\u001b[0m\u001b[0;34m[\u001b[0m\u001b[0mbit0\u001b[0m\u001b[0;34m:\u001b[0m\u001b[0;34m(\u001b[0m\u001b[0mbit0\u001b[0m\u001b[0;34m+\u001b[0m\u001b[0;36m3\u001b[0m\u001b[0;34m)\u001b[0m\u001b[0;34m]\u001b[0m\u001b[0;34m)\u001b[0m\u001b[0;34m\u001b[0m\u001b[0;34m\u001b[0m\u001b[0m\n\u001b[0;32m----> 4\u001b[0;31m     \u001b[0mversions\u001b[0m\u001b[0;34m.\u001b[0m\u001b[0mappend\u001b[0m\u001b[0;34m(\u001b[0m\u001b[0mint\u001b[0m\u001b[0;34m(\u001b[0m\u001b[0minput_bin\u001b[0m\u001b[0;34m[\u001b[0m\u001b[0mbit0\u001b[0m\u001b[0;34m:\u001b[0m\u001b[0;34m(\u001b[0m\u001b[0mbit0\u001b[0m\u001b[0;34m+\u001b[0m\u001b[0;36m3\u001b[0m\u001b[0;34m)\u001b[0m\u001b[0;34m]\u001b[0m\u001b[0;34m,\u001b[0m \u001b[0;36m2\u001b[0m\u001b[0;34m)\u001b[0m\u001b[0;34m)\u001b[0m\u001b[0;34m\u001b[0m\u001b[0;34m\u001b[0m\u001b[0m\n\u001b[0m\u001b[1;32m      5\u001b[0m \u001b[0;34m\u001b[0m\u001b[0m\n\u001b[1;32m      6\u001b[0m     \u001b[0;31m# Packet\u001b[0m\u001b[0;34m\u001b[0m\u001b[0;34m\u001b[0m\u001b[0;34m\u001b[0m\u001b[0m\n",
      "\u001b[0;31mValueError\u001b[0m: invalid literal for int() with base 2: ''"
     ]
    }
   ],
   "source": [
    "versions = []\n",
    "bitf = 0\n",
    "\n",
    "while bitf < len(_input_bin)-1:\n",
    "    \n",
    "    bitf = next_packet(bitf, versions, _input_bin, False)\n",
    "            \n",
    "\n",
    "\n",
    "\n"
   ]
  },
  {
   "cell_type": "code",
   "execution_count": null,
   "metadata": {},
   "outputs": [],
   "source": []
  }
 ],
 "metadata": {
  "interpreter": {
   "hash": "b1473e23e2dcfee293aee447f6b42f98e7f1a7fdb26f75602c5f40fe7c2af243"
  },
  "kernelspec": {
   "display_name": "Python 3.8.5 64-bit ('base': conda)",
   "language": "python",
   "name": "python3"
  },
  "language_info": {
   "codemirror_mode": {
    "name": "ipython",
    "version": 3
   },
   "file_extension": ".py",
   "mimetype": "text/x-python",
   "name": "python",
   "nbconvert_exporter": "python",
   "pygments_lexer": "ipython3",
   "version": "3.8.5"
  },
  "orig_nbformat": 4
 },
 "nbformat": 4,
 "nbformat_minor": 2
}
