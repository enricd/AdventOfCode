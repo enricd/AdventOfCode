{
 "cells": [
  {
   "cell_type": "code",
   "execution_count": 2,
   "metadata": {},
   "outputs": [],
   "source": [
    "with open(\"./data_inputs/day14_input.txt\") as f:\n",
    "    input = f.read()\n",
    "\n",
    "input_lines = input.split(\"\\n\")\n",
    "\n",
    "initial_chain = input_lines[0]\n",
    "rules = [l.split(\" -> \") for l in input_lines[2:]]      # [['KK', 'B'], ...]\n",
    "\n",
    "polymers_list = []\n",
    "for r in rules:\n",
    "    if r[1] not in polymers_list:\n",
    "        polymers_list.append(r[1])"
   ]
  },
  {
   "cell_type": "code",
   "execution_count": 4,
   "metadata": {},
   "outputs": [
    {
     "name": "stdout",
     "output_type": "stream",
     "text": [
      "Result1: 3213\n",
      "Result2: 3711743744429\n"
     ]
    }
   ],
   "source": [
    "# Declare dicts for logic and counters\n",
    "rules_dict = {r[0]:[r[0][0]+r[1], r[1]+r[0][1], r[1]] for r in rules}   # rule -> polymer  =>  {rule: [sub_rule1, sub_rule2, polymer]}\n",
    "                                                                        # 'KK' -> 'B'  =>  'KBK'  =>  {'KK': ['KB', 'BK', 'B']}\n",
    "rules_count = {r[0]: 0 for r in rules}        \n",
    "polymer_count = {u: 0 for u in polymers_list}\n",
    "\n",
    "# Initialize counters for the initial state\n",
    "for i in range(len(initial_chain) - 1):\n",
    "    rules_count[initial_chain[i:i+2]] += 1\n",
    "    polymer_count[initial_chain[i]] += 1\n",
    "polymer_count[initial_chain[-1]] += 1\n",
    "\n",
    "# Loop\n",
    "for step in range(40):\n",
    "    next_rules_count = rules_count.copy()\n",
    "    for r, c in rules_count.items():                    # 'KK', 1\n",
    "        next_rules_count[r] -= c                        # 'KK' -= 1\n",
    "        next_rules_count[rules_dict[r][0]] += c         # 'KB' += 1\n",
    "        next_rules_count[rules_dict[r][1]] += c         # 'BK' += 1\n",
    "        polymer_count[rules_dict[r][2]] += c            # 'B' += 1\n",
    "\n",
    "    rules_count = next_rules_count.copy()\n",
    "\n",
    "    if step == 9:\n",
    "        result1 = max(polymer_count.values()) - min(polymer_count.values())\n",
    "\n",
    "# Results\n",
    "result2 = max(polymer_count.values()) - min(polymer_count.values())\n",
    "print(\"Result1:\", result1)\n",
    "print(\"Result2:\", result2)"
   ]
  }
 ],
 "metadata": {
  "interpreter": {
   "hash": "b1473e23e2dcfee293aee447f6b42f98e7f1a7fdb26f75602c5f40fe7c2af243"
  },
  "kernelspec": {
   "display_name": "Python 3.8.5 64-bit ('base': conda)",
   "language": "python",
   "name": "python3"
  },
  "language_info": {
   "codemirror_mode": {
    "name": "ipython",
    "version": 3
   },
   "file_extension": ".py",
   "mimetype": "text/x-python",
   "name": "python",
   "nbconvert_exporter": "python",
   "pygments_lexer": "ipython3",
   "version": "3.8.5"
  },
  "orig_nbformat": 4
 },
 "nbformat": 4,
 "nbformat_minor": 2
}
