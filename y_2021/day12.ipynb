{
 "cells": [
  {
   "cell_type": "code",
   "execution_count": 1,
   "metadata": {},
   "outputs": [],
   "source": [
    "with open(\"./data_inputs/day12_input.txt\") as f:\n",
    "    input = f.read()"
   ]
  },
  {
   "cell_type": "code",
   "execution_count": 20,
   "metadata": {},
   "outputs": [],
   "source": [
    "input = input.replace(\"ln\", \"a\")\n",
    "input = input.replace(\"nr\", \"b\")\n",
    "input = input.replace(\"wy\", \"c\")\n",
    "input = input.replace(\"fl\", \"d\")\n",
    "input = input.replace(\"XI\", \"E\")\n",
    "input = input.replace(\"qc\", \"f\")\n",
    "input = input.replace(\"qq\", \"g\")\n",
    "input = input.replace(\"ZD\", \"H\")\n",
    "input = input.replace(\"YN\", \"I\")"
   ]
  },
  {
   "cell_type": "code",
   "execution_count": 21,
   "metadata": {},
   "outputs": [],
   "source": [
    "edges = [caves.split(\"-\") for caves in input.split(\"\\n\")]"
   ]
  },
  {
   "cell_type": "code",
   "execution_count": 97,
   "metadata": {},
   "outputs": [],
   "source": [
    "nodes = ['start', 'a', 'b', 'c', 'd', 'E', 'f', 'g', 'H', 'I', 'end']"
   ]
  },
  {
   "cell_type": "code",
   "execution_count": 99,
   "metadata": {},
   "outputs": [],
   "source": [
    "graph = {node: [] for node in nodes}\n",
    "\n",
    "for e in edges:\n",
    "    graph[e[0]].append(e[1])\n",
    "    graph[e[1]].append(e[0])\n",
    "    "
   ]
  },
  {
   "cell_type": "code",
   "execution_count": 102,
   "metadata": {},
   "outputs": [
    {
     "data": {
      "text/plain": [
       "{'start': ['f', 'I', 'g'],\n",
       " 'a': ['b', 'c', 'f', 'g', 'E', 'I'],\n",
       " 'b': ['a', 'H', 'E', 'f', 'end'],\n",
       " 'c': ['a', 'g', 'E', 'end'],\n",
       " 'd': ['E'],\n",
       " 'E': ['d', 'c', 'a', 'g', 'b', 'end'],\n",
       " 'f': ['start', 'a', 'I', 'g', 'b'],\n",
       " 'g': ['c', 'a', 'E', 'start', 'f', 'I'],\n",
       " 'H': ['b'],\n",
       " 'I': ['f', 'start', 'g', 'a'],\n",
       " 'end': ['E', 'c', 'b']}"
      ]
     },
     "execution_count": 102,
     "metadata": {},
     "output_type": "execute_result"
    }
   ],
   "source": [
    "graph"
   ]
  },
  {
   "cell_type": "code",
   "execution_count": 115,
   "metadata": {},
   "outputs": [
    {
     "name": "stdout",
     "output_type": "stream",
     "text": [
      "Result1: 4773\n"
     ]
    }
   ],
   "source": [
    "# ----- PART 1 -----\n",
    "\n",
    "def next_node(node, path, all_paths):\n",
    "    new_path = path.copy()\n",
    "    new_path.append(node)\n",
    "\n",
    "    for adj in graph[node]:\n",
    "        if (adj in new_path) and (not adj.isupper()):\n",
    "            continue\n",
    "        \n",
    "        else:\n",
    "            if adj == \"end\":\n",
    "                new_path.append(adj)\n",
    "                all_paths.append(new_path)\n",
    "            else:\n",
    "                next_node(adj, new_path, all_paths)\n",
    "\n",
    "\n",
    "all_paths = []\n",
    "\n",
    "for adj in graph['start']:\n",
    "    path = ['start']\n",
    "    next_node(adj, path, all_paths)\n",
    "\n",
    "print(\"Result1:\", len(all_paths))"
   ]
  },
  {
   "cell_type": "code",
   "execution_count": 127,
   "metadata": {},
   "outputs": [
    {
     "name": "stdout",
     "output_type": "stream",
     "text": [
      "Result2: 116985\n"
     ]
    }
   ],
   "source": [
    "# ----- PART 2 -----\n",
    "\n",
    "small_caves = [None, 'a', 'b', 'c', 'd', 'f', 'g']\n",
    "\n",
    "def next_node(node, path, all_paths, cave):\n",
    "    new_path = path.copy()\n",
    "    new_path.append(node)\n",
    "\n",
    "    for adj in graph[node]:\n",
    "        if ((adj in new_path) and (not adj.isupper()) and (adj != cave)) or (adj == cave and new_path.count(cave) > 1):\n",
    "            continue\n",
    "        \n",
    "        else:\n",
    "            if adj == \"end\":\n",
    "                new_path.append(adj)\n",
    "                if cave == None: \n",
    "                    all_paths.append(new_path)\n",
    "                elif new_path.count(cave) == 2:\n",
    "                    all_paths.append(new_path)\n",
    "            else:\n",
    "                next_node(adj, new_path, all_paths, cave)\n",
    "\n",
    "\n",
    "all_paths = []\n",
    "\n",
    "for cave in small_caves:\n",
    "    for adj in graph['start']:\n",
    "        path = ['start']\n",
    "        next_node(adj, path, all_paths, cave)\n",
    "\n",
    "print(\"Result2:\", len(all_paths))"
   ]
  }
 ],
 "metadata": {
  "interpreter": {
   "hash": "f9f85f796d01129d0dd105a088854619f454435301f6ffec2fea96ecbd9be4ac"
  },
  "kernelspec": {
   "display_name": "Python 3.9.5 64-bit",
   "language": "python",
   "name": "python3"
  },
  "language_info": {
   "codemirror_mode": {
    "name": "ipython",
    "version": 3
   },
   "file_extension": ".py",
   "mimetype": "text/x-python",
   "name": "python",
   "nbconvert_exporter": "python",
   "pygments_lexer": "ipython3",
   "version": "3.8.5"
  },
  "orig_nbformat": 4
 },
 "nbformat": 4,
 "nbformat_minor": 2
}
