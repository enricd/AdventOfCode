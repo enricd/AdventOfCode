{
 "cells": [
  {
   "cell_type": "code",
   "execution_count": 1,
   "metadata": {},
   "outputs": [],
   "source": [
    "from functools import reduce\n",
    "import numpy as np\n",
    "import json\n",
    "from tqdm import tqdm"
   ]
  },
  {
   "cell_type": "code",
   "execution_count": 2,
   "metadata": {},
   "outputs": [],
   "source": [
    "with open(\"./data_inputs/day18_input.txt\") as f:\n",
    "    input = f.read().split(\"\\n\")"
   ]
  },
  {
   "cell_type": "code",
   "execution_count": 3,
   "metadata": {},
   "outputs": [],
   "source": [
    "input = [json.loads(line) for line in input]"
   ]
  },
  {
   "cell_type": "code",
   "execution_count": 4,
   "metadata": {},
   "outputs": [],
   "source": [
    "def pair_2_leafs(pair):\n",
    "    \n",
    "    def _recursive_pair_2_leafs(pair, level):\n",
    "        if isinstance(pair[0], list):\n",
    "            _recursive_pair_2_leafs(pair[0], level+1)\n",
    "        else:\n",
    "            leafs.append([level, pair[0]])\n",
    "\n",
    "        if isinstance(pair[1], list):\n",
    "            _recursive_pair_2_leafs(pair[1], level+1)\n",
    "        else:\n",
    "            leafs.append([level, pair[1]])\n",
    "\n",
    "    leafs = []\n",
    "    _recursive_pair_2_leafs(pair, 0)\n",
    "    return leafs"
   ]
  },
  {
   "cell_type": "code",
   "execution_count": 5,
   "metadata": {},
   "outputs": [],
   "source": [
    "def leafs_2_pair(leafs):\n",
    "    depth = max(leafs, key=lambda x: x[0])[0]\n",
    "    pair = leafs.copy()\n",
    "    for l in range(depth, -1, -1):   # level\n",
    "        pair_copy = []\n",
    "        pair_appended = False\n",
    "        for i, p in enumerate(pair):\n",
    "            if pair_appended:\n",
    "                pair_appended = False\n",
    "                continue\n",
    "\n",
    "            if p[0] == l:\n",
    "                pair_copy.append([l-1, [pair[i][1], pair[i+1][1]]])\n",
    "                pair_appended = True\n",
    "            else:\n",
    "                pair_copy.append(p)\n",
    "\n",
    "        pair = pair_copy.copy()\n",
    "        #print(\"level:\", l, pair)\n",
    "    \n",
    "    return pair[0][1]"
   ]
  },
  {
   "cell_type": "code",
   "execution_count": 6,
   "metadata": {},
   "outputs": [],
   "source": [
    "def leafs_explode(leafs):\n",
    "    il4 = None\n",
    "    for i, l in enumerate(leafs):\n",
    "        if l[0] == 4:\n",
    "            il4 = i\n",
    "            break\n",
    "    \n",
    "    if il4 != None:\n",
    "        if il4 > 0:\n",
    "            leafs[il4-1][1] += leafs[il4][1]\n",
    "        \n",
    "        leafs[il4] = [3, 0]\n",
    "\n",
    "        if (il4 + 1) < (len(leafs) - 1):\n",
    "            leafs[il4+2][1] += leafs[il4+1][1]\n",
    "        \n",
    "        leafs.pop(il4+1)\n",
    "\n",
    "        leafs_explode(leafs)\n",
    "\n",
    "    else:\n",
    "        return None"
   ]
  },
  {
   "cell_type": "code",
   "execution_count": 7,
   "metadata": {},
   "outputs": [],
   "source": [
    "def leafs_split(leafs):\n",
    "    for i, l in enumerate(leafs):\n",
    "        if l[1] > 9:\n",
    "            new_leaf = [[l[0]+1, l[1]//2], [l[0]+1, int(l[1]/2 + 0.5)]]\n",
    "            leafs[i] = new_leaf[0]\n",
    "            leafs.insert(i+1, new_leaf[1])\n",
    "            break\n"
   ]
  },
  {
   "cell_type": "code",
   "execution_count": 8,
   "metadata": {},
   "outputs": [],
   "source": [
    "def reduce_pair(pair):\n",
    "    leafs = pair_2_leafs(pair)\n",
    "\n",
    "    #print(pair, \"-->\", leafs)\n",
    "    i = 0\n",
    "    while((max(leafs, key=lambda x: x[0])[0] == 4) or (max(leafs, key=lambda x: x[1])[1] > 9)):\n",
    "        leafs_explode(leafs)\n",
    "        #print(leafs_2_pair(leafs))\n",
    "        leafs_split(leafs)\n",
    "        #print(leafs_2_pair(leafs),\"\\n\")\n",
    "        i += 1\n",
    "        if i > 1000:\n",
    "            print(\"while break i > 1000\")\n",
    "            break\n",
    "\n",
    "    return leafs_2_pair(leafs)"
   ]
  },
  {
   "cell_type": "code",
   "execution_count": 9,
   "metadata": {},
   "outputs": [],
   "source": [
    "def pair_2_leafs_2_magnitude(pair):\n",
    "    leafs = pair_2_leafs(pair)\n",
    "    depth = max(leafs, key=lambda x: x[0])[0]\n",
    "    pair = leafs.copy()\n",
    "    for l in range(depth, -1, -1):   # level\n",
    "        pair_copy = []\n",
    "        pair_appended = False\n",
    "        for i, p in enumerate(pair):\n",
    "            if pair_appended:\n",
    "                pair_appended = False\n",
    "                continue\n",
    "\n",
    "            if p[0] == l:\n",
    "                pair_copy.append([l-1, pair[i][1]*3 + pair[i+1][1]*2])\n",
    "                pair_appended = True\n",
    "            else:\n",
    "                pair_copy.append(p)\n",
    "\n",
    "        pair = pair_copy.copy()\n",
    "        #print(\"level:\", l, pair)\n",
    "    \n",
    "    return pair[0][1]"
   ]
  },
  {
   "cell_type": "code",
   "execution_count": 10,
   "metadata": {},
   "outputs": [
    {
     "name": "stdout",
     "output_type": "stream",
     "text": [
      "Result1: 3892\n"
     ]
    }
   ],
   "source": [
    "# ----- PART 1 -----\n",
    "\n",
    "sum_res = reduce(lambda x, y: reduce_pair([x, y]), input)\n",
    "magnitude = pair_2_leafs_2_magnitude(sum_res)\n",
    "\n",
    "print(\"Result1:\", magnitude)"
   ]
  },
  {
   "cell_type": "code",
   "execution_count": 11,
   "metadata": {},
   "outputs": [
    {
     "name": "stderr",
     "output_type": "stream",
     "text": [
      "100%|██████████| 100/100 [00:01<00:00, 80.50it/s]"
     ]
    },
    {
     "name": "stdout",
     "output_type": "stream",
     "text": [
      "Result2: 4909\n"
     ]
    },
    {
     "name": "stderr",
     "output_type": "stream",
     "text": [
      "\n"
     ]
    }
   ],
   "source": [
    "# ----- PART 2 -----\n",
    "\n",
    "max_magnitude = 0\n",
    "\n",
    "for num in tqdm(input):\n",
    "    for other_num in input:\n",
    "        if other_num == num:\n",
    "            continue\n",
    "        magnitude = pair_2_leafs_2_magnitude(reduce_pair([num, other_num]))\n",
    "        if magnitude > max_magnitude:\n",
    "            max_magnitude = magnitude\n",
    "\n",
    "print(\"Result2:\", max_magnitude)\n"
   ]
  }
 ],
 "metadata": {
  "interpreter": {
   "hash": "b1473e23e2dcfee293aee447f6b42f98e7f1a7fdb26f75602c5f40fe7c2af243"
  },
  "kernelspec": {
   "display_name": "Python 3.8.5 64-bit ('base': conda)",
   "language": "python",
   "name": "python3"
  },
  "language_info": {
   "codemirror_mode": {
    "name": "ipython",
    "version": 3
   },
   "file_extension": ".py",
   "mimetype": "text/x-python",
   "name": "python",
   "nbconvert_exporter": "python",
   "pygments_lexer": "ipython3",
   "version": "3.8.5"
  },
  "orig_nbformat": 4
 },
 "nbformat": 4,
 "nbformat_minor": 2
}
