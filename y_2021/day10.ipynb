{
 "cells": [
  {
   "cell_type": "code",
   "execution_count": 3,
   "metadata": {},
   "outputs": [],
   "source": [
    "with open(\"./data_inputs/day10_input.txt\") as f:\n",
    "    input = f.read()"
   ]
  },
  {
   "cell_type": "code",
   "execution_count": 4,
   "metadata": {},
   "outputs": [
    {
     "name": "stdout",
     "output_type": "stream",
     "text": [
      "102\n"
     ]
    }
   ],
   "source": [
    "data = input.split(\"\\n\")\n",
    "print(len(data))"
   ]
  },
  {
   "cell_type": "code",
   "execution_count": 5,
   "metadata": {},
   "outputs": [],
   "source": [
    "OPENING_CHARS = ['(', '[', '{', '<']\n",
    "\n",
    "CLOSING_CHARS = [')', ']', '}', '>']\n",
    "\n",
    "CHAR_PAIRS = {CLOSING_CHARS[i]: OPENING_CHARS[i]  for i in range(len(OPENING_CHARS))}\n",
    "\n",
    "FAILED_CHAR_POINTS = {')': 3, ']': 57, '}': 1197, '>': 25137}"
   ]
  },
  {
   "cell_type": "code",
   "execution_count": 14,
   "metadata": {},
   "outputs": [],
   "source": [
    "# ----- PART 1 -----\n",
    "\n",
    "failed_closing_chars = []\n",
    "failed_lines = []\n",
    "\n",
    "for i, l in enumerate(data):\n",
    "    open_chars_queue = []\n",
    "    for char in l:\n",
    "        if char in OPENING_CHARS:\n",
    "            open_chars_queue.append(char)\n",
    "        elif char in CLOSING_CHARS:\n",
    "            if not open_chars_queue:\n",
    "                print(\"Error: closing char without opening char\")\n",
    "                exit()\n",
    "            elif open_chars_queue[-1] == CHAR_PAIRS[char]:\n",
    "                open_chars_queue.pop()\n",
    "            else:\n",
    "                #print(\"Failed closing char:\", char)\n",
    "                failed_closing_chars.append(char)\n",
    "                failed_lines.append(i)\n",
    "                break\n",
    "    \n"
   ]
  },
  {
   "cell_type": "code",
   "execution_count": 15,
   "metadata": {},
   "outputs": [
    {
     "name": "stdout",
     "output_type": "stream",
     "text": [
      "Result1: 339537 points\n"
     ]
    }
   ],
   "source": [
    "points = 0\n",
    "\n",
    "for char in failed_closing_chars:\n",
    "    points += FAILED_CHAR_POINTS[char]\n",
    "\n",
    "print(\"Result1:\", points, \"points\")\n"
   ]
  },
  {
   "cell_type": "code",
   "execution_count": 8,
   "metadata": {},
   "outputs": [],
   "source": [
    "# ----- PART 2 -----\n",
    "\n",
    "incomplete_lines = [l for l in range(len(data)) if l not in failed_lines]\n",
    "incomplete_data = [l for i, l in enumerate(data) if i in incomplete_lines]"
   ]
  },
  {
   "cell_type": "code",
   "execution_count": 16,
   "metadata": {},
   "outputs": [],
   "source": [
    "unclosed_open_chars = []\n",
    "\n",
    "for i, l in enumerate(incomplete_data):\n",
    "    open_chars_queue = []\n",
    "    for char in l:\n",
    "        if char in OPENING_CHARS:\n",
    "            open_chars_queue.append(char)\n",
    "        elif char in CLOSING_CHARS:\n",
    "            if not open_chars_queue:\n",
    "                print(\"Error: closing char without opening char\")\n",
    "                exit()\n",
    "            elif open_chars_queue[-1] == CHAR_PAIRS[char]:\n",
    "                open_chars_queue.pop()\n",
    "            else:\n",
    "                print(\"Failed closing char:\", char)\n",
    "                exit()\n",
    "\n",
    "    unclosed_open_chars.append(open_chars_queue)\n",
    "                "
   ]
  },
  {
   "cell_type": "code",
   "execution_count": 31,
   "metadata": {},
   "outputs": [],
   "source": [
    "UNCLOSED_CHAR_POINTS = {'(': 1, '[': 2, '{': 3, '<': 4}\n",
    "\n",
    "unclosed_points = []\n",
    "\n",
    "for l in unclosed_open_chars:\n",
    "    l.reverse()\n",
    "    line_points = 0\n",
    "    for char in l:\n",
    "        line_points *= 5\n",
    "        line_points += UNCLOSED_CHAR_POINTS[char]\n",
    "    \n",
    "    unclosed_points.append(line_points)"
   ]
  },
  {
   "cell_type": "code",
   "execution_count": 32,
   "metadata": {},
   "outputs": [
    {
     "name": "stdout",
     "output_type": "stream",
     "text": [
      "Result2: 2412013412\n"
     ]
    }
   ],
   "source": [
    "unclosed_points.sort()\n",
    "result2 = unclosed_points[int(len(unclosed_points) / 2)]\n",
    "\n",
    "print(\"Result2:\", result2)"
   ]
  }
 ],
 "metadata": {
  "interpreter": {
   "hash": "b1473e23e2dcfee293aee447f6b42f98e7f1a7fdb26f75602c5f40fe7c2af243"
  },
  "kernelspec": {
   "display_name": "Python 3.8.5 64-bit ('base': conda)",
   "language": "python",
   "name": "python3"
  },
  "language_info": {
   "codemirror_mode": {
    "name": "ipython",
    "version": 3
   },
   "file_extension": ".py",
   "mimetype": "text/x-python",
   "name": "python",
   "nbconvert_exporter": "python",
   "pygments_lexer": "ipython3",
   "version": "3.8.5"
  },
  "orig_nbformat": 4
 },
 "nbformat": 4,
 "nbformat_minor": 2
}
