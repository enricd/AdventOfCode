{
 "cells": [
  {
   "cell_type": "code",
   "execution_count": 111,
   "metadata": {},
   "outputs": [],
   "source": [
    "import numpy as np"
   ]
  },
  {
   "cell_type": "code",
   "execution_count": 112,
   "metadata": {},
   "outputs": [],
   "source": [
    "with open(\"./data_inputs/day13_input.txt\") as f:\n",
    "    input = f.read()"
   ]
  },
  {
   "cell_type": "code",
   "execution_count": 113,
   "metadata": {},
   "outputs": [],
   "source": [
    "input_list = input.split(\"\\n\")\n",
    "dots = [l.split(\",\") for l in input_list[:-13]]\n",
    "dots = np.array([[int(d[0]), int(d[1])] for d in dots])\n",
    "folds = [l[11:].split(\"=\") for l in input_list[-12:]]\n",
    "folds = [[f[0], int(f[1])] for f in folds]"
   ]
  },
  {
   "cell_type": "code",
   "execution_count": 114,
   "metadata": {},
   "outputs": [],
   "source": [
    "dots_map = np.zeros((1311, 895), dtype=np.uint8)\n",
    "dots_map[dots[:, 0], dots[: ,1]] = 1"
   ]
  },
  {
   "cell_type": "code",
   "execution_count": 115,
   "metadata": {},
   "outputs": [],
   "source": [
    "def fold(dots_map, _fold):\n",
    "    if _fold[0] == 'x':\n",
    "        return dots_map[:_fold[1], :] + np.flipud(dots_map[(_fold[1] + 1):, :])\n",
    "    if _fold[0] == 'y':\n",
    "        return dots_map[:, :_fold[1]] + np.fliplr(dots_map[:, (_fold[1] + 1):])"
   ]
  },
  {
   "cell_type": "code",
   "execution_count": 116,
   "metadata": {},
   "outputs": [
    {
     "name": "stdout",
     "output_type": "stream",
     "text": [
      "Result1: 729\n"
     ]
    }
   ],
   "source": [
    "# ----- PART 1 -----\n",
    "\n",
    "folded_map0 = fold(dots_map, folds[0])\n",
    "\n",
    "print(\"Result1:\", np.sum(folded_map0 > 0))"
   ]
  },
  {
   "cell_type": "code",
   "execution_count": 117,
   "metadata": {},
   "outputs": [],
   "source": [
    "# ----- PART 2 -----\n",
    "\n",
    "folded_map = dots_map.copy()\n",
    "\n",
    "for _fold in folds:\n",
    "    folded_map = fold(folded_map, _fold)\n",
    "    "
   ]
  },
  {
   "cell_type": "code",
   "execution_count": 118,
   "metadata": {},
   "outputs": [],
   "source": [
    "folded_map1 = folded_map > 0\n",
    "folded_map_rot = np.fliplr(np.rot90(folded_map1, 3))"
   ]
  },
  {
   "cell_type": "code",
   "execution_count": 119,
   "metadata": {},
   "outputs": [],
   "source": [
    "%matplotlib inline\n",
    "from matplotlib import pyplot as plt"
   ]
  },
  {
   "cell_type": "code",
   "execution_count": 121,
   "metadata": {},
   "outputs": [
    {
     "data": {
      "image/png": "[encoded data removed]",
      "text/plain": [
       "<Figure size 720x720 with 1 Axes>"
      ]
     },
     "metadata": {
      "needs_background": "light"
     },
     "output_type": "display_data"
    }
   ],
   "source": [
    "plt.imshow(folded_map_rot, interpolation=\"nearest\")\n",
    "plt.rcParams[\"figure.figsize\"] = (12,4)\n",
    "plt.show()"
   ]
  }
 ],
 "metadata": {
  "interpreter": {
   "hash": "b1473e23e2dcfee293aee447f6b42f98e7f1a7fdb26f75602c5f40fe7c2af243"
  },
  "kernelspec": {
   "display_name": "Python 3.8.5 64-bit ('base': conda)",
   "language": "python",
   "name": "python3"
  },
  "language_info": {
   "codemirror_mode": {
    "name": "ipython",
    "version": 3
   },
   "file_extension": ".py",
   "mimetype": "text/x-python",
   "name": "python",
   "nbconvert_exporter": "python",
   "pygments_lexer": "ipython3",
   "version": "3.8.5"
  },
  "orig_nbformat": 4
 },
 "nbformat": 4,
 "nbformat_minor": 2
}
