{
 "cells": [
  {
   "cell_type": "code",
   "execution_count": 23,
   "metadata": {},
   "outputs": [],
   "source": [
    "import numpy as np\n",
    "from functools import lru_cache"
   ]
  },
  {
   "cell_type": "code",
   "execution_count": 2,
   "metadata": {},
   "outputs": [],
   "source": [
    "with open(\"./data_inputs/day21_input.txt\") as f:\n",
    "    input = f.read().split(\"\\n\")"
   ]
  },
  {
   "cell_type": "code",
   "execution_count": 3,
   "metadata": {},
   "outputs": [],
   "source": [
    "start = (int(input[0][-1]), int(input[1][-1]))"
   ]
  },
  {
   "cell_type": "code",
   "execution_count": 4,
   "metadata": {},
   "outputs": [],
   "source": [
    "class Dice:\n",
    "    def __init__(self, states):\n",
    "        self.states = list(range(1, states + 1))\n",
    "        self.current = self.states[0]\n",
    "        self.count = 0\n",
    "\n",
    "    def __next__(self):\n",
    "        return_val = self.current\n",
    "        self.current = self.states[(self.states.index(self.current) + 1) % len(self.states)]\n",
    "        self.count += 1\n",
    "        return return_val\n",
    "\n",
    "    def __iter__(self):\n",
    "        return self\n",
    "\n",
    "    def roll_3(self):\n",
    "        return sum([self.__next__() for _ in range(3)])\n"
   ]
  },
  {
   "cell_type": "code",
   "execution_count": 5,
   "metadata": {},
   "outputs": [],
   "source": [
    "class Player:\n",
    "    def __init__(self, player_n, start):\n",
    "        self.n = player_n\n",
    "        self.score = 0\n",
    "        self.position = start\n",
    "        \n",
    "    def roll_dice(self, dice):\n",
    "        dice_points = dice.roll_3()\n",
    "        self.position = (self.position + dice_points) % 10\n",
    "        self.position = self.position if self.position != 0 else 10\n",
    "        self.score += self.position\n",
    "\n",
    "    def win(self):\n",
    "        if self.score >= 1000:\n",
    "            return True\n",
    "        else:\n",
    "            return False"
   ]
  },
  {
   "cell_type": "code",
   "execution_count": 6,
   "metadata": {},
   "outputs": [
    {
     "name": "stdout",
     "output_type": "stream",
     "text": [
      "Result1: 684495\n"
     ]
    }
   ],
   "source": [
    "# ----- PART 1 -----\n",
    "\n",
    "d = Dice(100)\n",
    "p1 = Player(1, start[0])\n",
    "p2 = Player(2, start[1])\n",
    "\n",
    "next_p = 1\n",
    "while not p1.win() and not p2.win():\n",
    "    if next_p == 1:\n",
    "        p1.roll_dice(d)\n",
    "        next_p = 2\n",
    "    else:\n",
    "        p2.roll_dice(d)\n",
    "        next_p = 1\n",
    "\n",
    "if next_p == 1:\n",
    "    print(\"Result1:\", p1.score * d.count)\n",
    "else:\n",
    "    print(\"Result1:\", p2.score * d.count)"
   ]
  },
  {
   "cell_type": "code",
   "execution_count": 62,
   "metadata": {},
   "outputs": [
    {
     "name": "stdout",
     "output_type": "stream",
     "text": [
      "(152587196649184, 138289532619163)\n"
     ]
    }
   ],
   "source": [
    "# ----- PART 2 -----\n",
    "\n",
    "def roll_next(p1_pos, p2_pos, p1_score, p2_score, next_die_roll):\n",
    "    p1_pos = ((p1_pos + next_die_roll - 1) % 10) + 1\n",
    "    p1_score += p1_pos\n",
    "\n",
    "    if p1_score >= 21:\n",
    "        return (1, 0)\n",
    "    \n",
    "    p1_wins = 0\n",
    "    p2_wins = 0\n",
    "    for (roll, freq) in [(3, 1), (4, 3), (5, 6), (6, 7), (7, 6), (8, 3), (9, 1)]:\n",
    "        win2, win1 = roll_next(p2_pos, p1_pos, p2_score, p1_score, roll)\n",
    "        p1_wins += (win1 * freq)\n",
    "        p2_wins += (win2 * freq)\n",
    "\n",
    "    return (p1_wins, p2_wins)\n",
    "\n",
    "print(\"Result2:\", max(roll(1, 7, -1, 0, 0)))"
   ]
  }
 ],
 "metadata": {
  "interpreter": {
   "hash": "b1473e23e2dcfee293aee447f6b42f98e7f1a7fdb26f75602c5f40fe7c2af243"
  },
  "kernelspec": {
   "display_name": "Python 3.8.5 64-bit ('base': conda)",
   "language": "python",
   "name": "python3"
  },
  "language_info": {
   "codemirror_mode": {
    "name": "ipython",
    "version": 3
   },
   "file_extension": ".py",
   "mimetype": "text/x-python",
   "name": "python",
   "nbconvert_exporter": "python",
   "pygments_lexer": "ipython3",
   "version": "3.8.5"
  },
  "orig_nbformat": 4
 },
 "nbformat": 4,
 "nbformat_minor": 2
}
