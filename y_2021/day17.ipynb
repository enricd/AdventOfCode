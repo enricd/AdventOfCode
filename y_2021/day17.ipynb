{
 "cells": [
  {
   "cell_type": "code",
   "execution_count": 1,
   "metadata": {},
   "outputs": [],
   "source": [
    "import numpy as np\n",
    "from functools import reduce\n",
    "%matplotlib inline\n",
    "from matplotlib import pyplot as plt"
   ]
  },
  {
   "cell_type": "code",
   "execution_count": 2,
   "metadata": {},
   "outputs": [],
   "source": [
    "with open(\"./data_inputs/day17_input.txt\") as f:\n",
    "    input = f.read()"
   ]
  },
  {
   "cell_type": "code",
   "execution_count": 3,
   "metadata": {},
   "outputs": [],
   "source": [
    "target_area = [input[15:18], input[27:31], input[20:23], input[33:37]]    # (xmin, ymin, xmax, ymax)\n",
    "target_area = list(map(int, target_area))"
   ]
  },
  {
   "cell_type": "code",
   "execution_count": 4,
   "metadata": {},
   "outputs": [
    {
     "data": {
      "text/plain": [
       "[150, -129, 171, -70]"
      ]
     },
     "execution_count": 4,
     "metadata": {},
     "output_type": "execute_result"
    }
   ],
   "source": [
    "target_area"
   ]
  },
  {
   "cell_type": "code",
   "execution_count": 5,
   "metadata": {},
   "outputs": [],
   "source": [
    "# ----- PART 1 -----\n",
    "\n",
    "def pos_xy(vx0, vy0, its):\n",
    "    px = [vx0]\n",
    "    py = [vy0]\n",
    "\n",
    "    for it in range(its):\n",
    "        if (px[-1] + (vx0 - (it+1))) > 179 or (py[-1] + (vy0 - (it+1))) < -149:      # 179, -149\n",
    "            print(\"break, it:\", it)\n",
    "            break\n",
    "\n",
    "        px.append(px[-1] + (vx0 - (it+1)) if (vx0 - (it+1)) > 0 else px[-1])\n",
    "        py.append(py[-1] + (vy0 - (it+1)))\n",
    "\n",
    "    return list(zip(px, py))\n"
   ]
  },
  {
   "cell_type": "code",
   "execution_count": 10,
   "metadata": {},
   "outputs": [
    {
     "name": "stdout",
     "output_type": "stream",
     "text": [
      "break, it: 23\n"
     ]
    },
    {
     "data": {
      "image/png": "[encoded data removed]",
      "text/plain": [
       "<Figure size 576x864 with 1 Axes>"
      ]
     },
     "metadata": {
      "needs_background": "light"
     },
     "output_type": "display_data"
    }
   ],
   "source": [
    "# Visualizations\n",
    "test_p = pos_xy(17, 6, 600)\n",
    "\n",
    "ocean = np.zeros((250 , 180))   # (y, x)\n",
    "ocean[100, 0] = 1               # Start (0, 0)\n",
    "ocean[abs(target_area[3])+100:abs(target_area[1])+101, target_area[0]:target_area[2]+1] = 2  # Target area\n",
    "\n",
    "for p in test_p:\n",
    "    if p[1] < 100:\n",
    "        ocean[(100-p[1]), p[0]] = 1\n",
    "\n",
    "plt.imshow(ocean)\n",
    "plt.rcParams[\"figure.figsize\"] = (8,12)\n",
    "plt.show()"
   ]
  },
  {
   "cell_type": "code",
   "execution_count": 7,
   "metadata": {},
   "outputs": [
    {
     "name": "stdout",
     "output_type": "stream",
     "text": [
      "Result1: 8256\n"
     ]
    }
   ],
   "source": [
    "result1 = reduce(lambda x, y: x + y, range(abs(target_area[1])))\n",
    "\n",
    "print(\"Result1:\", result1)"
   ]
  },
  {
   "cell_type": "code",
   "execution_count": 8,
   "metadata": {},
   "outputs": [],
   "source": [
    "# ----- PART 2 -----\n",
    "\n",
    "pxs = np.zeros((155, 260))\n",
    "for i, vx0 in enumerate(range(17, 172)):\n",
    "    pxs[i, 0] = vx0\n",
    "    for it in range(259):\n",
    "        px = pxs[i, it] + (vx0 - (it+1)) if (vx0 - (it+1)) > 0 else pxs[i, it]\n",
    "        pxs[i, it+1] = px\n",
    "\n",
    "pys = np.zeros((258, 260))\n",
    "for i, vy0 in enumerate(range(-129, 129)):\n",
    "    pys[i, 0] = vy0\n",
    "    for it in range(259):\n",
    "        py = pys[i, it] + (vy0 - (it+1))\n",
    "        pys[i, it+1] = py\n",
    "\n"
   ]
  },
  {
   "cell_type": "code",
   "execution_count": 9,
   "metadata": {},
   "outputs": [
    {
     "name": "stdout",
     "output_type": "stream",
     "text": [
      "Result2: 2326\n"
     ]
    }
   ],
   "source": [
    "pxs_valid = (150 <= pxs) * (pxs <= 171)\n",
    "pys_valid = (-129 <= pys) * (pys <= -70)\n",
    "\n",
    "result2 = np.sum(np.matmul(pxs_valid, pys_valid.T) == True)\n",
    "\n",
    "print(\"Result2:\", result2)"
   ]
  }
 ],
 "metadata": {
  "interpreter": {
   "hash": "f9f85f796d01129d0dd105a088854619f454435301f6ffec2fea96ecbd9be4ac"
  },
  "kernelspec": {
   "display_name": "Python 3.9.5 64-bit",
   "language": "python",
   "name": "python3"
  },
  "language_info": {
   "codemirror_mode": {
    "name": "ipython",
    "version": 3
   },
   "file_extension": ".py",
   "mimetype": "text/x-python",
   "name": "python",
   "nbconvert_exporter": "python",
   "pygments_lexer": "ipython3",
   "version": "3.8.5"
  },
  "orig_nbformat": 4
 },
 "nbformat": 4,
 "nbformat_minor": 2
}
