{
 "cells": [
  {
   "cell_type": "code",
   "execution_count": 24,
   "metadata": {},
   "outputs": [],
   "source": [
    "import numpy as np"
   ]
  },
  {
   "cell_type": "code",
   "execution_count": 25,
   "metadata": {},
   "outputs": [],
   "source": [
    "with open(\"./data_inputs/day4_input.txt\") as f:\n",
    "    raw_input = f.read()"
   ]
  },
  {
   "cell_type": "code",
   "execution_count": 26,
   "metadata": {},
   "outputs": [],
   "source": [
    "input_semi = raw_input.split(\"\\n\")\n",
    "rnd_list = input_semi[0].split(\",\")\n",
    "rnd_list = list(map(int, rnd_list))"
   ]
  },
  {
   "cell_type": "code",
   "execution_count": 31,
   "metadata": {},
   "outputs": [],
   "source": [
    "boards_1 = [l.replace('  ', ' ') for l in input_semi[2: ]]\n",
    "boards_2 = [l.strip() for l in boards_1]\n",
    "boards_3 = [l.split(\" \") for l in boards_2]\n",
    "\n",
    "boards = []\n",
    "for i in range(100):\n",
    "    boards.append(boards_3[i*6:i*6+5])\n",
    "\n",
    "boards = [[list(map(int, l)) for l in b] for b in boards]\n",
    "boards_arr = np.array(boards)"
   ]
  },
  {
   "cell_type": "code",
   "execution_count": 22,
   "metadata": {},
   "outputs": [
    {
     "name": "stdout",
     "output_type": "stream",
     "text": [
      "Found! \n",
      "n_list: [1, 76, 38, 96, 62, 41, 27, 33, 4, 2, 94, 15, 89, 25, 66, 14, 30, 0, 71, 21, 48, 44, 87, 73, 60, 50, 77, 45, 29, 18, 5] \n",
      "board.T: [[14 68 75 81 88]\n",
      " [91 29  0 47 92]\n",
      " [37 34 67 58 42]\n",
      " [ 5 76 33 30 77]\n",
      " [98 43 69 93 54]] \n",
      "line: [ 5 76 33 30 77]\n"
     ]
    }
   ],
   "source": [
    "# ----- Part 1 -----\n",
    "\n",
    "i = 0\n",
    "c = None\n",
    "b = None\n",
    "l = None\n",
    "\n",
    "while c == None and i < len(rnd_list)+1:\n",
    "\n",
    "    n_list = rnd_list[:i]\n",
    "\n",
    "    for board in boards_arr:\n",
    "        for line in board:\n",
    "            if all([num in n_list for num in line]):\n",
    "                c = i\n",
    "                b = board\n",
    "                l = line\n",
    "                print(\"Found! \\nn_list:\", n_list, \"\\nboard:\", board.T, \"\\nline:\", line)\n",
    "                break\n",
    "\n",
    "        for line in board.T:\n",
    "            if all([num in n_list for num in line]):\n",
    "                c = i\n",
    "                b = board\n",
    "                l = line\n",
    "                print(\"Found! \\nn_list:\", n_list, \"\\nboard.T:\", board.T, \"\\nline:\", line)\n",
    "                break\n",
    "\n",
    "        if c:\n",
    "            break\n",
    "\n",
    "    i += 1\n",
    "\n",
    "\n",
    "\n",
    "\n",
    "    "
   ]
  },
  {
   "cell_type": "code",
   "execution_count": 23,
   "metadata": {},
   "outputs": [
    {
     "data": {
      "text/plain": [
       "5"
      ]
     },
     "execution_count": 23,
     "metadata": {},
     "output_type": "execute_result"
    }
   ],
   "source": [
    "rnd_list[30]"
   ]
  },
  {
   "cell_type": "code",
   "execution_count": 24,
   "metadata": {},
   "outputs": [],
   "source": [
    "b_1 = b.T[[0,1,2,4]]"
   ]
  },
  {
   "cell_type": "code",
   "execution_count": 25,
   "metadata": {},
   "outputs": [],
   "source": [
    "b_2 = b_1.reshape((-1))"
   ]
  },
  {
   "cell_type": "code",
   "execution_count": 26,
   "metadata": {},
   "outputs": [
    {
     "data": {
      "text/plain": [
       "[False,\n",
       " True,\n",
       " True,\n",
       " True,\n",
       " True,\n",
       " True,\n",
       " False,\n",
       " False,\n",
       " True,\n",
       " True,\n",
       " True,\n",
       " True,\n",
       " True,\n",
       " True,\n",
       " True,\n",
       " True,\n",
       " True,\n",
       " True,\n",
       " True,\n",
       " True]"
      ]
     },
     "execution_count": 26,
     "metadata": {},
     "output_type": "execute_result"
    }
   ],
   "source": [
    "b_is = [num not in n_list for num in b_2]\n",
    "b_is"
   ]
  },
  {
   "cell_type": "code",
   "execution_count": 27,
   "metadata": {},
   "outputs": [
    {
     "data": {
      "text/plain": [
       "array([14, 68, 75, 81, 88, 91, 29,  0, 47, 92, 37, 34, 67, 58, 42, 98, 43,\n",
       "       69, 93, 54])"
      ]
     },
     "execution_count": 27,
     "metadata": {},
     "output_type": "execute_result"
    }
   ],
   "source": [
    "b_2"
   ]
  },
  {
   "cell_type": "code",
   "execution_count": 28,
   "metadata": {},
   "outputs": [
    {
     "data": {
      "text/plain": [
       "5685"
      ]
     },
     "execution_count": 28,
     "metadata": {},
     "output_type": "execute_result"
    }
   ],
   "source": [
    "sum(b_2[b_is]) * 5"
   ]
  },
  {
   "cell_type": "code",
   "execution_count": 29,
   "metadata": {},
   "outputs": [
    {
     "data": {
      "text/plain": [
       "5900"
      ]
     },
     "execution_count": 29,
     "metadata": {},
     "output_type": "execute_result"
    }
   ],
   "source": [
    "sum(sum(b.T[[0,1,2,4]])) * 5"
   ]
  },
  {
   "cell_type": "code",
   "execution_count": 30,
   "metadata": {},
   "outputs": [
    {
     "name": "stdout",
     "output_type": "stream",
     "text": [
      "Found! \n",
      "n_list: [1, 76, 38, 96, 62, 41, 27, 33, 4, 2, 94, 15, 89, 25, 66, 14, 30, 0, 71, 21, 48, 44, 87, 73, 60, 50, 77, 45, 29, 18, 5, 99, 65, 16, 93, 95, 37, 3, 52, 32, 46, 80, 98, 63, 92, 24, 35, 55, 12, 81, 51, 17, 70, 78, 61, 91, 54, 8, 72, 40, 74, 68, 75, 67, 39, 64, 10, 53, 9, 31, 6, 7, 47, 42, 90, 20, 19, 36, 22, 43, 58, 28, 79, 86, 57, 49] \n",
      "board.T: [[10 88 60 55 97]\n",
      " [43 12 67 45 49]\n",
      " [83 38 59 74 65]\n",
      " [75 30 76 34 96]\n",
      " [ 8  9  6 25 69]] \n",
      "line: [43 12 67 45 49]\n"
     ]
    }
   ],
   "source": [
    "# ----- Part 2 -----\n",
    "\n",
    "i = 0\n",
    "c = None\n",
    "b = None\n",
    "l = None\n",
    "wb = [0] * len(boards_arr)\n",
    "\n",
    "while not all(wb) and i < len(rnd_list)+1:\n",
    "\n",
    "    n_list = rnd_list[:i]\n",
    "\n",
    "    for j, board in enumerate(boards_arr):\n",
    "        if wb[j]:\n",
    "            continue\n",
    "        for line in board:\n",
    "            if all([num in n_list for num in line]):\n",
    "                wb[j] = 1\n",
    "                c = i\n",
    "                b = board\n",
    "                l = line\n",
    "                if all(wb):\n",
    "                    print(\"Found! \\nn_list:\", n_list, \"\\nboard:\", board.T, \"\\nline:\", line)\n",
    "                break\n",
    "\n",
    "        for line in board.T:\n",
    "            if all([num in n_list for num in line]):\n",
    "                wb[j] = 1\n",
    "                c = i\n",
    "                b = board\n",
    "                l = line\n",
    "                if all(wb):\n",
    "                    print(\"Found! \\nn_list:\", n_list, \"\\nboard.T:\", board.T, \"\\nline:\", line)\n",
    "                break\n",
    "\n",
    "        if all(wb):\n",
    "            break\n",
    "\n",
    "    i += 1\n",
    "\n"
   ]
  },
  {
   "cell_type": "code",
   "execution_count": 31,
   "metadata": {},
   "outputs": [
    {
     "data": {
      "text/plain": [
       "49"
      ]
     },
     "execution_count": 31,
     "metadata": {},
     "output_type": "execute_result"
    }
   ],
   "source": [
    "n_list[-1]"
   ]
  },
  {
   "cell_type": "code",
   "execution_count": 32,
   "metadata": {},
   "outputs": [
    {
     "data": {
      "text/plain": [
       "100"
      ]
     },
     "execution_count": 32,
     "metadata": {},
     "output_type": "execute_result"
    }
   ],
   "source": [
    "sum(wb)"
   ]
  },
  {
   "cell_type": "code",
   "execution_count": 34,
   "metadata": {},
   "outputs": [
    {
     "name": "stdout",
     "output_type": "stream",
     "text": [
      "[10 88 60 55 97 83 38 59 74 65 75 30 76 34 96  8  9  6 25 69]\n",
      "[False, True, False, False, True, True, False, True, False, False, False, False, False, True, False, False, False, False, False, True]\n",
      "430\n",
      "Result: 21070\n"
     ]
    }
   ],
   "source": [
    "b_1 = b.T[[0,2,3,4]].reshape(-1)\n",
    "print(b_1)\n",
    "b_is = [num not in n_list for num in b_1]\n",
    "print(b_is)\n",
    "\n",
    "print(sum(b_1[b_is]))\n",
    "print(\"Result:\", sum(b_1[b_is]) * 49)"
   ]
  },
  {
   "cell_type": "code",
   "execution_count": null,
   "metadata": {},
   "outputs": [],
   "source": []
  }
 ],
 "metadata": {
  "interpreter": {
   "hash": "916dbcbb3f70747c44a77c7bcd40155683ae19c65e1c03b4aa3499c5328201f1"
  },
  "kernelspec": {
   "display_name": "Python 3.8.10 64-bit",
   "language": "python",
   "name": "python3"
  },
  "language_info": {
   "codemirror_mode": {
    "name": "ipython",
    "version": 3
   },
   "file_extension": ".py",
   "mimetype": "text/x-python",
   "name": "python",
   "nbconvert_exporter": "python",
   "pygments_lexer": "ipython3",
   "version": "3.8.5"
  },
  "orig_nbformat": 4
 },
 "nbformat": 4,
 "nbformat_minor": 2
}
