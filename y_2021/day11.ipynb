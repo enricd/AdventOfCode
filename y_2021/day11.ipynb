{
 "cells": [
  {
   "cell_type": "code",
   "execution_count": 1,
   "metadata": {},
   "outputs": [
    {
     "name": "stdout",
     "output_type": "stream",
     "text": [
      "Result1: 1773 flashes\n",
      "Result2: Step 494\n"
     ]
    }
   ],
   "source": [
    "import numpy as np\n",
    "\n",
    "with open(\"./data_inputs/day11_input.txt\") as f:\n",
    "    input = f.read()\n",
    "\n",
    "initial_omap = np.array([list(line) for line in input.split(\"\\n\")], dtype=np.uint8) \n",
    "\n",
    "# ----- PART 1 -----\n",
    "omap = np.copy(initial_omap)\n",
    "total_flashes = 0\n",
    "\n",
    "for step in range(10000):\n",
    "    flashes_map = np.zeros(omap.shape, dtype=np.uint8)\n",
    "\n",
    "    omap += 1\n",
    "    while np.any((omap > 9) * (flashes_map == 0)):\n",
    "        flashes_map[flashes_map == 1] = 2\n",
    "        flashes_map[(omap > 9) * (flashes_map == 0)] = 1\n",
    "        x_flashes, y_flashes = np.where(flashes_map == 1)\n",
    "\n",
    "        for x, y in zip(x_flashes, y_flashes):\n",
    "            xmin = x-1 if x > 0 else x\n",
    "            xmax = x+2 if x < omap.shape[0]-1 else x+1\n",
    "            ymin = y-1 if y > 0 else y\n",
    "            ymax = y+2 if y < omap.shape[1]-1 else y+1\n",
    "\n",
    "            omap[xmin : xmax, ymin : ymax] += 1\n",
    "\n",
    "    total_flashes += np.sum(flashes_map > 0)\n",
    "    if step == 99:\n",
    "        print(\"Result1:\", total_flashes, \"flashes\")\n",
    "\n",
    "    # ----- PART 2 -----\n",
    "    if np.all(flashes_map > 0):\n",
    "        print(\"Result2: Step\", step + 1)\n",
    "        break\n",
    "\n",
    "    omap[omap > 9] = 0\n",
    "        "
   ]
  }
 ],
 "metadata": {
  "interpreter": {
   "hash": "b1473e23e2dcfee293aee447f6b42f98e7f1a7fdb26f75602c5f40fe7c2af243"
  },
  "kernelspec": {
   "display_name": "Python 3.8.5 64-bit ('base': conda)",
   "language": "python",
   "name": "python3"
  },
  "language_info": {
   "codemirror_mode": {
    "name": "ipython",
    "version": 3
   },
   "file_extension": ".py",
   "mimetype": "text/x-python",
   "name": "python",
   "nbconvert_exporter": "python",
   "pygments_lexer": "ipython3",
   "version": "3.8.5"
  },
  "orig_nbformat": 4
 },
 "nbformat": 4,
 "nbformat_minor": 2
}
