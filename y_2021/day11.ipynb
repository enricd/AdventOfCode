{
 "cells": [
  {
   "cell_type": "code",
   "execution_count": 1,
   "metadata": {},
   "outputs": [],
   "source": [
    "import numpy as np"
   ]
  },
  {
   "cell_type": "code",
   "execution_count": 13,
   "metadata": {},
   "outputs": [],
   "source": [
    "with open(\"./data_inputs/day11_input.txt\") as f:\n",
    "    input = f.read()"
   ]
  },
  {
   "cell_type": "code",
   "execution_count": 50,
   "metadata": {},
   "outputs": [],
   "source": [
    "initial_omap = np.array([list(line) for line in input.split(\"\\n\")], dtype=np.uint8) "
   ]
  },
  {
   "cell_type": "code",
   "execution_count": 76,
   "metadata": {},
   "outputs": [
    {
     "name": "stdout",
     "output_type": "stream",
     "text": [
      "Result1: 1773 flashes\n",
      "Result2: Step 494\n"
     ]
    }
   ],
   "source": [
    "# ----- PART 1 -----\n",
    "\n",
    "omap = np.copy(initial_omap)\n",
    "total_flashes = 0\n",
    "\n",
    "for step in range(1000):\n",
    "    step_flashes = 0\n",
    "    new_flashes = np.zeros(omap.shape, dtype=np.uint8)\n",
    "\n",
    "    omap += 1\n",
    "    while np.any((omap > 9) * (new_flashes == 0)):\n",
    "        new_flashes[new_flashes == 1] = 2\n",
    "        new_flashes[(omap > 9) * (new_flashes == 0)] = 1\n",
    "        x_flashes, y_flashes = np.where(new_flashes == 1)\n",
    "\n",
    "        for x, y in zip(x_flashes, y_flashes):\n",
    "            xmin = x-1 if x > 0 else x\n",
    "            xmax = x+2 if x < omap.shape[0]-1 else x+1\n",
    "            ymin = y-1 if y > 0 else y\n",
    "            ymax = y+2 if y < omap.shape[1]-1 else y+1\n",
    "\n",
    "            omap[xmin : xmax, ymin : ymax] += 1\n",
    "        \n",
    "        #print(\"\\nStep:\", step)\n",
    "        #print(omap, new_flashes)\n",
    "\n",
    "    total_flashes += np.sum(new_flashes > 0)\n",
    "    if step == 99:\n",
    "        print(\"Result1:\", total_flashes, \"flashes\")\n",
    "\n",
    "    # ----- PART 2 -----\n",
    "    if np.all(new_flashes > 0):\n",
    "        print(\"Result2: Step\", step + 1)\n",
    "        break\n",
    "\n",
    "    omap[omap > 9] = 0\n",
    "        "
   ]
  }
 ],
 "metadata": {
  "interpreter": {
   "hash": "b1473e23e2dcfee293aee447f6b42f98e7f1a7fdb26f75602c5f40fe7c2af243"
  },
  "kernelspec": {
   "display_name": "Python 3.8.5 64-bit ('base': conda)",
   "language": "python",
   "name": "python3"
  },
  "language_info": {
   "codemirror_mode": {
    "name": "ipython",
    "version": 3
   },
   "file_extension": ".py",
   "mimetype": "text/x-python",
   "name": "python",
   "nbconvert_exporter": "python",
   "pygments_lexer": "ipython3",
   "version": "3.8.5"
  },
  "orig_nbformat": 4
 },
 "nbformat": 4,
 "nbformat_minor": 2
}
