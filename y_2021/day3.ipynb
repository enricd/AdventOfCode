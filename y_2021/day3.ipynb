{
 "cells": [
  {
   "cell_type": "code",
   "execution_count": 1,
   "metadata": {},
   "outputs": [],
   "source": [
    "with open(\"./data_inputs/day3_input.txt\") as f:\n",
    "    input = f.read()"
   ]
  },
  {
   "cell_type": "code",
   "execution_count": 3,
   "metadata": {},
   "outputs": [],
   "source": [
    "input = input.split(\"\\n\")"
   ]
  },
  {
   "cell_type": "code",
   "execution_count": 14,
   "metadata": {},
   "outputs": [
    {
     "name": "stdout",
     "output_type": "stream",
     "text": [
      "gamma: [1, 0, 1, 0, 0, 0, 0, 0, 0, 1, 1, 0]\n",
      "eps: [0, 1, 0, 1, 1, 1, 1, 1, 1, 0, 0, 1]\n"
     ]
    }
   ],
   "source": [
    "gamma = []\n",
    "eps = []\n",
    "\n",
    "for i in range(len(input[0])):\n",
    "    zeros = 0\n",
    "    ones = 0\n",
    "    for inp in input:\n",
    "        if inp[i] == '0':\n",
    "            zeros += 1\n",
    "        elif inp[i] == '1':\n",
    "            ones += 1\n",
    "        else:\n",
    "            print(\"ERROR!!!!!!!\")\n",
    "\n",
    "    if zeros > ones:\n",
    "        gamma.append(0)\n",
    "        eps.append(1)\n",
    "    elif ones > zeros:\n",
    "        gamma.append(1)\n",
    "        eps.append(0)\n",
    "    else:\n",
    "        print(\"zeros == ones\")\n",
    "\n",
    "print(\"gamma:\", gamma)\n",
    "print(\"eps:\", eps)"
   ]
  },
  {
   "cell_type": "code",
   "execution_count": 15,
   "metadata": {},
   "outputs": [
    {
     "data": {
      "text/plain": [
       "3923414"
      ]
     },
     "execution_count": 15,
     "metadata": {},
     "output_type": "execute_result"
    }
   ],
   "source": [
    "g = int('101000000110', 2)\n",
    "e = int('010111111001', 2)\n",
    "g * e"
   ]
  },
  {
   "cell_type": "code",
   "execution_count": 27,
   "metadata": {},
   "outputs": [
    {
     "name": "stdout",
     "output_type": "stream",
     "text": [
      "1\t 506\n",
      "0\t 256\n",
      "1\t 130\n",
      "1\t 76\n",
      "0\t 45\n",
      "1\t 25\n",
      "1\t 14\n",
      "0\t 9\n",
      "0\t 6\n",
      "1\t 3\n",
      "1\t 2\n",
      "1\t 1\n",
      "_input ox: ['101101100111']\n",
      "0\t 494\n",
      "1\t 237\n",
      "1\t 116\n",
      "1\t 55\n",
      "1\t 26\n",
      "1\t 11\n",
      "0\t 5\n",
      "1\t 2\n",
      "0\t 1\n",
      "_input co2: ['011111010101']\n"
     ]
    }
   ],
   "source": [
    "ox = []\n",
    "co2 = []\n",
    "\n",
    "_input = input.copy()\n",
    "\n",
    "for i in range(len(input[0])):\n",
    "    zeros = 0\n",
    "    ones = 0\n",
    "    for inp in _input:\n",
    "        if inp[i] == '0':\n",
    "            zeros += 1\n",
    "        elif inp[i] == '1':\n",
    "            ones += 1\n",
    "        else:\n",
    "            print(\"ERROR!!!!!!!\")\n",
    "\n",
    "        _input.sort()\n",
    "    if zeros > ones:\n",
    "        _input = _input[:zeros]\n",
    "        print(\"0\\t\", len(_input))\n",
    "    else: \n",
    "        _input = _input[zeros:]\n",
    "        print(\"1\\t\", len(_input))\n",
    "\n",
    "    if len(_input) <= 1:\n",
    "        ox = _input[0]\n",
    "        break\n",
    "\n",
    "print(\"_input ox:\", _input)\n",
    "\n",
    "\n",
    "_input = input.copy()\n",
    "\n",
    "for i in range(len(input[0])):\n",
    "    zeros = 0\n",
    "    ones = 0\n",
    "    for inp in _input:\n",
    "        if inp[i] == '0':\n",
    "            zeros += 1\n",
    "        elif inp[i] == '1':\n",
    "            ones += 1\n",
    "        else:\n",
    "            print(\"ERROR!!!!!!!\")\n",
    "\n",
    "        _input.sort()\n",
    "    if zeros > ones:\n",
    "        _input = _input[zeros:]\n",
    "        print(\"1\\t\", len(_input))\n",
    "    else: \n",
    "        _input = _input[:zeros]\n",
    "        print(\"0\\t\", len(_input))\n",
    "\n",
    "    if len(_input) <= 1:\n",
    "        co2 = _input[0]\n",
    "        break\n",
    "\n",
    "print(\"_input co2:\", _input)\n",
    "\n",
    "#print(\"ox:\", ox)\n",
    "#print(\"eps:\", eps)"
   ]
  },
  {
   "cell_type": "code",
   "execution_count": 31,
   "metadata": {},
   "outputs": [
    {
     "name": "stdout",
     "output_type": "stream",
     "text": [
      "2919\n",
      "2005\n"
     ]
    },
    {
     "data": {
      "text/plain": [
       "5852595"
      ]
     },
     "execution_count": 31,
     "metadata": {},
     "output_type": "execute_result"
    }
   ],
   "source": [
    "dec_ox = int(ox, 2)\n",
    "dec_co2 = int(co2, 2)\n",
    "\n",
    "print(dec_ox)\n",
    "print(dec_co2)\n",
    "\n",
    "dec_ox * dec_co2"
   ]
  }
 ],
 "metadata": {
  "interpreter": {
   "hash": "7e80da79a74c610806ea3c79cd0db4485ec1d6b452a579dcc1473735d6a7226c"
  },
  "kernelspec": {
   "display_name": "Python 3.9.5 64-bit",
   "language": "python",
   "name": "python3"
  },
  "language_info": {
   "codemirror_mode": {
    "name": "ipython",
    "version": 3
   },
   "file_extension": ".py",
   "mimetype": "text/x-python",
   "name": "python",
   "nbconvert_exporter": "python",
   "pygments_lexer": "ipython3",
   "version": "3.8.5"
  },
  "orig_nbformat": 4
 },
 "nbformat": 4,
 "nbformat_minor": 2
}
