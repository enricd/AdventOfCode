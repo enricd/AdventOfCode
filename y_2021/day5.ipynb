{
 "cells": [
  {
   "cell_type": "code",
   "execution_count": 9,
   "metadata": {},
   "outputs": [],
   "source": [
    "import numpy as np"
   ]
  },
  {
   "cell_type": "code",
   "execution_count": 10,
   "metadata": {},
   "outputs": [],
   "source": [
    "with open(\"./data_inputs/day5_input.txt\") as f:\n",
    "    input = f.read() \n"
   ]
  },
  {
   "cell_type": "code",
   "execution_count": 11,
   "metadata": {},
   "outputs": [
    {
     "data": {
      "text/plain": [
       "500"
      ]
     },
     "execution_count": 11,
     "metadata": {},
     "output_type": "execute_result"
    }
   ],
   "source": [
    "coords_1 = input.split(\"\\n\")\n",
    "coords_2 = [c.replace(\" -> \", \",\") for c in coords_1]\n",
    "coords_3 = [c.split(\",\") for c in coords_2]\n",
    "coords_4 = [list(map(int, c)) for c in coords_3]\n",
    "len(coords_4)"
   ]
  },
  {
   "cell_type": "code",
   "execution_count": 12,
   "metadata": {},
   "outputs": [],
   "source": [
    "# ----- Part 1 -----\n",
    "\n",
    "coords = [c for c in coords_4 if c[0]==c[2] or c[1]==c[3]]\n",
    "\n",
    "max(coords)\n"
   ]
  },
  {
   "cell_type": "code",
   "execution_count": 14,
   "metadata": {},
   "outputs": [
    {
     "data": {
      "text/plain": [
       "array([[510, 771, 510, 322],\n",
       "       [753,  99, 753, 280],\n",
       "       [160, 330,  33, 330],\n",
       "       ...,\n",
       "       [335, 407, 335, 123],\n",
       "       [717,  37, 600,  37],\n",
       "       [772, 178, 772, 889]], dtype=uint16)"
      ]
     },
     "execution_count": 14,
     "metadata": {},
     "output_type": "execute_result"
    }
   ],
   "source": [
    "coords_arr = np.array(coords, dtype=np.uint16)\n",
    "coords_arr\n"
   ]
  },
  {
   "cell_type": "code",
   "execution_count": 15,
   "metadata": {},
   "outputs": [
    {
     "data": {
      "text/plain": [
       "array([[0, 0, 0, ..., 0, 0, 0],\n",
       "       [0, 0, 0, ..., 0, 0, 0],\n",
       "       [0, 0, 0, ..., 0, 0, 0],\n",
       "       ...,\n",
       "       [0, 0, 0, ..., 0, 0, 0],\n",
       "       [0, 0, 0, ..., 0, 0, 0],\n",
       "       [0, 0, 0, ..., 0, 0, 0]], dtype=uint8)"
      ]
     },
     "execution_count": 15,
     "metadata": {},
     "output_type": "execute_result"
    }
   ],
   "source": [
    "_map = np.zeros((1000,1000), dtype=np.uint8)\n",
    "_map"
   ]
  },
  {
   "cell_type": "code",
   "execution_count": 16,
   "metadata": {},
   "outputs": [],
   "source": [
    "for c in coords_arr:\n",
    "    \n",
    "    # x line\n",
    "    if c[0]==c[2]:\n",
    "        x = c[0]\n",
    "        y = [min(c[1], c[3]), max(c[1], c[3])]\n",
    "        _map[x , y[0]:(y[1]+1)] += 1\n",
    "\n",
    "    # y line\n",
    "    elif c[1]==c[3]:\n",
    "        y = c[1]\n",
    "        x = [min(c[0], c[2]), max(c[0], c[2])]\n",
    "        _map[x[0]:(x[1]+1), y] += 1\n"
   ]
  },
  {
   "cell_type": "code",
   "execution_count": 17,
   "metadata": {},
   "outputs": [
    {
     "data": {
      "text/plain": [
       "6397"
      ]
     },
     "execution_count": 17,
     "metadata": {},
     "output_type": "execute_result"
    }
   ],
   "source": [
    "np.sum(_map > 1)"
   ]
  },
  {
   "cell_type": "code",
   "execution_count": 18,
   "metadata": {},
   "outputs": [],
   "source": [
    "# ----- Part 2 -----\n",
    "\n",
    "for c in coords_4:\n",
    "    if c[0]==c[2] or c[1]==c[3]:\n",
    "        continue\n",
    "    elif np.abs(c[0]-c[2]) == np.abs(c[1]-c[3]):\n",
    "        continue\n",
    "    print(\"Fail:\",c)"
   ]
  },
  {
   "cell_type": "code",
   "execution_count": 19,
   "metadata": {},
   "outputs": [],
   "source": [
    "all_coords = coords_4.copy()\n",
    "all_coords_arr = np.array(all_coords, dtype=np.uint16)\n",
    "\n",
    "map2 = np.zeros((1000,1000), dtype=np.uint8)"
   ]
  },
  {
   "cell_type": "code",
   "execution_count": 21,
   "metadata": {},
   "outputs": [],
   "source": [
    "for c in all_coords_arr:\n",
    "    \n",
    "    # x line\n",
    "    if c[0]==c[2]:\n",
    "        x = c[0]\n",
    "        y = [min(c[1], c[3]), max(c[1], c[3])]\n",
    "        map2[x , y[0]:(y[1]+1)] += 1\n",
    "\n",
    "    # y line\n",
    "    elif c[1]==c[3]:\n",
    "        y = c[1]\n",
    "        x = [min(c[0], c[2]), max(c[0], c[2])]\n",
    "        map2[x[0]:(x[1]+1), y] += 1\n",
    "\n",
    "    else:\n",
    "        x = [c[0], c[2]]\n",
    "        y = [c[1], c[3]]\n",
    "\n",
    "        if x[0] < x[1]:\n",
    "            xr = np.arange(x[0], x[1]+1)\n",
    "        else:\n",
    "            xr = np.arange(x[0], x[1]-1, -1)\n",
    "        if y[0] < y[1]:\n",
    "            yr = np.arange(y[0], y[1]+1)\n",
    "        else:\n",
    "            yr = np.arange(y[0], y[1]-1, -1)\n",
    "\n",
    "        for _xr, _yr in zip(xr, yr):\n",
    "            map2[_xr, _yr] += 1"
   ]
  },
  {
   "cell_type": "code",
   "execution_count": 22,
   "metadata": {},
   "outputs": [
    {
     "data": {
      "text/plain": [
       "22335"
      ]
     },
     "execution_count": 22,
     "metadata": {},
     "output_type": "execute_result"
    }
   ],
   "source": [
    "np.sum(map2 > 1)"
   ]
  }
 ],
 "metadata": {
  "interpreter": {
   "hash": "b1473e23e2dcfee293aee447f6b42f98e7f1a7fdb26f75602c5f40fe7c2af243"
  },
  "kernelspec": {
   "display_name": "Python 3.8.5 64-bit ('base': conda)",
   "language": "python",
   "name": "python3"
  },
  "language_info": {
   "codemirror_mode": {
    "name": "ipython",
    "version": 3
   },
   "file_extension": ".py",
   "mimetype": "text/x-python",
   "name": "python",
   "nbconvert_exporter": "python",
   "pygments_lexer": "ipython3",
   "version": "3.8.5"
  },
  "orig_nbformat": 4
 },
 "nbformat": 4,
 "nbformat_minor": 2
}
